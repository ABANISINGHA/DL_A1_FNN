{
  "nbformat": 4,
  "nbformat_minor": 0,
  "metadata": {
    "colab": {
      "provenance": []
    },
    "kernelspec": {
      "name": "python3",
      "display_name": "Python 3"
    },
    "language_info": {
      "name": "python"
    },
    "widgets": {
      "application/vnd.jupyter.widget-state+json": {
        "726c264dfe61431995fbebb665dc5b05": {
          "model_module": "@jupyter-widgets/controls",
          "model_name": "VBoxModel",
          "model_module_version": "1.5.0",
          "state": {
            "_dom_classes": [],
            "_model_module": "@jupyter-widgets/controls",
            "_model_module_version": "1.5.0",
            "_model_name": "VBoxModel",
            "_view_count": null,
            "_view_module": "@jupyter-widgets/controls",
            "_view_module_version": "1.5.0",
            "_view_name": "VBoxView",
            "box_style": "",
            "children": [
              "IPY_MODEL_5e6bc0506eac4191ad4f8a28f43a4f58",
              "IPY_MODEL_98ac1afe25414c43b5b7d4dee4ebdb1d"
            ],
            "layout": "IPY_MODEL_036ce6afef52456e9a6dc3a48861a3a1"
          }
        },
        "5e6bc0506eac4191ad4f8a28f43a4f58": {
          "model_module": "@jupyter-widgets/controls",
          "model_name": "LabelModel",
          "model_module_version": "1.5.0",
          "state": {
            "_dom_classes": [],
            "_model_module": "@jupyter-widgets/controls",
            "_model_module_version": "1.5.0",
            "_model_name": "LabelModel",
            "_view_count": null,
            "_view_module": "@jupyter-widgets/controls",
            "_view_module_version": "1.5.0",
            "_view_name": "LabelView",
            "description": "",
            "description_tooltip": null,
            "layout": "IPY_MODEL_176049ee2e97494a93ab32d3415a7d14",
            "placeholder": "​",
            "style": "IPY_MODEL_ed0ae91c849a4f04ad0bf087a24ae60e",
            "value": "0.011 MB of 0.011 MB uploaded\r"
          }
        },
        "98ac1afe25414c43b5b7d4dee4ebdb1d": {
          "model_module": "@jupyter-widgets/controls",
          "model_name": "FloatProgressModel",
          "model_module_version": "1.5.0",
          "state": {
            "_dom_classes": [],
            "_model_module": "@jupyter-widgets/controls",
            "_model_module_version": "1.5.0",
            "_model_name": "FloatProgressModel",
            "_view_count": null,
            "_view_module": "@jupyter-widgets/controls",
            "_view_module_version": "1.5.0",
            "_view_name": "ProgressView",
            "bar_style": "",
            "description": "",
            "description_tooltip": null,
            "layout": "IPY_MODEL_a979870da06c4f10a5228a70d4a2638f",
            "max": 1,
            "min": 0,
            "orientation": "horizontal",
            "style": "IPY_MODEL_4d70cf645e9445dbb4ff26ec8478f796",
            "value": 1
          }
        },
        "036ce6afef52456e9a6dc3a48861a3a1": {
          "model_module": "@jupyter-widgets/base",
          "model_name": "LayoutModel",
          "model_module_version": "1.2.0",
          "state": {
            "_model_module": "@jupyter-widgets/base",
            "_model_module_version": "1.2.0",
            "_model_name": "LayoutModel",
            "_view_count": null,
            "_view_module": "@jupyter-widgets/base",
            "_view_module_version": "1.2.0",
            "_view_name": "LayoutView",
            "align_content": null,
            "align_items": null,
            "align_self": null,
            "border": null,
            "bottom": null,
            "display": null,
            "flex": null,
            "flex_flow": null,
            "grid_area": null,
            "grid_auto_columns": null,
            "grid_auto_flow": null,
            "grid_auto_rows": null,
            "grid_column": null,
            "grid_gap": null,
            "grid_row": null,
            "grid_template_areas": null,
            "grid_template_columns": null,
            "grid_template_rows": null,
            "height": null,
            "justify_content": null,
            "justify_items": null,
            "left": null,
            "margin": null,
            "max_height": null,
            "max_width": null,
            "min_height": null,
            "min_width": null,
            "object_fit": null,
            "object_position": null,
            "order": null,
            "overflow": null,
            "overflow_x": null,
            "overflow_y": null,
            "padding": null,
            "right": null,
            "top": null,
            "visibility": null,
            "width": null
          }
        },
        "176049ee2e97494a93ab32d3415a7d14": {
          "model_module": "@jupyter-widgets/base",
          "model_name": "LayoutModel",
          "model_module_version": "1.2.0",
          "state": {
            "_model_module": "@jupyter-widgets/base",
            "_model_module_version": "1.2.0",
            "_model_name": "LayoutModel",
            "_view_count": null,
            "_view_module": "@jupyter-widgets/base",
            "_view_module_version": "1.2.0",
            "_view_name": "LayoutView",
            "align_content": null,
            "align_items": null,
            "align_self": null,
            "border": null,
            "bottom": null,
            "display": null,
            "flex": null,
            "flex_flow": null,
            "grid_area": null,
            "grid_auto_columns": null,
            "grid_auto_flow": null,
            "grid_auto_rows": null,
            "grid_column": null,
            "grid_gap": null,
            "grid_row": null,
            "grid_template_areas": null,
            "grid_template_columns": null,
            "grid_template_rows": null,
            "height": null,
            "justify_content": null,
            "justify_items": null,
            "left": null,
            "margin": null,
            "max_height": null,
            "max_width": null,
            "min_height": null,
            "min_width": null,
            "object_fit": null,
            "object_position": null,
            "order": null,
            "overflow": null,
            "overflow_x": null,
            "overflow_y": null,
            "padding": null,
            "right": null,
            "top": null,
            "visibility": null,
            "width": null
          }
        },
        "ed0ae91c849a4f04ad0bf087a24ae60e": {
          "model_module": "@jupyter-widgets/controls",
          "model_name": "DescriptionStyleModel",
          "model_module_version": "1.5.0",
          "state": {
            "_model_module": "@jupyter-widgets/controls",
            "_model_module_version": "1.5.0",
            "_model_name": "DescriptionStyleModel",
            "_view_count": null,
            "_view_module": "@jupyter-widgets/base",
            "_view_module_version": "1.2.0",
            "_view_name": "StyleView",
            "description_width": ""
          }
        },
        "a979870da06c4f10a5228a70d4a2638f": {
          "model_module": "@jupyter-widgets/base",
          "model_name": "LayoutModel",
          "model_module_version": "1.2.0",
          "state": {
            "_model_module": "@jupyter-widgets/base",
            "_model_module_version": "1.2.0",
            "_model_name": "LayoutModel",
            "_view_count": null,
            "_view_module": "@jupyter-widgets/base",
            "_view_module_version": "1.2.0",
            "_view_name": "LayoutView",
            "align_content": null,
            "align_items": null,
            "align_self": null,
            "border": null,
            "bottom": null,
            "display": null,
            "flex": null,
            "flex_flow": null,
            "grid_area": null,
            "grid_auto_columns": null,
            "grid_auto_flow": null,
            "grid_auto_rows": null,
            "grid_column": null,
            "grid_gap": null,
            "grid_row": null,
            "grid_template_areas": null,
            "grid_template_columns": null,
            "grid_template_rows": null,
            "height": null,
            "justify_content": null,
            "justify_items": null,
            "left": null,
            "margin": null,
            "max_height": null,
            "max_width": null,
            "min_height": null,
            "min_width": null,
            "object_fit": null,
            "object_position": null,
            "order": null,
            "overflow": null,
            "overflow_x": null,
            "overflow_y": null,
            "padding": null,
            "right": null,
            "top": null,
            "visibility": null,
            "width": null
          }
        },
        "4d70cf645e9445dbb4ff26ec8478f796": {
          "model_module": "@jupyter-widgets/controls",
          "model_name": "ProgressStyleModel",
          "model_module_version": "1.5.0",
          "state": {
            "_model_module": "@jupyter-widgets/controls",
            "_model_module_version": "1.5.0",
            "_model_name": "ProgressStyleModel",
            "_view_count": null,
            "_view_module": "@jupyter-widgets/base",
            "_view_module_version": "1.2.0",
            "_view_name": "StyleView",
            "bar_color": null,
            "description_width": ""
          }
        },
        "9416420b83204489ae66e3e15b6d812d": {
          "model_module": "@jupyter-widgets/controls",
          "model_name": "VBoxModel",
          "model_module_version": "1.5.0",
          "state": {
            "_dom_classes": [],
            "_model_module": "@jupyter-widgets/controls",
            "_model_module_version": "1.5.0",
            "_model_name": "VBoxModel",
            "_view_count": null,
            "_view_module": "@jupyter-widgets/controls",
            "_view_module_version": "1.5.0",
            "_view_name": "VBoxView",
            "box_style": "",
            "children": [
              "IPY_MODEL_d5fd51e55112433693159a8d391f48c1",
              "IPY_MODEL_d559ee510d2142d28f6ac9e2ec9ee8f1"
            ],
            "layout": "IPY_MODEL_5378fb122b094c10bcde8b05a2ab3bf8"
          }
        },
        "d5fd51e55112433693159a8d391f48c1": {
          "model_module": "@jupyter-widgets/controls",
          "model_name": "LabelModel",
          "model_module_version": "1.5.0",
          "state": {
            "_dom_classes": [],
            "_model_module": "@jupyter-widgets/controls",
            "_model_module_version": "1.5.0",
            "_model_name": "LabelModel",
            "_view_count": null,
            "_view_module": "@jupyter-widgets/controls",
            "_view_module_version": "1.5.0",
            "_view_name": "LabelView",
            "description": "",
            "description_tooltip": null,
            "layout": "IPY_MODEL_fe809247d803455fa6f25de131474328",
            "placeholder": "​",
            "style": "IPY_MODEL_47979748565646dca8832c26b8d05293",
            "value": "0.011 MB of 0.011 MB uploaded\r"
          }
        },
        "d559ee510d2142d28f6ac9e2ec9ee8f1": {
          "model_module": "@jupyter-widgets/controls",
          "model_name": "FloatProgressModel",
          "model_module_version": "1.5.0",
          "state": {
            "_dom_classes": [],
            "_model_module": "@jupyter-widgets/controls",
            "_model_module_version": "1.5.0",
            "_model_name": "FloatProgressModel",
            "_view_count": null,
            "_view_module": "@jupyter-widgets/controls",
            "_view_module_version": "1.5.0",
            "_view_name": "ProgressView",
            "bar_style": "",
            "description": "",
            "description_tooltip": null,
            "layout": "IPY_MODEL_bdc763c6aa04498ab3afd8fcf8a193c4",
            "max": 1,
            "min": 0,
            "orientation": "horizontal",
            "style": "IPY_MODEL_0f9ee9090de14f47ac078022f40e350c",
            "value": 1
          }
        },
        "5378fb122b094c10bcde8b05a2ab3bf8": {
          "model_module": "@jupyter-widgets/base",
          "model_name": "LayoutModel",
          "model_module_version": "1.2.0",
          "state": {
            "_model_module": "@jupyter-widgets/base",
            "_model_module_version": "1.2.0",
            "_model_name": "LayoutModel",
            "_view_count": null,
            "_view_module": "@jupyter-widgets/base",
            "_view_module_version": "1.2.0",
            "_view_name": "LayoutView",
            "align_content": null,
            "align_items": null,
            "align_self": null,
            "border": null,
            "bottom": null,
            "display": null,
            "flex": null,
            "flex_flow": null,
            "grid_area": null,
            "grid_auto_columns": null,
            "grid_auto_flow": null,
            "grid_auto_rows": null,
            "grid_column": null,
            "grid_gap": null,
            "grid_row": null,
            "grid_template_areas": null,
            "grid_template_columns": null,
            "grid_template_rows": null,
            "height": null,
            "justify_content": null,
            "justify_items": null,
            "left": null,
            "margin": null,
            "max_height": null,
            "max_width": null,
            "min_height": null,
            "min_width": null,
            "object_fit": null,
            "object_position": null,
            "order": null,
            "overflow": null,
            "overflow_x": null,
            "overflow_y": null,
            "padding": null,
            "right": null,
            "top": null,
            "visibility": null,
            "width": null
          }
        },
        "fe809247d803455fa6f25de131474328": {
          "model_module": "@jupyter-widgets/base",
          "model_name": "LayoutModel",
          "model_module_version": "1.2.0",
          "state": {
            "_model_module": "@jupyter-widgets/base",
            "_model_module_version": "1.2.0",
            "_model_name": "LayoutModel",
            "_view_count": null,
            "_view_module": "@jupyter-widgets/base",
            "_view_module_version": "1.2.0",
            "_view_name": "LayoutView",
            "align_content": null,
            "align_items": null,
            "align_self": null,
            "border": null,
            "bottom": null,
            "display": null,
            "flex": null,
            "flex_flow": null,
            "grid_area": null,
            "grid_auto_columns": null,
            "grid_auto_flow": null,
            "grid_auto_rows": null,
            "grid_column": null,
            "grid_gap": null,
            "grid_row": null,
            "grid_template_areas": null,
            "grid_template_columns": null,
            "grid_template_rows": null,
            "height": null,
            "justify_content": null,
            "justify_items": null,
            "left": null,
            "margin": null,
            "max_height": null,
            "max_width": null,
            "min_height": null,
            "min_width": null,
            "object_fit": null,
            "object_position": null,
            "order": null,
            "overflow": null,
            "overflow_x": null,
            "overflow_y": null,
            "padding": null,
            "right": null,
            "top": null,
            "visibility": null,
            "width": null
          }
        },
        "47979748565646dca8832c26b8d05293": {
          "model_module": "@jupyter-widgets/controls",
          "model_name": "DescriptionStyleModel",
          "model_module_version": "1.5.0",
          "state": {
            "_model_module": "@jupyter-widgets/controls",
            "_model_module_version": "1.5.0",
            "_model_name": "DescriptionStyleModel",
            "_view_count": null,
            "_view_module": "@jupyter-widgets/base",
            "_view_module_version": "1.2.0",
            "_view_name": "StyleView",
            "description_width": ""
          }
        },
        "bdc763c6aa04498ab3afd8fcf8a193c4": {
          "model_module": "@jupyter-widgets/base",
          "model_name": "LayoutModel",
          "model_module_version": "1.2.0",
          "state": {
            "_model_module": "@jupyter-widgets/base",
            "_model_module_version": "1.2.0",
            "_model_name": "LayoutModel",
            "_view_count": null,
            "_view_module": "@jupyter-widgets/base",
            "_view_module_version": "1.2.0",
            "_view_name": "LayoutView",
            "align_content": null,
            "align_items": null,
            "align_self": null,
            "border": null,
            "bottom": null,
            "display": null,
            "flex": null,
            "flex_flow": null,
            "grid_area": null,
            "grid_auto_columns": null,
            "grid_auto_flow": null,
            "grid_auto_rows": null,
            "grid_column": null,
            "grid_gap": null,
            "grid_row": null,
            "grid_template_areas": null,
            "grid_template_columns": null,
            "grid_template_rows": null,
            "height": null,
            "justify_content": null,
            "justify_items": null,
            "left": null,
            "margin": null,
            "max_height": null,
            "max_width": null,
            "min_height": null,
            "min_width": null,
            "object_fit": null,
            "object_position": null,
            "order": null,
            "overflow": null,
            "overflow_x": null,
            "overflow_y": null,
            "padding": null,
            "right": null,
            "top": null,
            "visibility": null,
            "width": null
          }
        },
        "0f9ee9090de14f47ac078022f40e350c": {
          "model_module": "@jupyter-widgets/controls",
          "model_name": "ProgressStyleModel",
          "model_module_version": "1.5.0",
          "state": {
            "_model_module": "@jupyter-widgets/controls",
            "_model_module_version": "1.5.0",
            "_model_name": "ProgressStyleModel",
            "_view_count": null,
            "_view_module": "@jupyter-widgets/base",
            "_view_module_version": "1.2.0",
            "_view_name": "StyleView",
            "bar_color": null,
            "description_width": ""
          }
        },
        "06e3c0b6e8b540239bf9c723db20458a": {
          "model_module": "@jupyter-widgets/controls",
          "model_name": "VBoxModel",
          "model_module_version": "1.5.0",
          "state": {
            "_dom_classes": [],
            "_model_module": "@jupyter-widgets/controls",
            "_model_module_version": "1.5.0",
            "_model_name": "VBoxModel",
            "_view_count": null,
            "_view_module": "@jupyter-widgets/controls",
            "_view_module_version": "1.5.0",
            "_view_name": "VBoxView",
            "box_style": "",
            "children": [
              "IPY_MODEL_c86f7988a2c44866bd700aa79b22ab1b",
              "IPY_MODEL_4c0d6180d9684e9da56ebc4cbe5cc6ff"
            ],
            "layout": "IPY_MODEL_38b2e1a76f0446bc9be125935bbce208"
          }
        },
        "c86f7988a2c44866bd700aa79b22ab1b": {
          "model_module": "@jupyter-widgets/controls",
          "model_name": "LabelModel",
          "model_module_version": "1.5.0",
          "state": {
            "_dom_classes": [],
            "_model_module": "@jupyter-widgets/controls",
            "_model_module_version": "1.5.0",
            "_model_name": "LabelModel",
            "_view_count": null,
            "_view_module": "@jupyter-widgets/controls",
            "_view_module_version": "1.5.0",
            "_view_name": "LabelView",
            "description": "",
            "description_tooltip": null,
            "layout": "IPY_MODEL_5ded585d738e4fb49e28271c01bd95fb",
            "placeholder": "​",
            "style": "IPY_MODEL_a3393050fbc9472d9a08cf12b24a2a54",
            "value": "0.011 MB of 0.011 MB uploaded\r"
          }
        },
        "4c0d6180d9684e9da56ebc4cbe5cc6ff": {
          "model_module": "@jupyter-widgets/controls",
          "model_name": "FloatProgressModel",
          "model_module_version": "1.5.0",
          "state": {
            "_dom_classes": [],
            "_model_module": "@jupyter-widgets/controls",
            "_model_module_version": "1.5.0",
            "_model_name": "FloatProgressModel",
            "_view_count": null,
            "_view_module": "@jupyter-widgets/controls",
            "_view_module_version": "1.5.0",
            "_view_name": "ProgressView",
            "bar_style": "",
            "description": "",
            "description_tooltip": null,
            "layout": "IPY_MODEL_411b808764a24e86b1fecf5a21320f0f",
            "max": 1,
            "min": 0,
            "orientation": "horizontal",
            "style": "IPY_MODEL_846884ac06c54a7181f7d1340eab39d9",
            "value": 1
          }
        },
        "38b2e1a76f0446bc9be125935bbce208": {
          "model_module": "@jupyter-widgets/base",
          "model_name": "LayoutModel",
          "model_module_version": "1.2.0",
          "state": {
            "_model_module": "@jupyter-widgets/base",
            "_model_module_version": "1.2.0",
            "_model_name": "LayoutModel",
            "_view_count": null,
            "_view_module": "@jupyter-widgets/base",
            "_view_module_version": "1.2.0",
            "_view_name": "LayoutView",
            "align_content": null,
            "align_items": null,
            "align_self": null,
            "border": null,
            "bottom": null,
            "display": null,
            "flex": null,
            "flex_flow": null,
            "grid_area": null,
            "grid_auto_columns": null,
            "grid_auto_flow": null,
            "grid_auto_rows": null,
            "grid_column": null,
            "grid_gap": null,
            "grid_row": null,
            "grid_template_areas": null,
            "grid_template_columns": null,
            "grid_template_rows": null,
            "height": null,
            "justify_content": null,
            "justify_items": null,
            "left": null,
            "margin": null,
            "max_height": null,
            "max_width": null,
            "min_height": null,
            "min_width": null,
            "object_fit": null,
            "object_position": null,
            "order": null,
            "overflow": null,
            "overflow_x": null,
            "overflow_y": null,
            "padding": null,
            "right": null,
            "top": null,
            "visibility": null,
            "width": null
          }
        },
        "5ded585d738e4fb49e28271c01bd95fb": {
          "model_module": "@jupyter-widgets/base",
          "model_name": "LayoutModel",
          "model_module_version": "1.2.0",
          "state": {
            "_model_module": "@jupyter-widgets/base",
            "_model_module_version": "1.2.0",
            "_model_name": "LayoutModel",
            "_view_count": null,
            "_view_module": "@jupyter-widgets/base",
            "_view_module_version": "1.2.0",
            "_view_name": "LayoutView",
            "align_content": null,
            "align_items": null,
            "align_self": null,
            "border": null,
            "bottom": null,
            "display": null,
            "flex": null,
            "flex_flow": null,
            "grid_area": null,
            "grid_auto_columns": null,
            "grid_auto_flow": null,
            "grid_auto_rows": null,
            "grid_column": null,
            "grid_gap": null,
            "grid_row": null,
            "grid_template_areas": null,
            "grid_template_columns": null,
            "grid_template_rows": null,
            "height": null,
            "justify_content": null,
            "justify_items": null,
            "left": null,
            "margin": null,
            "max_height": null,
            "max_width": null,
            "min_height": null,
            "min_width": null,
            "object_fit": null,
            "object_position": null,
            "order": null,
            "overflow": null,
            "overflow_x": null,
            "overflow_y": null,
            "padding": null,
            "right": null,
            "top": null,
            "visibility": null,
            "width": null
          }
        },
        "a3393050fbc9472d9a08cf12b24a2a54": {
          "model_module": "@jupyter-widgets/controls",
          "model_name": "DescriptionStyleModel",
          "model_module_version": "1.5.0",
          "state": {
            "_model_module": "@jupyter-widgets/controls",
            "_model_module_version": "1.5.0",
            "_model_name": "DescriptionStyleModel",
            "_view_count": null,
            "_view_module": "@jupyter-widgets/base",
            "_view_module_version": "1.2.0",
            "_view_name": "StyleView",
            "description_width": ""
          }
        },
        "411b808764a24e86b1fecf5a21320f0f": {
          "model_module": "@jupyter-widgets/base",
          "model_name": "LayoutModel",
          "model_module_version": "1.2.0",
          "state": {
            "_model_module": "@jupyter-widgets/base",
            "_model_module_version": "1.2.0",
            "_model_name": "LayoutModel",
            "_view_count": null,
            "_view_module": "@jupyter-widgets/base",
            "_view_module_version": "1.2.0",
            "_view_name": "LayoutView",
            "align_content": null,
            "align_items": null,
            "align_self": null,
            "border": null,
            "bottom": null,
            "display": null,
            "flex": null,
            "flex_flow": null,
            "grid_area": null,
            "grid_auto_columns": null,
            "grid_auto_flow": null,
            "grid_auto_rows": null,
            "grid_column": null,
            "grid_gap": null,
            "grid_row": null,
            "grid_template_areas": null,
            "grid_template_columns": null,
            "grid_template_rows": null,
            "height": null,
            "justify_content": null,
            "justify_items": null,
            "left": null,
            "margin": null,
            "max_height": null,
            "max_width": null,
            "min_height": null,
            "min_width": null,
            "object_fit": null,
            "object_position": null,
            "order": null,
            "overflow": null,
            "overflow_x": null,
            "overflow_y": null,
            "padding": null,
            "right": null,
            "top": null,
            "visibility": null,
            "width": null
          }
        },
        "846884ac06c54a7181f7d1340eab39d9": {
          "model_module": "@jupyter-widgets/controls",
          "model_name": "ProgressStyleModel",
          "model_module_version": "1.5.0",
          "state": {
            "_model_module": "@jupyter-widgets/controls",
            "_model_module_version": "1.5.0",
            "_model_name": "ProgressStyleModel",
            "_view_count": null,
            "_view_module": "@jupyter-widgets/base",
            "_view_module_version": "1.2.0",
            "_view_name": "StyleView",
            "bar_color": null,
            "description_width": ""
          }
        },
        "265720ceb4c44d5fbc837b8b9e317704": {
          "model_module": "@jupyter-widgets/controls",
          "model_name": "VBoxModel",
          "model_module_version": "1.5.0",
          "state": {
            "_dom_classes": [],
            "_model_module": "@jupyter-widgets/controls",
            "_model_module_version": "1.5.0",
            "_model_name": "VBoxModel",
            "_view_count": null,
            "_view_module": "@jupyter-widgets/controls",
            "_view_module_version": "1.5.0",
            "_view_name": "VBoxView",
            "box_style": "",
            "children": [
              "IPY_MODEL_5c5d95a84d9542f296fc89641efa0b89",
              "IPY_MODEL_383044ca45e349319a53611ab4fb762e"
            ],
            "layout": "IPY_MODEL_974c5c6129014032955d01cfd733c416"
          }
        },
        "5c5d95a84d9542f296fc89641efa0b89": {
          "model_module": "@jupyter-widgets/controls",
          "model_name": "LabelModel",
          "model_module_version": "1.5.0",
          "state": {
            "_dom_classes": [],
            "_model_module": "@jupyter-widgets/controls",
            "_model_module_version": "1.5.0",
            "_model_name": "LabelModel",
            "_view_count": null,
            "_view_module": "@jupyter-widgets/controls",
            "_view_module_version": "1.5.0",
            "_view_name": "LabelView",
            "description": "",
            "description_tooltip": null,
            "layout": "IPY_MODEL_d316573f7c8848feb5a36b19e03555a3",
            "placeholder": "​",
            "style": "IPY_MODEL_76eb2b6f09d84857b7680bd0901f58e5",
            "value": "0.011 MB of 0.011 MB uploaded\r"
          }
        },
        "383044ca45e349319a53611ab4fb762e": {
          "model_module": "@jupyter-widgets/controls",
          "model_name": "FloatProgressModel",
          "model_module_version": "1.5.0",
          "state": {
            "_dom_classes": [],
            "_model_module": "@jupyter-widgets/controls",
            "_model_module_version": "1.5.0",
            "_model_name": "FloatProgressModel",
            "_view_count": null,
            "_view_module": "@jupyter-widgets/controls",
            "_view_module_version": "1.5.0",
            "_view_name": "ProgressView",
            "bar_style": "",
            "description": "",
            "description_tooltip": null,
            "layout": "IPY_MODEL_3b41d5f7eb6b4889bb8ea7fb689125f8",
            "max": 1,
            "min": 0,
            "orientation": "horizontal",
            "style": "IPY_MODEL_fdc8ef2a431343b6838a3d91e8875f6b",
            "value": 1
          }
        },
        "974c5c6129014032955d01cfd733c416": {
          "model_module": "@jupyter-widgets/base",
          "model_name": "LayoutModel",
          "model_module_version": "1.2.0",
          "state": {
            "_model_module": "@jupyter-widgets/base",
            "_model_module_version": "1.2.0",
            "_model_name": "LayoutModel",
            "_view_count": null,
            "_view_module": "@jupyter-widgets/base",
            "_view_module_version": "1.2.0",
            "_view_name": "LayoutView",
            "align_content": null,
            "align_items": null,
            "align_self": null,
            "border": null,
            "bottom": null,
            "display": null,
            "flex": null,
            "flex_flow": null,
            "grid_area": null,
            "grid_auto_columns": null,
            "grid_auto_flow": null,
            "grid_auto_rows": null,
            "grid_column": null,
            "grid_gap": null,
            "grid_row": null,
            "grid_template_areas": null,
            "grid_template_columns": null,
            "grid_template_rows": null,
            "height": null,
            "justify_content": null,
            "justify_items": null,
            "left": null,
            "margin": null,
            "max_height": null,
            "max_width": null,
            "min_height": null,
            "min_width": null,
            "object_fit": null,
            "object_position": null,
            "order": null,
            "overflow": null,
            "overflow_x": null,
            "overflow_y": null,
            "padding": null,
            "right": null,
            "top": null,
            "visibility": null,
            "width": null
          }
        },
        "d316573f7c8848feb5a36b19e03555a3": {
          "model_module": "@jupyter-widgets/base",
          "model_name": "LayoutModel",
          "model_module_version": "1.2.0",
          "state": {
            "_model_module": "@jupyter-widgets/base",
            "_model_module_version": "1.2.0",
            "_model_name": "LayoutModel",
            "_view_count": null,
            "_view_module": "@jupyter-widgets/base",
            "_view_module_version": "1.2.0",
            "_view_name": "LayoutView",
            "align_content": null,
            "align_items": null,
            "align_self": null,
            "border": null,
            "bottom": null,
            "display": null,
            "flex": null,
            "flex_flow": null,
            "grid_area": null,
            "grid_auto_columns": null,
            "grid_auto_flow": null,
            "grid_auto_rows": null,
            "grid_column": null,
            "grid_gap": null,
            "grid_row": null,
            "grid_template_areas": null,
            "grid_template_columns": null,
            "grid_template_rows": null,
            "height": null,
            "justify_content": null,
            "justify_items": null,
            "left": null,
            "margin": null,
            "max_height": null,
            "max_width": null,
            "min_height": null,
            "min_width": null,
            "object_fit": null,
            "object_position": null,
            "order": null,
            "overflow": null,
            "overflow_x": null,
            "overflow_y": null,
            "padding": null,
            "right": null,
            "top": null,
            "visibility": null,
            "width": null
          }
        },
        "76eb2b6f09d84857b7680bd0901f58e5": {
          "model_module": "@jupyter-widgets/controls",
          "model_name": "DescriptionStyleModel",
          "model_module_version": "1.5.0",
          "state": {
            "_model_module": "@jupyter-widgets/controls",
            "_model_module_version": "1.5.0",
            "_model_name": "DescriptionStyleModel",
            "_view_count": null,
            "_view_module": "@jupyter-widgets/base",
            "_view_module_version": "1.2.0",
            "_view_name": "StyleView",
            "description_width": ""
          }
        },
        "3b41d5f7eb6b4889bb8ea7fb689125f8": {
          "model_module": "@jupyter-widgets/base",
          "model_name": "LayoutModel",
          "model_module_version": "1.2.0",
          "state": {
            "_model_module": "@jupyter-widgets/base",
            "_model_module_version": "1.2.0",
            "_model_name": "LayoutModel",
            "_view_count": null,
            "_view_module": "@jupyter-widgets/base",
            "_view_module_version": "1.2.0",
            "_view_name": "LayoutView",
            "align_content": null,
            "align_items": null,
            "align_self": null,
            "border": null,
            "bottom": null,
            "display": null,
            "flex": null,
            "flex_flow": null,
            "grid_area": null,
            "grid_auto_columns": null,
            "grid_auto_flow": null,
            "grid_auto_rows": null,
            "grid_column": null,
            "grid_gap": null,
            "grid_row": null,
            "grid_template_areas": null,
            "grid_template_columns": null,
            "grid_template_rows": null,
            "height": null,
            "justify_content": null,
            "justify_items": null,
            "left": null,
            "margin": null,
            "max_height": null,
            "max_width": null,
            "min_height": null,
            "min_width": null,
            "object_fit": null,
            "object_position": null,
            "order": null,
            "overflow": null,
            "overflow_x": null,
            "overflow_y": null,
            "padding": null,
            "right": null,
            "top": null,
            "visibility": null,
            "width": null
          }
        },
        "fdc8ef2a431343b6838a3d91e8875f6b": {
          "model_module": "@jupyter-widgets/controls",
          "model_name": "ProgressStyleModel",
          "model_module_version": "1.5.0",
          "state": {
            "_model_module": "@jupyter-widgets/controls",
            "_model_module_version": "1.5.0",
            "_model_name": "ProgressStyleModel",
            "_view_count": null,
            "_view_module": "@jupyter-widgets/base",
            "_view_module_version": "1.2.0",
            "_view_name": "StyleView",
            "bar_color": null,
            "description_width": ""
          }
        },
        "21d60beed29841e5bcda9ddddef9cd50": {
          "model_module": "@jupyter-widgets/controls",
          "model_name": "VBoxModel",
          "model_module_version": "1.5.0",
          "state": {
            "_dom_classes": [],
            "_model_module": "@jupyter-widgets/controls",
            "_model_module_version": "1.5.0",
            "_model_name": "VBoxModel",
            "_view_count": null,
            "_view_module": "@jupyter-widgets/controls",
            "_view_module_version": "1.5.0",
            "_view_name": "VBoxView",
            "box_style": "",
            "children": [
              "IPY_MODEL_f8daca4f228547049402c8cf10bcab9d",
              "IPY_MODEL_0feaee9f3bc7498baa0508444abd95f2"
            ],
            "layout": "IPY_MODEL_2e7d770697dc496a8e83d22cf478b1d4"
          }
        },
        "f8daca4f228547049402c8cf10bcab9d": {
          "model_module": "@jupyter-widgets/controls",
          "model_name": "LabelModel",
          "model_module_version": "1.5.0",
          "state": {
            "_dom_classes": [],
            "_model_module": "@jupyter-widgets/controls",
            "_model_module_version": "1.5.0",
            "_model_name": "LabelModel",
            "_view_count": null,
            "_view_module": "@jupyter-widgets/controls",
            "_view_module_version": "1.5.0",
            "_view_name": "LabelView",
            "description": "",
            "description_tooltip": null,
            "layout": "IPY_MODEL_cef220ed21ca4c34b6f7c6d7428ad797",
            "placeholder": "​",
            "style": "IPY_MODEL_4c0224061c424ddf8aa7dcdc8cb583fc",
            "value": "0.011 MB of 0.011 MB uploaded\r"
          }
        },
        "0feaee9f3bc7498baa0508444abd95f2": {
          "model_module": "@jupyter-widgets/controls",
          "model_name": "FloatProgressModel",
          "model_module_version": "1.5.0",
          "state": {
            "_dom_classes": [],
            "_model_module": "@jupyter-widgets/controls",
            "_model_module_version": "1.5.0",
            "_model_name": "FloatProgressModel",
            "_view_count": null,
            "_view_module": "@jupyter-widgets/controls",
            "_view_module_version": "1.5.0",
            "_view_name": "ProgressView",
            "bar_style": "",
            "description": "",
            "description_tooltip": null,
            "layout": "IPY_MODEL_0b614ef641fd4d9c9465285ce5a70a37",
            "max": 1,
            "min": 0,
            "orientation": "horizontal",
            "style": "IPY_MODEL_a479206369bd444fa915fdef503e5541",
            "value": 1
          }
        },
        "2e7d770697dc496a8e83d22cf478b1d4": {
          "model_module": "@jupyter-widgets/base",
          "model_name": "LayoutModel",
          "model_module_version": "1.2.0",
          "state": {
            "_model_module": "@jupyter-widgets/base",
            "_model_module_version": "1.2.0",
            "_model_name": "LayoutModel",
            "_view_count": null,
            "_view_module": "@jupyter-widgets/base",
            "_view_module_version": "1.2.0",
            "_view_name": "LayoutView",
            "align_content": null,
            "align_items": null,
            "align_self": null,
            "border": null,
            "bottom": null,
            "display": null,
            "flex": null,
            "flex_flow": null,
            "grid_area": null,
            "grid_auto_columns": null,
            "grid_auto_flow": null,
            "grid_auto_rows": null,
            "grid_column": null,
            "grid_gap": null,
            "grid_row": null,
            "grid_template_areas": null,
            "grid_template_columns": null,
            "grid_template_rows": null,
            "height": null,
            "justify_content": null,
            "justify_items": null,
            "left": null,
            "margin": null,
            "max_height": null,
            "max_width": null,
            "min_height": null,
            "min_width": null,
            "object_fit": null,
            "object_position": null,
            "order": null,
            "overflow": null,
            "overflow_x": null,
            "overflow_y": null,
            "padding": null,
            "right": null,
            "top": null,
            "visibility": null,
            "width": null
          }
        },
        "cef220ed21ca4c34b6f7c6d7428ad797": {
          "model_module": "@jupyter-widgets/base",
          "model_name": "LayoutModel",
          "model_module_version": "1.2.0",
          "state": {
            "_model_module": "@jupyter-widgets/base",
            "_model_module_version": "1.2.0",
            "_model_name": "LayoutModel",
            "_view_count": null,
            "_view_module": "@jupyter-widgets/base",
            "_view_module_version": "1.2.0",
            "_view_name": "LayoutView",
            "align_content": null,
            "align_items": null,
            "align_self": null,
            "border": null,
            "bottom": null,
            "display": null,
            "flex": null,
            "flex_flow": null,
            "grid_area": null,
            "grid_auto_columns": null,
            "grid_auto_flow": null,
            "grid_auto_rows": null,
            "grid_column": null,
            "grid_gap": null,
            "grid_row": null,
            "grid_template_areas": null,
            "grid_template_columns": null,
            "grid_template_rows": null,
            "height": null,
            "justify_content": null,
            "justify_items": null,
            "left": null,
            "margin": null,
            "max_height": null,
            "max_width": null,
            "min_height": null,
            "min_width": null,
            "object_fit": null,
            "object_position": null,
            "order": null,
            "overflow": null,
            "overflow_x": null,
            "overflow_y": null,
            "padding": null,
            "right": null,
            "top": null,
            "visibility": null,
            "width": null
          }
        },
        "4c0224061c424ddf8aa7dcdc8cb583fc": {
          "model_module": "@jupyter-widgets/controls",
          "model_name": "DescriptionStyleModel",
          "model_module_version": "1.5.0",
          "state": {
            "_model_module": "@jupyter-widgets/controls",
            "_model_module_version": "1.5.0",
            "_model_name": "DescriptionStyleModel",
            "_view_count": null,
            "_view_module": "@jupyter-widgets/base",
            "_view_module_version": "1.2.0",
            "_view_name": "StyleView",
            "description_width": ""
          }
        },
        "0b614ef641fd4d9c9465285ce5a70a37": {
          "model_module": "@jupyter-widgets/base",
          "model_name": "LayoutModel",
          "model_module_version": "1.2.0",
          "state": {
            "_model_module": "@jupyter-widgets/base",
            "_model_module_version": "1.2.0",
            "_model_name": "LayoutModel",
            "_view_count": null,
            "_view_module": "@jupyter-widgets/base",
            "_view_module_version": "1.2.0",
            "_view_name": "LayoutView",
            "align_content": null,
            "align_items": null,
            "align_self": null,
            "border": null,
            "bottom": null,
            "display": null,
            "flex": null,
            "flex_flow": null,
            "grid_area": null,
            "grid_auto_columns": null,
            "grid_auto_flow": null,
            "grid_auto_rows": null,
            "grid_column": null,
            "grid_gap": null,
            "grid_row": null,
            "grid_template_areas": null,
            "grid_template_columns": null,
            "grid_template_rows": null,
            "height": null,
            "justify_content": null,
            "justify_items": null,
            "left": null,
            "margin": null,
            "max_height": null,
            "max_width": null,
            "min_height": null,
            "min_width": null,
            "object_fit": null,
            "object_position": null,
            "order": null,
            "overflow": null,
            "overflow_x": null,
            "overflow_y": null,
            "padding": null,
            "right": null,
            "top": null,
            "visibility": null,
            "width": null
          }
        },
        "a479206369bd444fa915fdef503e5541": {
          "model_module": "@jupyter-widgets/controls",
          "model_name": "ProgressStyleModel",
          "model_module_version": "1.5.0",
          "state": {
            "_model_module": "@jupyter-widgets/controls",
            "_model_module_version": "1.5.0",
            "_model_name": "ProgressStyleModel",
            "_view_count": null,
            "_view_module": "@jupyter-widgets/base",
            "_view_module_version": "1.2.0",
            "_view_name": "StyleView",
            "bar_color": null,
            "description_width": ""
          }
        },
        "6d32950eb7114ddbbd031309dc965000": {
          "model_module": "@jupyter-widgets/controls",
          "model_name": "VBoxModel",
          "model_module_version": "1.5.0",
          "state": {
            "_dom_classes": [],
            "_model_module": "@jupyter-widgets/controls",
            "_model_module_version": "1.5.0",
            "_model_name": "VBoxModel",
            "_view_count": null,
            "_view_module": "@jupyter-widgets/controls",
            "_view_module_version": "1.5.0",
            "_view_name": "VBoxView",
            "box_style": "",
            "children": [
              "IPY_MODEL_a71fa33ea9b44542bd9d3263bbf77eba",
              "IPY_MODEL_f68c0743f71c46bba5d4f414ff23515a"
            ],
            "layout": "IPY_MODEL_59ce90eb930c4b098d5a46a129ea1d5d"
          }
        },
        "a71fa33ea9b44542bd9d3263bbf77eba": {
          "model_module": "@jupyter-widgets/controls",
          "model_name": "LabelModel",
          "model_module_version": "1.5.0",
          "state": {
            "_dom_classes": [],
            "_model_module": "@jupyter-widgets/controls",
            "_model_module_version": "1.5.0",
            "_model_name": "LabelModel",
            "_view_count": null,
            "_view_module": "@jupyter-widgets/controls",
            "_view_module_version": "1.5.0",
            "_view_name": "LabelView",
            "description": "",
            "description_tooltip": null,
            "layout": "IPY_MODEL_24a22c007ddc4653ada58790568b3401",
            "placeholder": "​",
            "style": "IPY_MODEL_ffd5b41a33af458a9711c0f1dd690828",
            "value": "0.011 MB of 0.011 MB uploaded\r"
          }
        },
        "f68c0743f71c46bba5d4f414ff23515a": {
          "model_module": "@jupyter-widgets/controls",
          "model_name": "FloatProgressModel",
          "model_module_version": "1.5.0",
          "state": {
            "_dom_classes": [],
            "_model_module": "@jupyter-widgets/controls",
            "_model_module_version": "1.5.0",
            "_model_name": "FloatProgressModel",
            "_view_count": null,
            "_view_module": "@jupyter-widgets/controls",
            "_view_module_version": "1.5.0",
            "_view_name": "ProgressView",
            "bar_style": "",
            "description": "",
            "description_tooltip": null,
            "layout": "IPY_MODEL_8da2ab08431f4d859658e696d48e0ebf",
            "max": 1,
            "min": 0,
            "orientation": "horizontal",
            "style": "IPY_MODEL_84ebef969cf04eb1be627fb0d597672f",
            "value": 1
          }
        },
        "59ce90eb930c4b098d5a46a129ea1d5d": {
          "model_module": "@jupyter-widgets/base",
          "model_name": "LayoutModel",
          "model_module_version": "1.2.0",
          "state": {
            "_model_module": "@jupyter-widgets/base",
            "_model_module_version": "1.2.0",
            "_model_name": "LayoutModel",
            "_view_count": null,
            "_view_module": "@jupyter-widgets/base",
            "_view_module_version": "1.2.0",
            "_view_name": "LayoutView",
            "align_content": null,
            "align_items": null,
            "align_self": null,
            "border": null,
            "bottom": null,
            "display": null,
            "flex": null,
            "flex_flow": null,
            "grid_area": null,
            "grid_auto_columns": null,
            "grid_auto_flow": null,
            "grid_auto_rows": null,
            "grid_column": null,
            "grid_gap": null,
            "grid_row": null,
            "grid_template_areas": null,
            "grid_template_columns": null,
            "grid_template_rows": null,
            "height": null,
            "justify_content": null,
            "justify_items": null,
            "left": null,
            "margin": null,
            "max_height": null,
            "max_width": null,
            "min_height": null,
            "min_width": null,
            "object_fit": null,
            "object_position": null,
            "order": null,
            "overflow": null,
            "overflow_x": null,
            "overflow_y": null,
            "padding": null,
            "right": null,
            "top": null,
            "visibility": null,
            "width": null
          }
        },
        "24a22c007ddc4653ada58790568b3401": {
          "model_module": "@jupyter-widgets/base",
          "model_name": "LayoutModel",
          "model_module_version": "1.2.0",
          "state": {
            "_model_module": "@jupyter-widgets/base",
            "_model_module_version": "1.2.0",
            "_model_name": "LayoutModel",
            "_view_count": null,
            "_view_module": "@jupyter-widgets/base",
            "_view_module_version": "1.2.0",
            "_view_name": "LayoutView",
            "align_content": null,
            "align_items": null,
            "align_self": null,
            "border": null,
            "bottom": null,
            "display": null,
            "flex": null,
            "flex_flow": null,
            "grid_area": null,
            "grid_auto_columns": null,
            "grid_auto_flow": null,
            "grid_auto_rows": null,
            "grid_column": null,
            "grid_gap": null,
            "grid_row": null,
            "grid_template_areas": null,
            "grid_template_columns": null,
            "grid_template_rows": null,
            "height": null,
            "justify_content": null,
            "justify_items": null,
            "left": null,
            "margin": null,
            "max_height": null,
            "max_width": null,
            "min_height": null,
            "min_width": null,
            "object_fit": null,
            "object_position": null,
            "order": null,
            "overflow": null,
            "overflow_x": null,
            "overflow_y": null,
            "padding": null,
            "right": null,
            "top": null,
            "visibility": null,
            "width": null
          }
        },
        "ffd5b41a33af458a9711c0f1dd690828": {
          "model_module": "@jupyter-widgets/controls",
          "model_name": "DescriptionStyleModel",
          "model_module_version": "1.5.0",
          "state": {
            "_model_module": "@jupyter-widgets/controls",
            "_model_module_version": "1.5.0",
            "_model_name": "DescriptionStyleModel",
            "_view_count": null,
            "_view_module": "@jupyter-widgets/base",
            "_view_module_version": "1.2.0",
            "_view_name": "StyleView",
            "description_width": ""
          }
        },
        "8da2ab08431f4d859658e696d48e0ebf": {
          "model_module": "@jupyter-widgets/base",
          "model_name": "LayoutModel",
          "model_module_version": "1.2.0",
          "state": {
            "_model_module": "@jupyter-widgets/base",
            "_model_module_version": "1.2.0",
            "_model_name": "LayoutModel",
            "_view_count": null,
            "_view_module": "@jupyter-widgets/base",
            "_view_module_version": "1.2.0",
            "_view_name": "LayoutView",
            "align_content": null,
            "align_items": null,
            "align_self": null,
            "border": null,
            "bottom": null,
            "display": null,
            "flex": null,
            "flex_flow": null,
            "grid_area": null,
            "grid_auto_columns": null,
            "grid_auto_flow": null,
            "grid_auto_rows": null,
            "grid_column": null,
            "grid_gap": null,
            "grid_row": null,
            "grid_template_areas": null,
            "grid_template_columns": null,
            "grid_template_rows": null,
            "height": null,
            "justify_content": null,
            "justify_items": null,
            "left": null,
            "margin": null,
            "max_height": null,
            "max_width": null,
            "min_height": null,
            "min_width": null,
            "object_fit": null,
            "object_position": null,
            "order": null,
            "overflow": null,
            "overflow_x": null,
            "overflow_y": null,
            "padding": null,
            "right": null,
            "top": null,
            "visibility": null,
            "width": null
          }
        },
        "84ebef969cf04eb1be627fb0d597672f": {
          "model_module": "@jupyter-widgets/controls",
          "model_name": "ProgressStyleModel",
          "model_module_version": "1.5.0",
          "state": {
            "_model_module": "@jupyter-widgets/controls",
            "_model_module_version": "1.5.0",
            "_model_name": "ProgressStyleModel",
            "_view_count": null,
            "_view_module": "@jupyter-widgets/base",
            "_view_module_version": "1.2.0",
            "_view_name": "StyleView",
            "bar_color": null,
            "description_width": ""
          }
        },
        "1399907d10724c6cb71e77197f00a719": {
          "model_module": "@jupyter-widgets/controls",
          "model_name": "VBoxModel",
          "model_module_version": "1.5.0",
          "state": {
            "_dom_classes": [],
            "_model_module": "@jupyter-widgets/controls",
            "_model_module_version": "1.5.0",
            "_model_name": "VBoxModel",
            "_view_count": null,
            "_view_module": "@jupyter-widgets/controls",
            "_view_module_version": "1.5.0",
            "_view_name": "VBoxView",
            "box_style": "",
            "children": [
              "IPY_MODEL_b4542cc600774674addde57b7d1f3d30",
              "IPY_MODEL_f973702469044cd3893d6953268590a0"
            ],
            "layout": "IPY_MODEL_7cb4fb997418453585dee8b77859af97"
          }
        },
        "b4542cc600774674addde57b7d1f3d30": {
          "model_module": "@jupyter-widgets/controls",
          "model_name": "LabelModel",
          "model_module_version": "1.5.0",
          "state": {
            "_dom_classes": [],
            "_model_module": "@jupyter-widgets/controls",
            "_model_module_version": "1.5.0",
            "_model_name": "LabelModel",
            "_view_count": null,
            "_view_module": "@jupyter-widgets/controls",
            "_view_module_version": "1.5.0",
            "_view_name": "LabelView",
            "description": "",
            "description_tooltip": null,
            "layout": "IPY_MODEL_93fe4fd1477c44dfb99c2f4bdcb8dd5f",
            "placeholder": "​",
            "style": "IPY_MODEL_e694de5784e64118964c6c7ebdd760ad",
            "value": "0.011 MB of 0.011 MB uploaded\r"
          }
        },
        "f973702469044cd3893d6953268590a0": {
          "model_module": "@jupyter-widgets/controls",
          "model_name": "FloatProgressModel",
          "model_module_version": "1.5.0",
          "state": {
            "_dom_classes": [],
            "_model_module": "@jupyter-widgets/controls",
            "_model_module_version": "1.5.0",
            "_model_name": "FloatProgressModel",
            "_view_count": null,
            "_view_module": "@jupyter-widgets/controls",
            "_view_module_version": "1.5.0",
            "_view_name": "ProgressView",
            "bar_style": "",
            "description": "",
            "description_tooltip": null,
            "layout": "IPY_MODEL_0b3b03ac203444038aa14ccc8fb5d494",
            "max": 1,
            "min": 0,
            "orientation": "horizontal",
            "style": "IPY_MODEL_c14453a546204bfab2abc1366152365e",
            "value": 1
          }
        },
        "7cb4fb997418453585dee8b77859af97": {
          "model_module": "@jupyter-widgets/base",
          "model_name": "LayoutModel",
          "model_module_version": "1.2.0",
          "state": {
            "_model_module": "@jupyter-widgets/base",
            "_model_module_version": "1.2.0",
            "_model_name": "LayoutModel",
            "_view_count": null,
            "_view_module": "@jupyter-widgets/base",
            "_view_module_version": "1.2.0",
            "_view_name": "LayoutView",
            "align_content": null,
            "align_items": null,
            "align_self": null,
            "border": null,
            "bottom": null,
            "display": null,
            "flex": null,
            "flex_flow": null,
            "grid_area": null,
            "grid_auto_columns": null,
            "grid_auto_flow": null,
            "grid_auto_rows": null,
            "grid_column": null,
            "grid_gap": null,
            "grid_row": null,
            "grid_template_areas": null,
            "grid_template_columns": null,
            "grid_template_rows": null,
            "height": null,
            "justify_content": null,
            "justify_items": null,
            "left": null,
            "margin": null,
            "max_height": null,
            "max_width": null,
            "min_height": null,
            "min_width": null,
            "object_fit": null,
            "object_position": null,
            "order": null,
            "overflow": null,
            "overflow_x": null,
            "overflow_y": null,
            "padding": null,
            "right": null,
            "top": null,
            "visibility": null,
            "width": null
          }
        },
        "93fe4fd1477c44dfb99c2f4bdcb8dd5f": {
          "model_module": "@jupyter-widgets/base",
          "model_name": "LayoutModel",
          "model_module_version": "1.2.0",
          "state": {
            "_model_module": "@jupyter-widgets/base",
            "_model_module_version": "1.2.0",
            "_model_name": "LayoutModel",
            "_view_count": null,
            "_view_module": "@jupyter-widgets/base",
            "_view_module_version": "1.2.0",
            "_view_name": "LayoutView",
            "align_content": null,
            "align_items": null,
            "align_self": null,
            "border": null,
            "bottom": null,
            "display": null,
            "flex": null,
            "flex_flow": null,
            "grid_area": null,
            "grid_auto_columns": null,
            "grid_auto_flow": null,
            "grid_auto_rows": null,
            "grid_column": null,
            "grid_gap": null,
            "grid_row": null,
            "grid_template_areas": null,
            "grid_template_columns": null,
            "grid_template_rows": null,
            "height": null,
            "justify_content": null,
            "justify_items": null,
            "left": null,
            "margin": null,
            "max_height": null,
            "max_width": null,
            "min_height": null,
            "min_width": null,
            "object_fit": null,
            "object_position": null,
            "order": null,
            "overflow": null,
            "overflow_x": null,
            "overflow_y": null,
            "padding": null,
            "right": null,
            "top": null,
            "visibility": null,
            "width": null
          }
        },
        "e694de5784e64118964c6c7ebdd760ad": {
          "model_module": "@jupyter-widgets/controls",
          "model_name": "DescriptionStyleModel",
          "model_module_version": "1.5.0",
          "state": {
            "_model_module": "@jupyter-widgets/controls",
            "_model_module_version": "1.5.0",
            "_model_name": "DescriptionStyleModel",
            "_view_count": null,
            "_view_module": "@jupyter-widgets/base",
            "_view_module_version": "1.2.0",
            "_view_name": "StyleView",
            "description_width": ""
          }
        },
        "0b3b03ac203444038aa14ccc8fb5d494": {
          "model_module": "@jupyter-widgets/base",
          "model_name": "LayoutModel",
          "model_module_version": "1.2.0",
          "state": {
            "_model_module": "@jupyter-widgets/base",
            "_model_module_version": "1.2.0",
            "_model_name": "LayoutModel",
            "_view_count": null,
            "_view_module": "@jupyter-widgets/base",
            "_view_module_version": "1.2.0",
            "_view_name": "LayoutView",
            "align_content": null,
            "align_items": null,
            "align_self": null,
            "border": null,
            "bottom": null,
            "display": null,
            "flex": null,
            "flex_flow": null,
            "grid_area": null,
            "grid_auto_columns": null,
            "grid_auto_flow": null,
            "grid_auto_rows": null,
            "grid_column": null,
            "grid_gap": null,
            "grid_row": null,
            "grid_template_areas": null,
            "grid_template_columns": null,
            "grid_template_rows": null,
            "height": null,
            "justify_content": null,
            "justify_items": null,
            "left": null,
            "margin": null,
            "max_height": null,
            "max_width": null,
            "min_height": null,
            "min_width": null,
            "object_fit": null,
            "object_position": null,
            "order": null,
            "overflow": null,
            "overflow_x": null,
            "overflow_y": null,
            "padding": null,
            "right": null,
            "top": null,
            "visibility": null,
            "width": null
          }
        },
        "c14453a546204bfab2abc1366152365e": {
          "model_module": "@jupyter-widgets/controls",
          "model_name": "ProgressStyleModel",
          "model_module_version": "1.5.0",
          "state": {
            "_model_module": "@jupyter-widgets/controls",
            "_model_module_version": "1.5.0",
            "_model_name": "ProgressStyleModel",
            "_view_count": null,
            "_view_module": "@jupyter-widgets/base",
            "_view_module_version": "1.2.0",
            "_view_name": "StyleView",
            "bar_color": null,
            "description_width": ""
          }
        }
      }
    }
  },
  "cells": [
    {
      "cell_type": "markdown",
      "source": [
        "DL_Assignment_1\n",
        "\n",
        "MA23M001 Abani Singha"
      ],
      "metadata": {
        "id": "S8GdxzhA5oYC"
      }
    },
    {
      "cell_type": "markdown",
      "source": [
        "Question-1"
      ],
      "metadata": {
        "id": "3JpwoIyu58HB"
      }
    },
    {
      "cell_type": "code",
      "source": [
        "import numpy as np\n",
        "import matplotlib.pyplot as plt\n",
        "from keras.datasets import fashion_mnist\n",
        "from sklearn.model_selection import train_test_split\n",
        "\n",
        "# Load the Fashion-MNIST dataset\n",
        "(X_train, y_train), (X_test, y_test) = fashion_mnist.load_data()\n",
        "\n",
        "# Define class labels\n",
        "class_labels = {0: \"T-shirt/top\",1: \"Trouser\",2: \"Pullover\",3: \"Dress\",4: \"Coat\",5: \"Sandal\",6: \"Shirt\",7: \"Sneaker\",8: \"Bag\",9: \"Ankle boot\"}\n",
        "\n",
        "plt.figure(figsize=(10, 10))\n",
        "for label in range(10):\n",
        "    k = next(i for i, j in enumerate(y_train) if j == label)\n",
        "    plt.subplot(5, 5, label + 1)\n",
        "    plt.xticks([])\n",
        "    plt.yticks([])\n",
        "    plt.grid(False)\n",
        "    plt.imshow(X_train[k], cmap=plt.cm.binary)\n",
        "    plt.xlabel(class_labels[label])\n",
        "\n",
        "plt.show()\n",
        "\n",
        "X_train, X_valid, y_train, y_valid = train_test_split(X_train, y_train, test_size=0.2, random_state=42)\n",
        "\n",
        "# Flatten the image data\n",
        "X_train = X_train.reshape(X_train.shape[0], -1)\n",
        "X_valid = X_valid.reshape(X_valid.shape[0], -1)\n",
        "X_test = X_test.reshape(X_test.shape[0], -1)\n",
        "\n",
        "# Normalize the image data\n",
        "X_train = X_train / 255.0\n",
        "X_valid = X_valid / 255.0\n",
        "X_test = X_test / 255.0\n",
        "\n",
        "def one_hot_encod(arr):\n",
        "  mat = np.zeros((len(arr),10))\n",
        "  for i in range(len(arr)):\n",
        "    mat[i,arr[i]] = 1\n",
        "  return mat\n",
        "# Convert labels to one-hot encoding\n",
        "Y_train =  one_hot_encod(y_train)\n",
        "Y_valid =  one_hot_encod(y_valid)\n",
        "Y_test =  one_hot_encod(y_test)\n",
        "print(\"Training images shape:\", X_train.shape)\n",
        "print(\"Training labels shape:\", Y_train.shape)\n",
        "print(\"Validation images shape:\", X_valid.shape)\n",
        "print(\"Validation labels shape:\", Y_valid.shape)\n",
        "print(\"Testing images shape:\", X_test.shape)\n",
        "print(\"Testing labels shape:\", Y_test.shape)\n"
      ],
      "metadata": {
        "colab": {
          "base_uri": "https://localhost:8080/",
          "height": 452
        },
        "id": "WuW-fS3MUEQW",
        "outputId": "98951502-819e-4ebe-966d-069f55703fee"
      },
      "execution_count": 39,
      "outputs": [
        {
          "output_type": "display_data",
          "data": {
            "text/plain": [
              "<Figure size 1000x1000 with 10 Axes>"
            ],
            "image/png": "[encoded data removed]"
          },
          "metadata": {}
        },
        {
          "output_type": "stream",
          "name": "stdout",
          "text": [
            "Training images shape: (48000, 784)\n",
            "Training labels shape: (48000, 10)\n",
            "Validation images shape: (12000, 784)\n",
            "Validation labels shape: (12000, 10)\n",
            "Testing images shape: (10000, 784)\n",
            "Testing labels shape: (10000, 10)\n"
          ]
        }
      ]
    },
    {
      "cell_type": "markdown",
      "source": [
        "Quetion-2\n",
        "\n",
        "Feed forword neural Network for full batch Data"
      ],
      "metadata": {
        "id": "OGXZ9vCU6Apz"
      }
    },
    {
      "cell_type": "code",
      "source": [
        "import numpy as np\n",
        "def init_N_network( num_hidden_layer, num_nodes_hidden_layers, weight, input_size, output_size ):\n",
        "    network_size = []\n",
        "    for i in range(num_hidden_layer):\n",
        "      network_size.append(num_nodes_hidden_layers[i])\n",
        "    size = [input_size] + network_size + [output_size]\n",
        "    theta0 = {}\n",
        "    if weight == 'random':\n",
        "      for i in range(1, num_hidden_layer+2):\n",
        "        theta0['W' + str(i)] = np.random.randn(size[i], size[i-1])\n",
        "        theta0['b' + str(i)] = np.random.randn(size[i], 1)\n",
        "    if weight == 'xavier':\n",
        "      for i in range(1, num_hidden_layer+2):\n",
        "          theta0[\"W\" + str(i)] = np.random.randn(size[i], size[i-1])*(np.sqrt(2/(size[i-1])))\n",
        "          theta0[\"b\" + str(i)] = np.random.randn(size[i], 1)*(np.sqrt(2/(size[i-1])))\n",
        "\n",
        "    return theta0\n",
        "\n",
        "def sigmoid(x):\n",
        "  return 1 / (1 + np.exp(-x))\n",
        "\n",
        "def der_sigmoid(x):\n",
        "  return sigmoid(x)*(1-sigmoid(x))\n",
        "\n",
        "def softmax(x):\n",
        "  x = x - np.max(x)\n",
        "  return np.exp(x)/np.sum(np.exp(x),axis=0)\n",
        "\n",
        "\n",
        "def forword_prop(x,theta, num_hidden_layer,input_size):\n",
        "  a = {}\n",
        "  a['a'+str(0)] = np.zeros((input_size,1))\n",
        "  h = {'h0':x}\n",
        "  for i in range(1,num_hidden_layer+1):\n",
        "    a[\"a\"+str(i)] = np.dot(theta['W'+str(i)],h['h'+str(i-1)]) + theta['b'+str(i)]\n",
        "    h['h'+str(i)] = sigmoid(a[\"a\"+str(i)])\n",
        "  a['a'+str(num_hidden_layer+1)] = np.dot(theta['W'+str(num_hidden_layer+1)],h['h'+str(num_hidden_layer)]) + theta['b'+str(num_hidden_layer+1)]\n",
        "  y_pred = softmax(a['a'+str(num_hidden_layer+1)])\n",
        "\n",
        "  return a,h,y_pred\n",
        "\n",
        "'''\n",
        "def backprop(x, y_actual, num_hidden_layer, theta,input_size):\n",
        "  a,h,y_pred = forword_prop(x,theta, num_hidden_layer,input_size)\n",
        "  grad_W_b = {}\n",
        "  grad_h_a = {}\n",
        "  grad_h_a['a'+str(num_hidden_layer+1)] = -1*(y_actual.T - y_pred)\n",
        "  for i in range(num_hidden_layer+1, 0, -1):\n",
        "    grad_W_b['W'+str(i)] = np.dot(grad_h_a['a'+str(i)],h['h'+str(i-1)].T)\n",
        "    grad_W_b['b'+str(i)] = np.mean(grad_h_a['a'+str(i)],axis = 0, keepdims=True)\n",
        "    grad_h_a['h'+str(i-1)] = np.dot(theta['W'+str(i)].T,grad_h_a['a'+str(i)] )\n",
        "    grad_h_a['a'+str(i-1)] = grad_h_a['h'+str(i-1)]*(der_sigmoid(a['a'+str(i-1)]))\n",
        "\n",
        "  return grad_W_b\n",
        "\n",
        "'''\n",
        "def backprop(x, y_actual, num_hidden_layer, theta, input_size):\n",
        "    m = x.shape[0]\n",
        "    a, h, y_pred = forword_prop(x, theta, num_hidden_layer, input_size)\n",
        "    grad_W_b = {}\n",
        "    grad_h_a = {}\n",
        "    grad_h_a['a' + str(num_hidden_layer + 1)] = -1 * (y_actual.T - y_pred)\n",
        "    for i in range(num_hidden_layer + 1, 0, -1):\n",
        "        grad_W_b['W' + str(i)] = (1/m)*np.dot(grad_h_a['a' + str(i)], h['h' + str(i - 1)].T)\n",
        "        grad_W_b['b' + str(i)] = (1/m)*np.mean(grad_h_a['a' + str(i)], axis=1, keepdims=True)  # Adjusted dimension\n",
        "        grad_h_a['h' + str(i - 1)] = np.dot(theta['W' + str(i)].T, grad_h_a['a' + str(i)])\n",
        "        grad_h_a['a' + str(i - 1)] = grad_h_a['h' + str(i - 1)] * (der_sigmoid(a['a' + str(i - 1)]))\n",
        "\n",
        "    return grad_W_b\n",
        "\n",
        "\n",
        "def gradient_decent(lr, theta, x, y_actual, num_hidden_layer,input_size):\n",
        "  for epoch in range(100):\n",
        "    grad = backprop(x, y_actual, num_hidden_layer, theta,input_size)\n",
        "    for i in range(1, num_hidden_layer+2):\n",
        "      theta['W' + str(i)] -= lr*grad['W' + str(i)]\n",
        "      theta['b' + str(i)] -= lr*grad['b' +str(i)]\n",
        "  return theta\n",
        "\n",
        "\n",
        "def cal_accuracy(X_test,y_test,theta_new, num_hidden_layer,input_size):\n",
        "  a,h,y_test_pred = forword_prop(X_test,theta_new, num_hidden_layer,input_size)\n",
        "\n",
        "  assert y_test.shape == y_test_pred.shape\n",
        "  y_test = np.argmax(y_test, axis = 0)\n",
        "  y_test_pred = np.argmax(y_test_pred, axis = 0)\n",
        "  correct_predictions = 0\n",
        "  for i in range(y_test.shape[0]):\n",
        "    if y_test[i] == y_test_pred[i]:\n",
        "      correct_predictions += 1\n",
        "  accuracy = correct_predictions /y_test.shape[0]\n",
        "\n",
        "  return accuracy\n"
      ],
      "metadata": {
        "id": "kt8q-F_qBRaG"
      },
      "execution_count": 6,
      "outputs": []
    },
    {
      "cell_type": "markdown",
      "source": [
        "Vanilla Gradient Decent optimizer"
      ],
      "metadata": {
        "id": "bxUXWWPfbDa3"
      }
    },
    {
      "cell_type": "code",
      "source": [
        "import matplotlib.pyplot as plt\n",
        "\n",
        "def gradient_decent(lr, theta, x, y_actual, num_hidden_layer, input_size):\n",
        "    losses = []  # List to store the loss for each epoch\n",
        "    for epoch in range(100):\n",
        "        grad = backprop(x, y_actual, num_hidden_layer, theta, input_size)\n",
        "        for i in range(1, num_hidden_layer + 2):\n",
        "            theta['W' + str(i)] -= lr * grad['W' + str(i)]\n",
        "            theta['b' + str(i)] -= lr * grad['b' + str(i)]\n",
        "\n",
        "        # Compute and store the loss for this epoch\n",
        "        a, _, y_pred = forword_prop(x, theta, num_hidden_layer, input_size)\n",
        "        loss = -np.mean(np.sum(y_actual.T * np.log(y_pred), axis=0))\n",
        "        losses.append(loss)\n",
        "\n",
        "        print(f\"Epoch {epoch+1}, Loss: {loss}\")\n",
        "\n",
        "    # Plot the loss function over epochs\n",
        "    plt.plot(losses)\n",
        "    plt.xlabel('Epoch')\n",
        "    plt.ylabel('Loss')\n",
        "    plt.title('Training Loss over Epochs')\n",
        "    plt.show()\n",
        "\n",
        "    return theta , losses\n",
        "\n",
        "\n"
      ],
      "metadata": {
        "id": "25t4E460iv-k"
      },
      "execution_count": 7,
      "outputs": []
    },
    {
      "cell_type": "markdown",
      "source": [
        "Question 3\n",
        "\n",
        "Feed forword neural network for mini batches and with different optimizers"
      ],
      "metadata": {
        "id": "xF7n-jv_58iY"
      }
    },
    {
      "cell_type": "code",
      "source": [
        "import numpy as np\n",
        "import matplotlib.pyplot as plt\n",
        "def init_network( num_hidden_layer, num_nodes_hidden_layers, weight, input_size, output_size ):\n",
        "    network_size = []\n",
        "    for i in range(num_hidden_layer):\n",
        "      network_size.append(num_nodes_hidden_layers)\n",
        "    size = [input_size] + network_size + [output_size]\n",
        "    theta0 = {}\n",
        "    if weight == 'random':\n",
        "      for i in range(1, num_hidden_layer+2):\n",
        "        theta0['W' + str(i)] = np.random.randn(size[i], size[i-1])\n",
        "        theta0['b' + str(i)] = np.random.randn(size[i], 1)\n",
        "    if weight == 'xavier':\n",
        "      for i in range(1, num_hidden_layer+2):\n",
        "          theta0[\"W\" + str(i)] = np.random.randn(size[i], size[i-1])*(np.sqrt(2/(size[i-1])))\n",
        "          theta0[\"b\" + str(i)] = np.random.randn(size[i], 1)*(np.sqrt(2/(size[i-1])))\n",
        "\n",
        "    return theta0\n",
        "\n",
        "def sigmoid(x):\n",
        "  return 1 /(1 + np.exp(-x))\n",
        "\n",
        "def relu(x):\n",
        "  return np.maximum(0, x)\n",
        "\n",
        "def tanh(x):\n",
        "\treturn np.tanh(x)\n",
        "\n",
        "def deriv_sigmoid(x):\n",
        "  return sigmoid(x)*(1-sigmoid(x))\n",
        "\n",
        "def deriv_relu(x):\n",
        "  return np.where(x <= 0, 0, 1)\n",
        "\n",
        "def deriv_tanh(x):\n",
        "  return (1 - (tanh(x))**2)\n",
        "\n",
        "def softmax(x):\n",
        "  x = x - np.max(x)\n",
        "  return np.exp(x)/np.sum(np.exp(x),axis=0)\n",
        "\n",
        "def activation(x, activ_fun):\n",
        "  if activ_fun == 'sigmoid':\n",
        "    return sigmoid(x)\n",
        "  elif activ_fun == 'relu':\n",
        "    return relu(x)\n",
        "  else:\n",
        "    return tanh(x)\n",
        "\n",
        "def grad_activation(x, activ_fun):\n",
        "  if activ_fun == 'sigmoid':\n",
        "    return deriv_sigmoid(x)\n",
        "  elif activ_fun == 'relu':\n",
        "    return deriv_relu(x)\n",
        "  else:\n",
        "    return deriv_tanh(x)\n",
        "\n",
        "def cross_entropy(y_actual, y_pred):\n",
        "    epsilon = 1e-15  # to prevent log(0) which is undefined\n",
        "    y_pred = np.clip(y_pred, epsilon, 1 - epsilon)\n",
        "    loss = -np.mean(np.sum(y_actual * np.log(y_pred), axis=0))\n",
        "    return loss\n",
        "\n",
        "\n",
        "def forword_prop(x,theta,activ_fun, num_hidden_layer,input_size):\n",
        "  a = {}\n",
        "  a['a'+str(0)] = np.zeros((input_size,1))\n",
        "  h = {'h0':x}\n",
        "  for i in range(1,num_hidden_layer+1):\n",
        "    a[\"a\"+str(i)] = np.dot(theta['W'+str(i)],h['h'+str(i-1)]) + theta['b'+str(i)]\n",
        "    h['h'+str(i)] = activation(a[\"a\"+str(i)], activ_fun)\n",
        "  a['a'+str(num_hidden_layer+1)] = np.dot(theta['W'+str(num_hidden_layer+1)],h['h'+str(num_hidden_layer)]) + theta['b'+str(num_hidden_layer+1)]\n",
        "  y_pred = softmax(a['a'+str(num_hidden_layer+1)])\n",
        "\n",
        "  return a,h,y_pred\n",
        "\n",
        "def back_prop(x, y_actual, activ_fun, num_hidden_layer, theta,input_size):\n",
        "  a,h,y_pred = forword_prop(x,theta,activ_fun, num_hidden_layer,input_size)\n",
        "  grad_W_b = {}\n",
        "  grad_h_a = {}\n",
        "  grad_h_a['a'+str(num_hidden_layer+1)] = -1*(y_actual - y_pred)\n",
        "  for i in range(num_hidden_layer+1, 0, -1):\n",
        "    grad_W_b['W'+str(i)] = np.dot(grad_h_a['a'+str(i)],h['h'+str(i-1)].T)\n",
        "    grad_W_b['b'+str(i)] = grad_h_a['a'+str(i)]  #np.mean(grad_h_a['a'+str(i)]#,axis = 0, keepdims=True)\n",
        "    grad_h_a['h'+str(i-1)] = np.dot(theta['W'+str(i)].T,grad_h_a['a'+str(i)] )\n",
        "    grad_h_a['a'+str(i-1)] = grad_h_a['h'+str(i-1)]*(grad_activation(a['a'+str(i-1)], activ_fun))\n",
        "\n",
        "  return grad_W_b\n",
        " # Stochastic Gradient Decent\n",
        "def sgd(lr, x_train, y_train, X_valid, Y_valid, epochs, activ_fun, num_hidden_layer,num_nodes_hidden_layers, weight,batch_size, input_size, output_size):\n",
        "  theta = init_network( num_hidden_layer, num_nodes_hidden_layers, weight, input_size, output_size )\n",
        "  losses = []  # List to store the loss for each epoch\n",
        "  length = x_train.shape[0]\n",
        "\n",
        "  for epoch in range(epochs):\n",
        "      arr = np.arange(length)\n",
        "      np.random.shuffle(arr)\n",
        "      no_of_pts = 0\n",
        "      grad_new = {key: np.zeros_like(value) for key, value in theta.items()}\n",
        "      for j in range(length):\n",
        "          no_of_pts += 1\n",
        "          x = x_train[arr[j],:].reshape(-1, 1)\n",
        "          y_actual = y_train[arr[j],:].reshape(-1, 1)\n",
        "          grad = back_prop(x, y_actual, activ_fun, num_hidden_layer, theta,input_size)\n",
        "          for k in range(1, num_hidden_layer + 2):\n",
        "            grad_new['W' + str(k)] += grad['W' + str(k)]\n",
        "            grad_new['b' + str(k)] += grad['b' + str(k)]\n",
        "          if no_of_pts % batch_size == 0:\n",
        "            for i in range(1, num_hidden_layer + 2):\n",
        "                theta['W' + str(i)] -= lr * grad_new['W' + str(i)]\n",
        "                theta['b' + str(i)] -= lr * grad_new['b' + str(i)]\n",
        "\n",
        "      # Compute and store the loss and accuracy for this epoch\n",
        "      acc = calculate_accuracy(x_train,y_train,theta,activ_fun, num_hidden_layer,input_size)\n",
        "      a, _, y_pred = forword_prop(x_train.T,theta,activ_fun, num_hidden_layer,input_size)\n",
        "      loss = cross_entropy(y_train.T, y_pred)\n",
        "      losses.append(loss)\n",
        "      validation_accuracy = calculate_accuracy(X_valid,Y_valid,theta,activ_fun, num_hidden_layer,input_size)\n",
        "\n",
        "\n",
        "      print(f\"Epoch {epoch+1}, Loss: {loss} , Accuracy: {acc*100}\")\n",
        "      wandb.log({'train_loss': loss})\n",
        "      wandb.log({'train_accuracy': acc*100})\n",
        "      wandb.log({'Val_accuracy': validation_accuracy * 100})\n",
        "      wandb.log({'epoch': epoch})\n",
        "\n",
        "\n",
        "  # Plot the loss function over epochs\n",
        "  plt.plot(losses)\n",
        "  plt.xlabel('Epoch')\n",
        "  plt.ylabel('Loss')\n",
        "  plt.title('Training Loss over Epochs')\n",
        "  plt.show()\n",
        "\n",
        "  return theta\n",
        "\n",
        "def calculate_accuracy(X_test,y_test,theta_new,activ_fun, num_hidden_layer,input_size):\n",
        "  len = X_test.shape[0]\n",
        "  correct_predictions = 0\n",
        "  for i in range(len):\n",
        "    X_tes = X_test[i,:].reshape(-1, 1)\n",
        "    a,h,y_test_pred = forword_prop(X_tes,theta_new, activ_fun, num_hidden_layer,input_size)\n",
        "\n",
        "    y1 = np.argmax(y_test[i,:].reshape(-1, 1), axis = 0)\n",
        "    y2 = np.argmax(y_test_pred, axis = 0)\n",
        "\n",
        "    if y1 == y2:\n",
        "      correct_predictions += 1\n",
        "  accuracy = correct_predictions /y_test.shape[0]\n",
        "\n",
        "  return accuracy\n",
        "\n"
      ],
      "metadata": {
        "id": "ldD81L417KII"
      },
      "execution_count": 8,
      "outputs": []
    },
    {
      "cell_type": "markdown",
      "source": [
        "Momentum based gradient decent"
      ],
      "metadata": {
        "id": "S3UtvPVaqMu2"
      }
    },
    {
      "cell_type": "code",
      "source": [
        "def momentum(lr, theta, x_train, y_train, X_valid, Y_valid, activ_fun, epochs, num_hidden_layer, input_size, batch_size, beta=0.9):\n",
        "    losses = []  # List to store the loss for each epoch\n",
        "    length = x_train.shape[0]\n",
        "    v = {key: np.zeros_like(value) for key, value in theta.items()}  # Initialize velocities\n",
        "    prev_v = {key: np.zeros_like(value) for key, value in theta.items()}\n",
        "    for epoch in range(epochs):  # Adjust the number of epochs as needed\n",
        "        no_of_pts = 0\n",
        "        loss = 0\n",
        "        itr = 0\n",
        "        no_of_batch = 0\n",
        "        grad_new = {key: np.zeros_like(value) for key, value in theta.items()}\n",
        "        for j in range(length):\n",
        "            no_of_pts += 1\n",
        "            x = x_train[j, :].reshape(-1, 1)\n",
        "            y_actual = y_train[j, :].reshape(-1, 1)\n",
        "            grad = back_prop(x, y_actual,activ_fun, num_hidden_layer, theta, input_size)\n",
        "            for i in range(num_hidden_layer+1, 0, -1):\n",
        "                grad_new['W'+str(i)] += grad['W'+str(i)]\n",
        "                grad_new['b'+str(i)] += grad['b'+str(i)]\n",
        "\n",
        "            if no_of_pts % batch_size == 0:\n",
        "              no_of_batch += 1\n",
        "              for i in range(1, num_hidden_layer + 2):\n",
        "                  # Update velocity\n",
        "                  v['W' + str(i)] = beta * prev_v['W' + str(i)] + lr * grad_new['W'+str(i)]\n",
        "                  v['b' + str(i)] = beta * prev_v['b' + str(i)] + lr * grad_new['b'+str(i)]\n",
        "\n",
        "              for i in range(1, num_hidden_layer + 2):\n",
        "                  # Update parameters\n",
        "                  theta['W' + str(i)] -= v['W' + str(i)]\n",
        "                  theta['b' + str(i)] -= v['b' + str(i)]\n",
        "\n",
        "              for i in range(1, num_hidden_layer + 2):\n",
        "                  prev_v['W' + str(i)] = v['W' + str(i)]\n",
        "                  prev_v['b' + str(i)] = v['b' + str(i)]\n",
        "\n",
        "        # Compute and store the loss for this epoch\n",
        "                  # x_batch = X_train[itr:itr+batch_size].T\n",
        "                  # y_batch = Y_train[itr:itr+batch_size].T\n",
        "                  # itr += batch_size\n",
        "                  # a, _, y_pred = forword_prop(x_batch, theta,activ_fun, num_hidden_layer, input_size)\n",
        "                  # loss += cross_entropy(y_batch, y_pred)#-np.mean(np.sum(y_batch.T * np.log(y_pred),axis = 0))\n",
        "        acc = calculate_accuracy(x_train,y_train,theta,activ_fun, num_hidden_layer,input_size)\n",
        "        a, _, y_pred = forword_prop(x_train.T,theta,activ_fun, num_hidden_layer,input_size)\n",
        "        loss = cross_entropy(y_train.T, y_pred)\n",
        "        losses.append(loss)\n",
        "        validation_accuracy = calculate_accuracy(X_valid,Y_valid,theta,activ_fun, num_hidden_layer,input_size)\n",
        "\n",
        "\n",
        "        print(f\"Epoch {epoch+1}, Loss: {loss} , Accuracy: {acc*100}\")\n",
        "        wandb.log({'train_loss': loss})\n",
        "        wandb.log({'train_accuracy': acc*100})\n",
        "        wandb.log({'Val_accuracy': validation_accuracy * 100})\n",
        "        wandb.log({'epoch': epoch})\n",
        "    # Plot the loss function over epochs\n",
        "    plt.plot(losses)\n",
        "    plt.xlabel('Epoch')\n",
        "    plt.ylabel('Loss')\n",
        "    plt.title('Training Loss over Epochs')\n",
        "    plt.show()\n",
        "\n",
        "    return theta\n",
        "\n"
      ],
      "metadata": {
        "id": "NU6mchEUTNwZ"
      },
      "execution_count": 9,
      "outputs": []
    },
    {
      "cell_type": "markdown",
      "source": [
        "Nestrov"
      ],
      "metadata": {
        "id": "VIcClD84qtAG"
      }
    },
    {
      "cell_type": "code",
      "source": [
        "def nag(lr, theta, x_train, y_train, X_valid, Y_valid, activ_fun, epochs, num_hidden_layer, input_size, batch_size, beta=0.9):\n",
        "    losses = []\n",
        "    length = x_train.shape[0]\n",
        "    v = {key: np.zeros_like(value) for key, value in theta.items()}\n",
        "    prev_v = {key: np.zeros_like(value) for key, value in theta.items()}\n",
        "    for epoch in range(epochs):\n",
        "        grad_new = {key: np.zeros_like(value) for key, value in theta.items()}\n",
        "        no_of_pts = 0\n",
        "        no_of_batch = 0\n",
        "        loss = 0\n",
        "        itr = 0\n",
        "        for j in range(length):\n",
        "            no_of_pts += 1\n",
        "            x = x_train[j, :].reshape(-1, 1)\n",
        "            y_actual = y_train[j, :].reshape(-1, 1)\n",
        "\n",
        "            for i in range(1, num_hidden_layer + 2):\n",
        "              theta['W' + str(i)] -= beta * prev_v['W' + str(i)]\n",
        "              theta['b' + str(i)] -= beta * prev_v['b' + str(i)]\n",
        "\n",
        "            grad = back_prop(x, y_actual,activ_fun, num_hidden_layer, theta, input_size)\n",
        "            for i in range(num_hidden_layer+1, 0, -1):\n",
        "                grad_new['W'+str(i)] += grad['W'+str(i)]\n",
        "                grad_new['b'+str(i)] += grad['b'+str(i)]\n",
        "\n",
        "            if no_of_pts % batch_size == 0:\n",
        "              no_of_batch += 1\n",
        "              for i in range(1, num_hidden_layer + 2):\n",
        "                  # Update velocity\n",
        "                  v['W' + str(i)] = beta * prev_v['W' + str(i)] + lr * grad_new['W'+str(i)]\n",
        "                  v['b' + str(i)] = beta * prev_v['b' + str(i)] + lr * grad_new['b'+str(i)]\n",
        "\n",
        "              for i in range(1, num_hidden_layer + 2):\n",
        "                  # Update parameters\n",
        "                  theta['W' + str(i)] -= v['W' + str(i)]\n",
        "                  theta['b' + str(i)] -= v['b' + str(i)]\n",
        "\n",
        "              for i in range(1, num_hidden_layer + 2):\n",
        "                  prev_v['W' + str(i)] = v['W' + str(i)]\n",
        "                  prev_v['b' + str(i)] = v['b' + str(i)]\n",
        "\n",
        "                  # x_batch = X_train[itr:itr+batch_size].T\n",
        "                  # y_batch = Y_train[itr:itr+batch_size]\n",
        "                  # itr += batch_size\n",
        "                  # a, _, y_pred = forword_prop(x_batch, theta,activ_fun, num_hidden_layer, input_size)\n",
        "                  # epsilon = 1e-15  # to prevent log(0) which is undefined\n",
        "                  # y_pred = np.clip(y_pred, epsilon, 1 - epsilon)\n",
        "                  # loss += -np.mean(np.sum(y_batch.T * np.log(y_pred),axis = 0))\n",
        "        acc = calculate_accuracy(x_train,y_train,theta,activ_fun, num_hidden_layer,input_size)\n",
        "        a, _, y_pred = forword_prop(x_train.T,theta,activ_fun, num_hidden_layer,input_size)\n",
        "        loss = cross_entropy(y_train.T, y_pred)\n",
        "        losses.append(loss)\n",
        "        validation_accuracy = calculate_accuracy(X_valid,Y_valid,theta,activ_fun, num_hidden_layer,input_size)\n",
        "\n",
        "\n",
        "        print(f\"Epoch {epoch+1}, Loss: {loss} , Accuracy: {acc*100}\")\n",
        "        wandb.log({'train_loss': loss})\n",
        "        wandb.log({'train_accuracy': acc*100})\n",
        "        wandb.log({'Val_accuracy': validation_accuracy * 100})\n",
        "        wandb.log({'epoch': epoch})\n",
        "\n",
        "    # Plot the loss function over epochs\n",
        "    plt.plot(losses)\n",
        "    plt.xlabel('Epoch')\n",
        "    plt.ylabel('Loss')\n",
        "    plt.title('Training Loss over Epochs')\n",
        "    plt.show()\n",
        "\n",
        "    return theta\n"
      ],
      "metadata": {
        "id": "zwa3RMrmSRMN"
      },
      "execution_count": 10,
      "outputs": []
    },
    {
      "cell_type": "markdown",
      "source": [
        "RMsprop"
      ],
      "metadata": {
        "id": "aneOdrREqytg"
      }
    },
    {
      "cell_type": "code",
      "source": [
        "def RMSprop(lr, theta, x_train, y_train,X_valid, Y_valid,activ_fun, epochs, num_hidden_layer, input_size,batch_size, eps=0.01, beta=0.9):\n",
        "    losses = []\n",
        "    length = x_train.shape[0]\n",
        "    v = {key: np.zeros_like(value) for key, value in theta.items()}\n",
        "    prev_v = {key: np.zeros_like(value) for key, value in theta.items()}\n",
        "    for epoch in range(epochs):\n",
        "        no_of_pts = 0\n",
        "        no_of_batch = 0\n",
        "        loss = 0\n",
        "        itr = 0\n",
        "        grad_new = {key: np.zeros_like(value) for key, value in theta.items()}\n",
        "        for j in range(length):\n",
        "            no_of_pts += 1\n",
        "            x = x_train[j, :].reshape(-1, 1)\n",
        "            y_actual = y_train[j, :].reshape(-1, 1)\n",
        "            grad = back_prop(x, y_actual,activ_fun, num_hidden_layer, theta, input_size)\n",
        "            for i in range(num_hidden_layer+1, 0, -1):\n",
        "                grad_new['W'+str(i)] += grad['W'+str(i)]\n",
        "                grad_new['b'+str(i)] += grad['b'+str(i)]\n",
        "\n",
        "            if no_of_pts % batch_size == 0:\n",
        "              no_of_batch += 1\n",
        "              for i in range(1, num_hidden_layer + 2):\n",
        "                  # Update velocity\n",
        "                  v['W' + str(i)] = beta * prev_v['W' + str(i)] + (1-beta)* ((grad_new['W'+str(i)])**2)\n",
        "                  v['b' + str(i)] = beta * prev_v['b' + str(i)] + (1-beta)* ((grad_new['b'+str(i)])**2)\n",
        "\n",
        "              for i in range(1, num_hidden_layer + 2):\n",
        "                  # Update parameters\n",
        "                  theta['W' + str(i)] -= (lr/ (np.sqrt(v['W' + str(i)] + eps)) )*grad_new['W'+str(i)]\n",
        "                  theta['b' + str(i)] -= (lr/ (np.sqrt(v['b' + str(i)] + eps)) )*grad_new['b'+str(i)]\n",
        "\n",
        "              for i in range(1, num_hidden_layer + 2):\n",
        "                  prev_v['W' + str(i)] = v['W' + str(i)]\n",
        "                  prev_v['b' + str(i)] = v['b' + str(i)]\n",
        "\n",
        "        #           x_batch = X_train[itr:itr+batch_size].T\n",
        "        #           y_batch = Y_train[itr:itr+batch_size]\n",
        "        #           itr += batch_size\n",
        "        #           a, _, y_pred = forword_prop(x_batch, theta,activ_fun, num_hidden_layer, input_size)\n",
        "        #           epsilon = 1e-15  # to prevent log(0) which is undefined\n",
        "        #           y_pred = np.clip(y_pred, epsilon, 1 - epsilon)\n",
        "        #           loss += -np.mean(np.sum(y_batch.T * np.log(y_pred),axis = 0))\n",
        "\n",
        "        # loss = loss/no_of_batch\n",
        "        acc = calculate_accuracy(x_train,y_train,theta,activ_fun, num_hidden_layer,input_size)\n",
        "        a, _, y_pred = forword_prop(x_train.T,theta,activ_fun, num_hidden_layer,input_size)\n",
        "        loss = cross_entropy(y_train.T, y_pred)\n",
        "        losses.append(loss)\n",
        "        validation_accuracy = calculate_accuracy(X_valid,Y_valid,theta,activ_fun, num_hidden_layer,input_size)\n",
        "\n",
        "\n",
        "        print(f\"Epoch {epoch+1}, Loss: {loss} , Accuracy: {acc*100}\")\n",
        "        wandb.log({'train_loss': loss})\n",
        "        wandb.log({'train_accuracy': acc*100})\n",
        "        wandb.log({'Val_accuracy': validation_accuracy * 100})\n",
        "        wandb.log({'epoch': epoch})\n",
        "\n",
        "\n",
        "    # Plot the loss function over epochs\n",
        "    plt.plot(losses)\n",
        "    plt.xlabel('Epoch')\n",
        "    plt.ylabel('Loss')\n",
        "    plt.title('Training Loss over Epochs')\n",
        "    plt.show()\n",
        "\n",
        "    return theta\n",
        "\n"
      ],
      "metadata": {
        "id": "dpe_Pn_Y5HZm"
      },
      "execution_count": 11,
      "outputs": []
    },
    {
      "cell_type": "code",
      "source": [],
      "metadata": {
        "id": "hOCHxLDtBqHi"
      },
      "execution_count": 11,
      "outputs": []
    },
    {
      "cell_type": "markdown",
      "source": [
        "Adam"
      ],
      "metadata": {
        "id": "0lk-G96Gq9Ol"
      }
    },
    {
      "cell_type": "code",
      "source": [
        "def adam(lr, theta, x_train, y_train, X_valid, Y_valid, activ_fun, epochs, num_hidden_layer, input_size,batch_size,eps, beta1=0.9,beta2= 0.99):\n",
        "    losses = []  # List to store the loss for each epoch\n",
        "    length = x_train.shape[0]\n",
        "    v = {key: np.zeros_like(value) for key, value in theta.items()}\n",
        "    prev_v = {key: np.zeros_like(value) for key, value in theta.items()}\n",
        "    v_cap = {key: np.zeros_like(value) for key, value in theta.items()}\n",
        "\n",
        "    m = {key: np.zeros_like(value) for key, value in theta.items()}\n",
        "    prev_m = {key: np.zeros_like(value) for key, value in theta.items()}\n",
        "    m_cap = {key: np.zeros_like(value) for key, value in theta.items()}\n",
        "\n",
        "    for epoch in range(epochs):  # Adjust the number of epochs as needed\n",
        "        t = 0\n",
        "        no_of_pts = 0\n",
        "        no_of_batch = 0\n",
        "        loss = 0\n",
        "        itr = 0\n",
        "        grad_new = {key: np.zeros_like(value) for key, value in theta.items()}\n",
        "        for j in range(length):\n",
        "            x = x_train[j, :].reshape(-1, 1)\n",
        "            y_actual = y_train[j, :].reshape(-1, 1)\n",
        "            grad = back_prop(x, y_actual,activ_fun, num_hidden_layer, theta, input_size)\n",
        "            for i in range(num_hidden_layer+1, 0, -1):\n",
        "                grad_new['W'+str(i)] += grad['W'+str(i)]\n",
        "                grad_new['b'+str(i)] += grad['b'+str(i)]\n",
        "\n",
        "            no_of_pts = no_of_pts + 1\n",
        "            if no_of_pts % batch_size == 0:\n",
        "              t = t + 1\n",
        "              no_of_batch += 1\n",
        "\n",
        "              for i in range(1, num_hidden_layer + 2):\n",
        "                  m['W' + str(i)] = beta1 * prev_m['W' + str(i)] + (1-beta1)* grad_new['W'+str(i)]\n",
        "                  m['b' + str(i)] = beta1 * prev_m['b' + str(i)] + (1-beta1)* grad_new['b'+str(i)]\n",
        "\n",
        "              for i in range(1, num_hidden_layer + 2):\n",
        "                  m_cap['W' + str(i)] = (1/(1-np.power(beta1,t))) * m['W' + str(i)]\n",
        "                  m_cap['b' + str(i)] = (1/(1-np.power(beta1,t))) * m['b' + str(i)]\n",
        "                  prev_m['W' + str(i)] = m['W' + str(i)]\n",
        "                  prev_m['b' + str(i)] = m['b' + str(i)]\n",
        "\n",
        "              for i in range(1, num_hidden_layer + 2):\n",
        "                  v['W' + str(i)] = beta2 * prev_v['W' + str(i)] + (1-beta2)* ((grad_new['W'+str(i)])**2)\n",
        "                  v['b' + str(i)] = beta2 * prev_v['b' + str(i)] + (1-beta2)* ((grad_new['b'+str(i)])**2)\n",
        "\n",
        "              for i in range(1, num_hidden_layer + 2):\n",
        "                  v_cap['W' + str(i)] = (1/(1-np.power(beta2,t))) * v['W' + str(i)]\n",
        "                  v_cap['b' + str(i)] = (1/(1-np.power(beta2,t))) * v['b' + str(i)]\n",
        "                  prev_v['W' + str(i)] = v['W' + str(i)]\n",
        "                  prev_v['b' + str(i)] = v['b' + str(i)]\n",
        "\n",
        "\n",
        "              for i in range(1, num_hidden_layer + 2):\n",
        "                  # Update parameters\n",
        "                  theta['W' + str(i)] -= (lr/ (np.sqrt(v_cap['W' + str(i)] + eps)) )*(m_cap['W'+str(i)])\n",
        "                  theta['b' + str(i)] -= (lr/ (np.sqrt(v_cap['b' + str(i)] + eps)) )*(m_cap['b'+str(i)])\n",
        "\n",
        "                  x_batch = X_train[itr:itr+batch_size].T\n",
        "                  y_batch = Y_train[itr:itr+batch_size]\n",
        "                  itr += batch_size\n",
        "                  # a, _, y_pred = forword_prop(x_batch, theta,activ_fun, num_hidden_layer, input_size)\n",
        "                  # epsilon = 1e-15  # to prevent log(0) which is undefined\n",
        "                  # y_pred = np.clip(y_pred, epsilon, 1 - epsilon)\n",
        "                  # loss += -np.mean(np.sum(y_batch.T * np.log(y_pred),axis = 0))\n",
        "\n",
        "        # loss = loss/no_of_batch\n",
        "\n",
        "        acc = calculate_accuracy(x_train,y_train,theta,activ_fun, num_hidden_layer,input_size)\n",
        "        a, _, y_pred = forword_prop(x_train.T,theta,activ_fun, num_hidden_layer,input_size)\n",
        "        loss = cross_entropy(y_train.T, y_pred)\n",
        "        losses.append(loss)\n",
        "        validation_accuracy = calculate_accuracy(X_valid,Y_valid,theta,activ_fun, num_hidden_layer,input_size)\n",
        "\n",
        "\n",
        "        print(f\"Epoch {epoch+1}, Loss: {loss} , Accuracy: {acc*100}\")\n",
        "        wandb.log({'train_loss': loss})\n",
        "        wandb.log({'train_accuracy': acc*100})\n",
        "        wandb.log({'Val_accuracy': validation_accuracy * 100})\n",
        "        wandb.log({'epoch': epoch})\n",
        "\n",
        "\n",
        "    # Plot the loss function over epochs\n",
        "    plt.plot(losses)\n",
        "    plt.xlabel('Epoch')\n",
        "    plt.ylabel('Loss')\n",
        "    plt.title('Training Loss over Epochs')\n",
        "    plt.show()\n",
        "\n",
        "    return theta\n"
      ],
      "metadata": {
        "id": "vzDeqA7133g5"
      },
      "execution_count": 12,
      "outputs": []
    },
    {
      "cell_type": "markdown",
      "source": [
        "Nadam"
      ],
      "metadata": {
        "id": "lsdIRhA-rJae"
      }
    },
    {
      "cell_type": "code",
      "source": [
        "def Nadam(lr, theta, x_train, y_train,X_valid, Y_valid,activ_fun, epochs, num_hidden_layer, input_size, batch_size,eps, beta1=0.9,beta2=0.99):\n",
        "    losses = []\n",
        "    length = x_train.shape[0]\n",
        "    v = {key: np.zeros_like(value) for key, value in theta.items()}\n",
        "    prev_v = {key: np.zeros_like(value) for key, value in theta.items()}\n",
        "    v_cap = {key: np.zeros_like(value) for key, value in theta.items()}\n",
        "\n",
        "    m = {key: np.zeros_like(value) for key, value in theta.items()}\n",
        "    prev_m = {key: np.zeros_like(value) for key, value in theta.items()}\n",
        "    m_cap = {key: np.zeros_like(value) for key, value in theta.items()}\n",
        "\n",
        "    for epoch in range(epochs):\n",
        "        t = 0\n",
        "        no_of_pts = 0\n",
        "        no_of_batch = 0\n",
        "        loss = 0\n",
        "        itr = 0\n",
        "        grad_new = {key: np.zeros_like(value) for key, value in theta.items()}\n",
        "        for j in range(length):\n",
        "            x = x_train[j, :].reshape(-1, 1)\n",
        "            y_actual = y_train[j, :].reshape(-1, 1)\n",
        "            grad = back_prop(x, y_actual,activ_fun, num_hidden_layer, theta, input_size)\n",
        "            for i in range(num_hidden_layer+1, 0, -1):\n",
        "                grad_new['W'+str(i)] += grad['W'+str(i)]\n",
        "                grad_new['b'+str(i)] += grad['b'+str(i)]\n",
        "\n",
        "            no_of_pts += 1\n",
        "            if no_of_pts % batch_size == 0:\n",
        "              t = t + 1\n",
        "              no_of_batch += 1\n",
        "\n",
        "              for i in range(1, num_hidden_layer + 2):\n",
        "                  m['W' + str(i)] = beta1 * prev_m['W' + str(i)] + (1-beta1)* grad_new['W'+str(i)]\n",
        "                  m['b' + str(i)] = beta1 * prev_m['b' + str(i)] + (1-beta1)* grad_new['b'+str(i)]\n",
        "\n",
        "              for i in range(1, num_hidden_layer + 2):\n",
        "                  m_cap['W' + str(i)] = (1/(1-np.power(beta1,t))) * m['W' + str(i)]\n",
        "                  m_cap['b' + str(i)] = (1/(1-np.power(beta1,t))) * m['b' + str(i)]\n",
        "                  prev_m['W' + str(i)] = m['W' + str(i)]\n",
        "                  prev_m['b' + str(i)] = m['b' + str(i)]\n",
        "\n",
        "              for i in range(1, num_hidden_layer + 2):\n",
        "                  v['W' + str(i)] = beta2 * prev_v['W' + str(i)] + (1-beta2)* ((grad_new['W'+str(i)])**2)\n",
        "                  v['b' + str(i)] = beta2 * prev_v['b' + str(i)] + (1-beta2)* ((grad_new['b'+str(i)])**2)\n",
        "\n",
        "              for i in range(1, num_hidden_layer + 2):\n",
        "                  v_cap['W' + str(i)] = (1/(1-np.power(beta2,t))) * v['W' + str(i)]\n",
        "                  v_cap['b' + str(i)] = (1/(1-np.power(beta2,t))) * v['b' + str(i)]\n",
        "                  prev_v['W' + str(i)] = v['W' + str(i)]\n",
        "                  prev_v['b' + str(i)] = v['b' + str(i)]\n",
        "\n",
        "\n",
        "              for i in range(1, num_hidden_layer + 2):\n",
        "                  # Update parameters\n",
        "                  theta['W' + str(i)] -= (lr/ (np.sqrt(v_cap['W' + str(i)] + eps)) )*(beta1*(m_cap['W'+str(i)])+((1-beta1)*(grad_new['W'+str(i)]))/(1-np.power(beta1,t)))\n",
        "                  theta['b' + str(i)] -= (lr/ (np.sqrt(v_cap['b' + str(i)] + eps)) )*(beta1*(m_cap['b'+str(i)])+((1-beta1)*(grad_new['b'+str(i)]))/(1-np.power(beta1,t)))\n",
        "\n",
        "              # x_batch = X_train[itr:itr+batch_size].T\n",
        "              # y_batch = Y_train[itr:itr+batch_size]\n",
        "              # itr += batch_size\n",
        "              # a, _, y_pred = forword_prop(x_batch, theta,activ_fun, num_hidden_layer, input_size)\n",
        "              # epsilon = 1e-15  # to prevent log(0) which is undefined\n",
        "              # y_pred = np.clip(y_pred, epsilon, 1 - epsilon)\n",
        "              # loss += -np.mean(np.sum(y_batch.T * np.log(y_pred),axis = 0))\n",
        "        acc = calculate_accuracy(x_train,y_train,theta,activ_fun, num_hidden_layer,input_size)\n",
        "        a, _, y_pred = forword_prop(x_train.T,theta,activ_fun, num_hidden_layer,input_size)\n",
        "        loss = cross_entropy(y_train.T, y_pred)\n",
        "        losses.append(loss)\n",
        "        validation_accuracy = calculate_accuracy(X_valid,Y_valid,theta,activ_fun, num_hidden_layer,input_size)\n",
        "\n",
        "\n",
        "        print(f\"Epoch {epoch+1}, Loss: {loss} , Accuracy: {acc*100}\")\n",
        "        wandb.log({'train_loss': loss})\n",
        "        wandb.log({'train_accuracy': acc*100})\n",
        "        wandb.log({'Val_accuracy': validation_accuracy * 100})\n",
        "        wandb.log({'epoch': epoch})\n",
        "\n",
        "\n",
        "\n",
        "    plt.plot(losses)\n",
        "    plt.xlabel('Epoch')\n",
        "    plt.ylabel('Loss')\n",
        "    plt.title('Training Loss over Epochs')\n",
        "    plt.show()\n",
        "\n",
        "    return theta\n"
      ],
      "metadata": {
        "id": "XybSYPPKADyH"
      },
      "execution_count": 13,
      "outputs": []
    },
    {
      "cell_type": "markdown",
      "source": [
        "Model"
      ],
      "metadata": {
        "id": "TMK6Z-3BrUaM"
      }
    },
    {
      "cell_type": "code",
      "source": [
        "\n",
        "def model_train(lr,  X_train, Y_train, X_valid, Y_valid, optimizer, regular_param, epochs, activ_fun, num_hidden_layer, num_nodes_hidden_layers,\n",
        "                weight, input_size, output_size, batch_size,eps,beta=0.9, beta1=0.9, beta2=0.99):\n",
        "\n",
        "  theta = init_network( num_hidden_layer, num_nodes_hidden_layers, weight, input_size, output_size )\n",
        "  if optimizer == 'sgd':\n",
        "    W_b = sgd(lr, X_train, Y_train,X_valid, Y_valid, epochs, activ_fun, num_hidden_layer,num_nodes_hidden_layers, weight, batch_size, input_size, output_size)\n",
        "  if optimizer == 'momentum':\n",
        "    W_b = momentum(lr, theta, X_train, Y_train,X_valid, Y_valid,activ_fun, epochs, num_hidden_layer, input_size, batch_size, beta=0.9)\n",
        "  if optimizer == 'nag':\n",
        "    W_b = nag(lr, theta, X_train, Y_train,X_valid, Y_valid, activ_fun, epochs, num_hidden_layer, input_size, batch_size, beta=0.9)\n",
        "  if optimizer == 'RMSprop':\n",
        "    W_b = RMSprop(lr, theta, X_train, Y_train,X_valid, Y_valid,activ_fun, epochs, num_hidden_layer, input_size,batch_size, eps=0.01, beta=0.9)\n",
        "  if optimizer == 'adam':\n",
        "    W_b = adam(lr, theta, X_train, Y_train,X_valid, Y_valid, activ_fun, epochs, num_hidden_layer, input_size,batch_size,eps, beta1=0.9,beta2= 0.99)\n",
        "  if optimizer == 'Nadam':\n",
        "    W_b = Nadam(lr, theta, X_train, Y_train,X_valid, Y_valid,activ_fun, epochs, num_hidden_layer, input_size, batch_size,eps, beta1=0.9,beta2=0.99)\n",
        "\n",
        "\n",
        "  # train_accuracy = calculate_accuracy(X_train,Y_train,W_b,activ_fun, num_hidden_layer,input_size)\n",
        "  # wandb.log({'Training accuracy': train_accuracy * 100})\n",
        "  # validation_accuracy = calculate_accuracy(X_valid,Y_valid,W_b,activ_fun, num_hidden_layer,input_size)\n",
        "  # wandb.log({'Validation accuracy': validation_accuracy * 100})\n"
      ],
      "metadata": {
        "id": "9WYttpkFRldW"
      },
      "execution_count": 14,
      "outputs": []
    },
    {
      "cell_type": "code",
      "source": [
        "!pip install wandb"
      ],
      "metadata": {
        "colab": {
          "base_uri": "https://localhost:8080/"
        },
        "id": "_ld6uxT66yQN",
        "outputId": "923bdfbc-7ff6-422c-e965-2abf46dacd03"
      },
      "execution_count": 15,
      "outputs": [
        {
          "output_type": "stream",
          "name": "stdout",
          "text": [
            "Collecting wandb\n",
            "  Downloading wandb-0.16.4-py3-none-any.whl (2.2 MB)\n",
            "\u001b[2K     \u001b[90m━━━━━━━━━━━━━━━━━━━━━━━━━━━━━━━━━━━━━━━━\u001b[0m \u001b[32m2.2/2.2 MB\u001b[0m \u001b[31m10.2 MB/s\u001b[0m eta \u001b[36m0:00:00\u001b[0m\n",
            "\u001b[?25hRequirement already satisfied: Click!=8.0.0,>=7.1 in /usr/local/lib/python3.10/dist-packages (from wandb) (8.1.7)\n",
            "Collecting GitPython!=3.1.29,>=1.0.0 (from wandb)\n",
            "  Downloading GitPython-3.1.42-py3-none-any.whl (195 kB)\n",
            "\u001b[2K     \u001b[90m━━━━━━━━━━━━━━━━━━━━━━━━━━━━━━━━━━━━━━━━\u001b[0m \u001b[32m195.4/195.4 kB\u001b[0m \u001b[31m17.0 MB/s\u001b[0m eta \u001b[36m0:00:00\u001b[0m\n",
            "\u001b[?25hRequirement already satisfied: requests<3,>=2.0.0 in /usr/local/lib/python3.10/dist-packages (from wandb) (2.31.0)\n",
            "Requirement already satisfied: psutil>=5.0.0 in /usr/local/lib/python3.10/dist-packages (from wandb) (5.9.5)\n",
            "Collecting sentry-sdk>=1.0.0 (from wandb)\n",
            "  Downloading sentry_sdk-1.42.0-py2.py3-none-any.whl (263 kB)\n",
            "\u001b[2K     \u001b[90m━━━━━━━━━━━━━━━━━━━━━━━━━━━━━━━━━━━━━━━━\u001b[0m \u001b[32m263.5/263.5 kB\u001b[0m \u001b[31m23.8 MB/s\u001b[0m eta \u001b[36m0:00:00\u001b[0m\n",
            "\u001b[?25hCollecting docker-pycreds>=0.4.0 (from wandb)\n",
            "  Downloading docker_pycreds-0.4.0-py2.py3-none-any.whl (9.0 kB)\n",
            "Requirement already satisfied: PyYAML in /usr/local/lib/python3.10/dist-packages (from wandb) (6.0.1)\n",
            "Collecting setproctitle (from wandb)\n",
            "  Downloading setproctitle-1.3.3-cp310-cp310-manylinux_2_5_x86_64.manylinux1_x86_64.manylinux_2_17_x86_64.manylinux2014_x86_64.whl (30 kB)\n",
            "Requirement already satisfied: setuptools in /usr/local/lib/python3.10/dist-packages (from wandb) (67.7.2)\n",
            "Requirement already satisfied: appdirs>=1.4.3 in /usr/local/lib/python3.10/dist-packages (from wandb) (1.4.4)\n",
            "Requirement already satisfied: protobuf!=4.21.0,<5,>=3.19.0 in /usr/local/lib/python3.10/dist-packages (from wandb) (3.20.3)\n",
            "Requirement already satisfied: six>=1.4.0 in /usr/local/lib/python3.10/dist-packages (from docker-pycreds>=0.4.0->wandb) (1.16.0)\n",
            "Collecting gitdb<5,>=4.0.1 (from GitPython!=3.1.29,>=1.0.0->wandb)\n",
            "  Downloading gitdb-4.0.11-py3-none-any.whl (62 kB)\n",
            "\u001b[2K     \u001b[90m━━━━━━━━━━━━━━━━━━━━━━━━━━━━━━━━━━━━━━━━\u001b[0m \u001b[32m62.7/62.7 kB\u001b[0m \u001b[31m6.4 MB/s\u001b[0m eta \u001b[36m0:00:00\u001b[0m\n",
            "\u001b[?25hRequirement already satisfied: charset-normalizer<4,>=2 in /usr/local/lib/python3.10/dist-packages (from requests<3,>=2.0.0->wandb) (3.3.2)\n",
            "Requirement already satisfied: idna<4,>=2.5 in /usr/local/lib/python3.10/dist-packages (from requests<3,>=2.0.0->wandb) (3.6)\n",
            "Requirement already satisfied: urllib3<3,>=1.21.1 in /usr/local/lib/python3.10/dist-packages (from requests<3,>=2.0.0->wandb) (2.0.7)\n",
            "Requirement already satisfied: certifi>=2017.4.17 in /usr/local/lib/python3.10/dist-packages (from requests<3,>=2.0.0->wandb) (2024.2.2)\n",
            "Collecting smmap<6,>=3.0.1 (from gitdb<5,>=4.0.1->GitPython!=3.1.29,>=1.0.0->wandb)\n",
            "  Downloading smmap-5.0.1-py3-none-any.whl (24 kB)\n",
            "Installing collected packages: smmap, setproctitle, sentry-sdk, docker-pycreds, gitdb, GitPython, wandb\n",
            "Successfully installed GitPython-3.1.42 docker-pycreds-0.4.0 gitdb-4.0.11 sentry-sdk-1.42.0 setproctitle-1.3.3 smmap-5.0.1 wandb-0.16.4\n"
          ]
        }
      ]
    },
    {
      "cell_type": "code",
      "execution_count": 16,
      "metadata": {
        "id": "8bPyudGY49Hy"
      },
      "outputs": [],
      "source": [
        "import wandb\n",
        "import numpy as np\n",
        "from types import SimpleNamespace\n",
        "import random"
      ]
    },
    {
      "cell_type": "code",
      "execution_count": 17,
      "metadata": {
        "colab": {
          "base_uri": "https://localhost:8080/"
        },
        "id": "RK6HY_eV49Hy",
        "outputId": "69c14a1e-f9e7-4caf-ee51-0eedd3a72822"
      },
      "outputs": [
        {
          "output_type": "stream",
          "name": "stderr",
          "text": [
            "\u001b[34m\u001b[1mwandb\u001b[0m: W&B API key is configured. Use \u001b[1m`wandb login --relogin`\u001b[0m to force relogin\n",
            "\u001b[34m\u001b[1mwandb\u001b[0m: \u001b[33mWARNING\u001b[0m If you're specifying your api key in code, ensure this code is not shared publicly.\n",
            "\u001b[34m\u001b[1mwandb\u001b[0m: \u001b[33mWARNING\u001b[0m Consider setting the WANDB_API_KEY environment variable, or running `wandb login` from the command line.\n",
            "\u001b[34m\u001b[1mwandb\u001b[0m: Appending key for api.wandb.ai to your netrc file: /root/.netrc\n"
          ]
        },
        {
          "output_type": "execute_result",
          "data": {
            "text/plain": [
              "True"
            ]
          },
          "metadata": {},
          "execution_count": 17
        }
      ],
      "source": [
        "wandb.login(key='bb3c7761be2856a8335d16d1483149380482ae9e')"
      ]
    },
    {
      "cell_type": "code",
      "execution_count": 26,
      "metadata": {
        "colab": {
          "base_uri": "https://localhost:8080/"
        },
        "id": "eHruDnPU49Hz",
        "outputId": "a2f4d538-411b-4b72-c731-5e4243be94ee"
      },
      "outputs": [
        {
          "output_type": "stream",
          "name": "stdout",
          "text": [
            "Create sweep with ID: z1scljwl\n",
            "Sweep URL: https://wandb.ai/abanisingha1997/dl_assignment_1/sweeps/z1scljwl\n"
          ]
        }
      ],
      "source": [
        "\n",
        "sweep_config = {\n",
        "    'method': 'bayes',\n",
        "    'name' : 'sweep cross entropy now',\n",
        "    'metric': {\n",
        "      'name': 'Val_accuracy',\n",
        "      'goal': 'maximize'\n",
        "    },\n",
        "    'parameters': {\n",
        "        'epochs': {\n",
        "            'values': [5,10]\n",
        "        },\n",
        "         'hidden_size':{\n",
        "            'values':[64,128]#32\n",
        "        },\n",
        "        'activation': {\n",
        "            'values':['sigmoid','relu']#,'tanh']\n",
        "        },\n",
        "        'hidden_layer': {\n",
        "            'values':[3,4,5]\n",
        "        },\n",
        "        'weight': {\n",
        "            'values':['xavier']#,'random']\n",
        "        },\n",
        "        'optimizer': {\n",
        "            'values': ['Nadam','adam']#,'RMSprop']#,'sgd','momentum','nag']\n",
        "        },\n",
        "        'learning_rate':{\n",
        "            'values': [ 1e-4]#,1e-3]\n",
        "        },\n",
        "        'batch_size':{\n",
        "            'values':[ 64, 32]#, 16]\n",
        "        },\n",
        "        'weight_decay':{\n",
        "            'values':[0]\n",
        "        }\n",
        "    }\n",
        "}\n",
        "\n",
        "sweep_id = wandb.sweep(sweep=sweep_config, project='dl_assignment_1')"
      ]
    },
    {
      "cell_type": "markdown",
      "source": [
        "WandB calls main function each time with differnet combination."
      ],
      "metadata": {
        "id": "M4O4u3G3VrnB"
      }
    },
    {
      "cell_type": "code",
      "source": [
        "def main():\n",
        "    '''\n",
        "    WandB calls main function each time with differnet combination.\n",
        "\n",
        "    We can retrive the same and use the same values for our hypermeters.\n",
        "\n",
        "    '''\n",
        "\n",
        "\n",
        "\n",
        "    with wandb.init() as run:\n",
        "        run_name=\"ac-\"+(wandb.config.activation)+\"_hs-\"+str(wandb.config.hidden_size)+\"_epc-\"+str(wandb.config.epochs)+\"_hl-\"+str(wandb.config.hidden_layer)+\"_wd-\"+str(wandb.config.weight_decay)+\"_lr-\"+str(wandb.config.learning_rate)+\"_opt-\"+str(wandb.config.optimizer)+\"_bs-\"+str(wandb.config.batch_size)+\"_wi-\"+str(wandb.config.weight)\n",
        "        wandb.run.name=run_name\n",
        "\n",
        "\n",
        "        model_train(wandb.config.learning_rate,  X_train, Y_train, X_valid, Y_valid, wandb.config.optimizer,wandb.config.weight_decay, wandb.config.epochs, wandb.config.activation, wandb.config.hidden_layer,\n",
        "                    wandb.config.hidden_size,wandb.config.weight, 784, 10, wandb.config.batch_size,eps=0.01, beta=0.9, beta1=0.9, beta2=0.99)\n",
        "\n",
        "\n",
        "\n",
        "wandb.agent(sweep_id, function=main,count=7) # calls main function for count number of times.\n",
        "wandb.finish()"
      ],
      "metadata": {
        "id": "JJL7Z1BE8b_s",
        "colab": {
          "base_uri": "https://localhost:8080/",
          "height": 1000,
          "referenced_widgets": [
            "726c264dfe61431995fbebb665dc5b05",
            "5e6bc0506eac4191ad4f8a28f43a4f58",
            "98ac1afe25414c43b5b7d4dee4ebdb1d",
            "036ce6afef52456e9a6dc3a48861a3a1",
            "176049ee2e97494a93ab32d3415a7d14",
            "ed0ae91c849a4f04ad0bf087a24ae60e",
            "a979870da06c4f10a5228a70d4a2638f",
            "4d70cf645e9445dbb4ff26ec8478f796",
            "9416420b83204489ae66e3e15b6d812d",
            "d5fd51e55112433693159a8d391f48c1",
            "d559ee510d2142d28f6ac9e2ec9ee8f1",
            "5378fb122b094c10bcde8b05a2ab3bf8",
            "fe809247d803455fa6f25de131474328",
            "47979748565646dca8832c26b8d05293",
            "bdc763c6aa04498ab3afd8fcf8a193c4",
            "0f9ee9090de14f47ac078022f40e350c",
            "06e3c0b6e8b540239bf9c723db20458a",
            "c86f7988a2c44866bd700aa79b22ab1b",
            "4c0d6180d9684e9da56ebc4cbe5cc6ff",
            "38b2e1a76f0446bc9be125935bbce208",
            "5ded585d738e4fb49e28271c01bd95fb",
            "a3393050fbc9472d9a08cf12b24a2a54",
            "411b808764a24e86b1fecf5a21320f0f",
            "846884ac06c54a7181f7d1340eab39d9",
            "265720ceb4c44d5fbc837b8b9e317704",
            "5c5d95a84d9542f296fc89641efa0b89",
            "383044ca45e349319a53611ab4fb762e",
            "974c5c6129014032955d01cfd733c416",
            "d316573f7c8848feb5a36b19e03555a3",
            "76eb2b6f09d84857b7680bd0901f58e5",
            "3b41d5f7eb6b4889bb8ea7fb689125f8",
            "fdc8ef2a431343b6838a3d91e8875f6b",
            "21d60beed29841e5bcda9ddddef9cd50",
            "f8daca4f228547049402c8cf10bcab9d",
            "0feaee9f3bc7498baa0508444abd95f2",
            "2e7d770697dc496a8e83d22cf478b1d4",
            "cef220ed21ca4c34b6f7c6d7428ad797",
            "4c0224061c424ddf8aa7dcdc8cb583fc",
            "0b614ef641fd4d9c9465285ce5a70a37",
            "a479206369bd444fa915fdef503e5541",
            "6d32950eb7114ddbbd031309dc965000",
            "a71fa33ea9b44542bd9d3263bbf77eba",
            "f68c0743f71c46bba5d4f414ff23515a",
            "59ce90eb930c4b098d5a46a129ea1d5d",
            "24a22c007ddc4653ada58790568b3401",
            "ffd5b41a33af458a9711c0f1dd690828",
            "8da2ab08431f4d859658e696d48e0ebf",
            "84ebef969cf04eb1be627fb0d597672f",
            "1399907d10724c6cb71e77197f00a719",
            "b4542cc600774674addde57b7d1f3d30",
            "f973702469044cd3893d6953268590a0",
            "7cb4fb997418453585dee8b77859af97",
            "93fe4fd1477c44dfb99c2f4bdcb8dd5f",
            "e694de5784e64118964c6c7ebdd760ad",
            "0b3b03ac203444038aa14ccc8fb5d494",
            "c14453a546204bfab2abc1366152365e"
          ]
        },
        "outputId": "2c3bbd5d-68d0-4e66-b863-a48c99df016c"
      },
      "execution_count": 27,
      "outputs": [
        {
          "output_type": "stream",
          "name": "stderr",
          "text": [
            "\u001b[34m\u001b[1mwandb\u001b[0m: Agent Starting Run: 1dbx9238 with config:\n",
            "\u001b[34m\u001b[1mwandb\u001b[0m: \tactivation: relu\n",
            "\u001b[34m\u001b[1mwandb\u001b[0m: \tbatch_size: 64\n",
            "\u001b[34m\u001b[1mwandb\u001b[0m: \tepochs: 5\n",
            "\u001b[34m\u001b[1mwandb\u001b[0m: \thidden_layer: 5\n",
            "\u001b[34m\u001b[1mwandb\u001b[0m: \thidden_size: 128\n",
            "\u001b[34m\u001b[1mwandb\u001b[0m: \tlearning_rate: 0.0001\n",
            "\u001b[34m\u001b[1mwandb\u001b[0m: \toptimizer: Nadam\n",
            "\u001b[34m\u001b[1mwandb\u001b[0m: \tweight: xavier\n",
            "\u001b[34m\u001b[1mwandb\u001b[0m: \tweight_decay: 0\n"
          ]
        },
        {
          "output_type": "display_data",
          "data": {
            "text/plain": [
              "<IPython.core.display.HTML object>"
            ],
            "text/html": [
              "Tracking run with wandb version 0.16.4"
            ]
          },
          "metadata": {}
        },
        {
          "output_type": "display_data",
          "data": {
            "text/plain": [
              "<IPython.core.display.HTML object>"
            ],
            "text/html": [
              "Run data is saved locally in <code>/content/wandb/run-20240317_142145-1dbx9238</code>"
            ]
          },
          "metadata": {}
        },
        {
          "output_type": "display_data",
          "data": {
            "text/plain": [
              "<IPython.core.display.HTML object>"
            ],
            "text/html": [
              "Syncing run <strong><a href='https://wandb.ai/abanisingha1997/dl_assignment_1/runs/1dbx9238' target=\"_blank\">honest-sweep-1</a></strong> to <a href='https://wandb.ai/abanisingha1997/dl_assignment_1' target=\"_blank\">Weights & Biases</a> (<a href='https://wandb.me/run' target=\"_blank\">docs</a>)<br/>Sweep page: <a href='https://wandb.ai/abanisingha1997/dl_assignment_1/sweeps/z1scljwl' target=\"_blank\">https://wandb.ai/abanisingha1997/dl_assignment_1/sweeps/z1scljwl</a>"
            ]
          },
          "metadata": {}
        },
        {
          "output_type": "display_data",
          "data": {
            "text/plain": [
              "<IPython.core.display.HTML object>"
            ],
            "text/html": [
              " View project at <a href='https://wandb.ai/abanisingha1997/dl_assignment_1' target=\"_blank\">https://wandb.ai/abanisingha1997/dl_assignment_1</a>"
            ]
          },
          "metadata": {}
        },
        {
          "output_type": "display_data",
          "data": {
            "text/plain": [
              "<IPython.core.display.HTML object>"
            ],
            "text/html": [
              " View sweep at <a href='https://wandb.ai/abanisingha1997/dl_assignment_1/sweeps/z1scljwl' target=\"_blank\">https://wandb.ai/abanisingha1997/dl_assignment_1/sweeps/z1scljwl</a>"
            ]
          },
          "metadata": {}
        },
        {
          "output_type": "display_data",
          "data": {
            "text/plain": [
              "<IPython.core.display.HTML object>"
            ],
            "text/html": [
              " View run at <a href='https://wandb.ai/abanisingha1997/dl_assignment_1/runs/1dbx9238' target=\"_blank\">https://wandb.ai/abanisingha1997/dl_assignment_1/runs/1dbx9238</a>"
            ]
          },
          "metadata": {}
        },
        {
          "output_type": "stream",
          "name": "stdout",
          "text": [
            "Epoch 1, Loss: 0.8058853365692134 , Accuracy: 70.63333333333334\n",
            "Epoch 2, Loss: 0.7523985080299596 , Accuracy: 73.29375\n",
            "Epoch 3, Loss: 0.5431760573653146 , Accuracy: 80.78125\n",
            "Epoch 4, Loss: 0.5564953158042266 , Accuracy: 78.10416666666666\n",
            "Epoch 5, Loss: 0.5043074154790447 , Accuracy: 81.53958333333333\n"
          ]
        },
        {
          "output_type": "display_data",
          "data": {
            "text/plain": [
              "<Figure size 640x480 with 1 Axes>"
            ],
            "image/png": "[encoded data removed]"
          },
          "metadata": {}
        },
        {
          "output_type": "display_data",
          "data": {
            "text/plain": [
              "VBox(children=(Label(value='0.001 MB of 0.001 MB uploaded\\r'), FloatProgress(value=1.0, max=1.0)))"
            ],
            "application/vnd.jupyter.widget-view+json": {
              "version_major": 2,
              "version_minor": 0,
              "model_id": "726c264dfe61431995fbebb665dc5b05"
            }
          },
          "metadata": {}
        },
        {
          "output_type": "display_data",
          "data": {
            "text/plain": [
              "<IPython.core.display.HTML object>"
            ],
            "text/html": [
              "<style>\n",
              "    table.wandb td:nth-child(1) { padding: 0 10px; text-align: left ; width: auto;} td:nth-child(2) {text-align: left ; width: 100%}\n",
              "    .wandb-row { display: flex; flex-direction: row; flex-wrap: wrap; justify-content: flex-start; width: 100% }\n",
              "    .wandb-col { display: flex; flex-direction: column; flex-basis: 100%; flex: 1; padding: 10px; }\n",
              "    </style>\n",
              "<div class=\"wandb-row\"><div class=\"wandb-col\"><h3>Run history:</h3><br/><table class=\"wandb\"><tr><td>Val_accuracy</td><td>▁▃█▆█</td></tr><tr><td>epoch</td><td>▁▃▅▆█</td></tr><tr><td>train_accuracy</td><td>▁▃█▆█</td></tr><tr><td>train_loss</td><td>█▇▂▂▁</td></tr></table><br/></div><div class=\"wandb-col\"><h3>Run summary:</h3><br/><table class=\"wandb\"><tr><td>Val_accuracy</td><td>80.83333</td></tr><tr><td>epoch</td><td>4</td></tr><tr><td>train_accuracy</td><td>81.53958</td></tr><tr><td>train_loss</td><td>0.50431</td></tr></table><br/></div></div>"
            ]
          },
          "metadata": {}
        },
        {
          "output_type": "display_data",
          "data": {
            "text/plain": [
              "<IPython.core.display.HTML object>"
            ],
            "text/html": [
              " View run <strong style=\"color:#cdcd00\">honest-sweep-1</strong> at: <a href='https://wandb.ai/abanisingha1997/dl_assignment_1/runs/1dbx9238' target=\"_blank\">https://wandb.ai/abanisingha1997/dl_assignment_1/runs/1dbx9238</a><br/>Synced 5 W&B file(s), 0 media file(s), 0 artifact file(s) and 0 other file(s)"
            ]
          },
          "metadata": {}
        },
        {
          "output_type": "display_data",
          "data": {
            "text/plain": [
              "<IPython.core.display.HTML object>"
            ],
            "text/html": [
              "Find logs at: <code>./wandb/run-20240317_142145-1dbx9238/logs</code>"
            ]
          },
          "metadata": {}
        },
        {
          "output_type": "stream",
          "name": "stderr",
          "text": [
            "\u001b[34m\u001b[1mwandb\u001b[0m: Agent Starting Run: zyrnwv58 with config:\n",
            "\u001b[34m\u001b[1mwandb\u001b[0m: \tactivation: sigmoid\n",
            "\u001b[34m\u001b[1mwandb\u001b[0m: \tbatch_size: 32\n",
            "\u001b[34m\u001b[1mwandb\u001b[0m: \tepochs: 10\n",
            "\u001b[34m\u001b[1mwandb\u001b[0m: \thidden_layer: 3\n",
            "\u001b[34m\u001b[1mwandb\u001b[0m: \thidden_size: 128\n",
            "\u001b[34m\u001b[1mwandb\u001b[0m: \tlearning_rate: 0.0001\n",
            "\u001b[34m\u001b[1mwandb\u001b[0m: \toptimizer: Nadam\n",
            "\u001b[34m\u001b[1mwandb\u001b[0m: \tweight: xavier\n",
            "\u001b[34m\u001b[1mwandb\u001b[0m: \tweight_decay: 0\n"
          ]
        },
        {
          "output_type": "display_data",
          "data": {
            "text/plain": [
              "<IPython.core.display.HTML object>"
            ],
            "text/html": [
              "Tracking run with wandb version 0.16.4"
            ]
          },
          "metadata": {}
        },
        {
          "output_type": "display_data",
          "data": {
            "text/plain": [
              "<IPython.core.display.HTML object>"
            ],
            "text/html": [
              "Run data is saved locally in <code>/content/wandb/run-20240317_142828-zyrnwv58</code>"
            ]
          },
          "metadata": {}
        },
        {
          "output_type": "display_data",
          "data": {
            "text/plain": [
              "<IPython.core.display.HTML object>"
            ],
            "text/html": [
              "Syncing run <strong><a href='https://wandb.ai/abanisingha1997/dl_assignment_1/runs/zyrnwv58' target=\"_blank\">sage-sweep-2</a></strong> to <a href='https://wandb.ai/abanisingha1997/dl_assignment_1' target=\"_blank\">Weights & Biases</a> (<a href='https://wandb.me/run' target=\"_blank\">docs</a>)<br/>Sweep page: <a href='https://wandb.ai/abanisingha1997/dl_assignment_1/sweeps/z1scljwl' target=\"_blank\">https://wandb.ai/abanisingha1997/dl_assignment_1/sweeps/z1scljwl</a>"
            ]
          },
          "metadata": {}
        },
        {
          "output_type": "display_data",
          "data": {
            "text/plain": [
              "<IPython.core.display.HTML object>"
            ],
            "text/html": [
              " View project at <a href='https://wandb.ai/abanisingha1997/dl_assignment_1' target=\"_blank\">https://wandb.ai/abanisingha1997/dl_assignment_1</a>"
            ]
          },
          "metadata": {}
        },
        {
          "output_type": "display_data",
          "data": {
            "text/plain": [
              "<IPython.core.display.HTML object>"
            ],
            "text/html": [
              " View sweep at <a href='https://wandb.ai/abanisingha1997/dl_assignment_1/sweeps/z1scljwl' target=\"_blank\">https://wandb.ai/abanisingha1997/dl_assignment_1/sweeps/z1scljwl</a>"
            ]
          },
          "metadata": {}
        },
        {
          "output_type": "display_data",
          "data": {
            "text/plain": [
              "<IPython.core.display.HTML object>"
            ],
            "text/html": [
              " View run at <a href='https://wandb.ai/abanisingha1997/dl_assignment_1/runs/zyrnwv58' target=\"_blank\">https://wandb.ai/abanisingha1997/dl_assignment_1/runs/zyrnwv58</a>"
            ]
          },
          "metadata": {}
        },
        {
          "output_type": "stream",
          "name": "stdout",
          "text": [
            "Epoch 1, Loss: 0.835089246877713 , Accuracy: 64.75625000000001\n",
            "Epoch 2, Loss: 0.5685985587941885 , Accuracy: 77.58958333333334\n",
            "Epoch 3, Loss: 0.5068550946762015 , Accuracy: 81.32083333333333\n",
            "Epoch 4, Loss: 0.48627438511064386 , Accuracy: 81.96666666666667\n",
            "Epoch 5, Loss: 0.454860316213965 , Accuracy: 82.66666666666667\n",
            "Epoch 6, Loss: 0.41270946427821037 , Accuracy: 84.82291666666667\n",
            "Epoch 7, Loss: 0.37330430707332807 , Accuracy: 86.35000000000001\n",
            "Epoch 8, Loss: 0.37304807864698447 , Accuracy: 86.175\n",
            "Epoch 9, Loss: 0.3755320163848613 , Accuracy: 86.05833333333334\n",
            "Epoch 10, Loss: 0.37594531752011107 , Accuracy: 85.42916666666667\n"
          ]
        },
        {
          "output_type": "display_data",
          "data": {
            "text/plain": [
              "<Figure size 640x480 with 1 Axes>"
            ],
            "image/png": "[encoded data removed]"
          },
          "metadata": {}
        },
        {
          "output_type": "display_data",
          "data": {
            "text/plain": [
              "VBox(children=(Label(value='0.001 MB of 0.011 MB uploaded\\r'), FloatProgress(value=0.09025055394579853, max=1.…"
            ],
            "application/vnd.jupyter.widget-view+json": {
              "version_major": 2,
              "version_minor": 0,
              "model_id": "9416420b83204489ae66e3e15b6d812d"
            }
          },
          "metadata": {}
        },
        {
          "output_type": "display_data",
          "data": {
            "text/plain": [
              "<IPython.core.display.HTML object>"
            ],
            "text/html": [
              "<style>\n",
              "    table.wandb td:nth-child(1) { padding: 0 10px; text-align: left ; width: auto;} td:nth-child(2) {text-align: left ; width: 100%}\n",
              "    .wandb-row { display: flex; flex-direction: row; flex-wrap: wrap; justify-content: flex-start; width: 100% }\n",
              "    .wandb-col { display: flex; flex-direction: column; flex-basis: 100%; flex: 1; padding: 10px; }\n",
              "    </style>\n",
              "<div class=\"wandb-row\"><div class=\"wandb-col\"><h3>Run history:</h3><br/><table class=\"wandb\"><tr><td>Val_accuracy</td><td>▁▅▆▇▇█████</td></tr><tr><td>epoch</td><td>▁▂▃▃▄▅▆▆▇█</td></tr><tr><td>train_accuracy</td><td>▁▅▆▇▇█████</td></tr><tr><td>train_loss</td><td>█▄▃▃▂▂▁▁▁▁</td></tr></table><br/></div><div class=\"wandb-col\"><h3>Run summary:</h3><br/><table class=\"wandb\"><tr><td>Val_accuracy</td><td>84.45</td></tr><tr><td>epoch</td><td>9</td></tr><tr><td>train_accuracy</td><td>85.42917</td></tr><tr><td>train_loss</td><td>0.37595</td></tr></table><br/></div></div>"
            ]
          },
          "metadata": {}
        },
        {
          "output_type": "display_data",
          "data": {
            "text/plain": [
              "<IPython.core.display.HTML object>"
            ],
            "text/html": [
              " View run <strong style=\"color:#cdcd00\">sage-sweep-2</strong> at: <a href='https://wandb.ai/abanisingha1997/dl_assignment_1/runs/zyrnwv58' target=\"_blank\">https://wandb.ai/abanisingha1997/dl_assignment_1/runs/zyrnwv58</a><br/>Synced 5 W&B file(s), 0 media file(s), 0 artifact file(s) and 0 other file(s)"
            ]
          },
          "metadata": {}
        },
        {
          "output_type": "display_data",
          "data": {
            "text/plain": [
              "<IPython.core.display.HTML object>"
            ],
            "text/html": [
              "Find logs at: <code>./wandb/run-20240317_142828-zyrnwv58/logs</code>"
            ]
          },
          "metadata": {}
        },
        {
          "output_type": "stream",
          "name": "stderr",
          "text": [
            "\u001b[34m\u001b[1mwandb\u001b[0m: Agent Starting Run: bpfpyk9h with config:\n",
            "\u001b[34m\u001b[1mwandb\u001b[0m: \tactivation: sigmoid\n",
            "\u001b[34m\u001b[1mwandb\u001b[0m: \tbatch_size: 32\n",
            "\u001b[34m\u001b[1mwandb\u001b[0m: \tepochs: 10\n",
            "\u001b[34m\u001b[1mwandb\u001b[0m: \thidden_layer: 4\n",
            "\u001b[34m\u001b[1mwandb\u001b[0m: \thidden_size: 128\n",
            "\u001b[34m\u001b[1mwandb\u001b[0m: \tlearning_rate: 0.0001\n",
            "\u001b[34m\u001b[1mwandb\u001b[0m: \toptimizer: Nadam\n",
            "\u001b[34m\u001b[1mwandb\u001b[0m: \tweight: xavier\n",
            "\u001b[34m\u001b[1mwandb\u001b[0m: \tweight_decay: 0\n"
          ]
        },
        {
          "output_type": "display_data",
          "data": {
            "text/plain": [
              "<IPython.core.display.HTML object>"
            ],
            "text/html": [
              "Tracking run with wandb version 0.16.4"
            ]
          },
          "metadata": {}
        },
        {
          "output_type": "display_data",
          "data": {
            "text/plain": [
              "<IPython.core.display.HTML object>"
            ],
            "text/html": [
              "Run data is saved locally in <code>/content/wandb/run-20240317_144048-bpfpyk9h</code>"
            ]
          },
          "metadata": {}
        },
        {
          "output_type": "display_data",
          "data": {
            "text/plain": [
              "<IPython.core.display.HTML object>"
            ],
            "text/html": [
              "Syncing run <strong><a href='https://wandb.ai/abanisingha1997/dl_assignment_1/runs/bpfpyk9h' target=\"_blank\">desert-sweep-3</a></strong> to <a href='https://wandb.ai/abanisingha1997/dl_assignment_1' target=\"_blank\">Weights & Biases</a> (<a href='https://wandb.me/run' target=\"_blank\">docs</a>)<br/>Sweep page: <a href='https://wandb.ai/abanisingha1997/dl_assignment_1/sweeps/z1scljwl' target=\"_blank\">https://wandb.ai/abanisingha1997/dl_assignment_1/sweeps/z1scljwl</a>"
            ]
          },
          "metadata": {}
        },
        {
          "output_type": "display_data",
          "data": {
            "text/plain": [
              "<IPython.core.display.HTML object>"
            ],
            "text/html": [
              " View project at <a href='https://wandb.ai/abanisingha1997/dl_assignment_1' target=\"_blank\">https://wandb.ai/abanisingha1997/dl_assignment_1</a>"
            ]
          },
          "metadata": {}
        },
        {
          "output_type": "display_data",
          "data": {
            "text/plain": [
              "<IPython.core.display.HTML object>"
            ],
            "text/html": [
              " View sweep at <a href='https://wandb.ai/abanisingha1997/dl_assignment_1/sweeps/z1scljwl' target=\"_blank\">https://wandb.ai/abanisingha1997/dl_assignment_1/sweeps/z1scljwl</a>"
            ]
          },
          "metadata": {}
        },
        {
          "output_type": "display_data",
          "data": {
            "text/plain": [
              "<IPython.core.display.HTML object>"
            ],
            "text/html": [
              " View run at <a href='https://wandb.ai/abanisingha1997/dl_assignment_1/runs/bpfpyk9h' target=\"_blank\">https://wandb.ai/abanisingha1997/dl_assignment_1/runs/bpfpyk9h</a>"
            ]
          },
          "metadata": {}
        },
        {
          "output_type": "stream",
          "name": "stdout",
          "text": [
            "Epoch 1, Loss: 0.8855102069952506 , Accuracy: 61.21458333333333\n",
            "Epoch 2, Loss: 0.6321821270218965 , Accuracy: 76.39375000000001\n",
            "Epoch 3, Loss: 0.6192070070173893 , Accuracy: 77.05416666666667\n",
            "Epoch 4, Loss: 0.5564342034115921 , Accuracy: 79.51666666666667\n",
            "Epoch 5, Loss: 0.48454566354235057 , Accuracy: 83.16875\n",
            "Epoch 6, Loss: 0.41614779600000057 , Accuracy: 85.01458333333333\n",
            "Epoch 7, Loss: 0.4223978792251703 , Accuracy: 85.21666666666667\n",
            "Epoch 8, Loss: 0.4253820771685923 , Accuracy: 84.15208333333334\n",
            "Epoch 9, Loss: 0.401860540770362 , Accuracy: 85.44791666666667\n",
            "Epoch 10, Loss: 0.3984368471511936 , Accuracy: 85.25625\n"
          ]
        },
        {
          "output_type": "display_data",
          "data": {
            "text/plain": [
              "<Figure size 640x480 with 1 Axes>"
            ],
            "image/png": "[encoded data removed]"
          },
          "metadata": {}
        },
        {
          "output_type": "display_data",
          "data": {
            "text/plain": [
              "VBox(children=(Label(value='0.001 MB of 0.001 MB uploaded\\r'), FloatProgress(value=1.0, max=1.0)))"
            ],
            "application/vnd.jupyter.widget-view+json": {
              "version_major": 2,
              "version_minor": 0,
              "model_id": "06e3c0b6e8b540239bf9c723db20458a"
            }
          },
          "metadata": {}
        },
        {
          "output_type": "display_data",
          "data": {
            "text/plain": [
              "<IPython.core.display.HTML object>"
            ],
            "text/html": [
              "<style>\n",
              "    table.wandb td:nth-child(1) { padding: 0 10px; text-align: left ; width: auto;} td:nth-child(2) {text-align: left ; width: 100%}\n",
              "    .wandb-row { display: flex; flex-direction: row; flex-wrap: wrap; justify-content: flex-start; width: 100% }\n",
              "    .wandb-col { display: flex; flex-direction: column; flex-basis: 100%; flex: 1; padding: 10px; }\n",
              "    </style>\n",
              "<div class=\"wandb-row\"><div class=\"wandb-col\"><h3>Run history:</h3><br/><table class=\"wandb\"><tr><td>Val_accuracy</td><td>▁▅▆▆▇█████</td></tr><tr><td>epoch</td><td>▁▂▃▃▄▅▆▆▇█</td></tr><tr><td>train_accuracy</td><td>▁▅▆▆▇█████</td></tr><tr><td>train_loss</td><td>█▄▄▃▂▁▁▁▁▁</td></tr></table><br/></div><div class=\"wandb-col\"><h3>Run summary:</h3><br/><table class=\"wandb\"><tr><td>Val_accuracy</td><td>84.425</td></tr><tr><td>epoch</td><td>9</td></tr><tr><td>train_accuracy</td><td>85.25625</td></tr><tr><td>train_loss</td><td>0.39844</td></tr></table><br/></div></div>"
            ]
          },
          "metadata": {}
        },
        {
          "output_type": "display_data",
          "data": {
            "text/plain": [
              "<IPython.core.display.HTML object>"
            ],
            "text/html": [
              " View run <strong style=\"color:#cdcd00\">desert-sweep-3</strong> at: <a href='https://wandb.ai/abanisingha1997/dl_assignment_1/runs/bpfpyk9h' target=\"_blank\">https://wandb.ai/abanisingha1997/dl_assignment_1/runs/bpfpyk9h</a><br/>Synced 5 W&B file(s), 0 media file(s), 0 artifact file(s) and 0 other file(s)"
            ]
          },
          "metadata": {}
        },
        {
          "output_type": "display_data",
          "data": {
            "text/plain": [
              "<IPython.core.display.HTML object>"
            ],
            "text/html": [
              "Find logs at: <code>./wandb/run-20240317_144048-bpfpyk9h/logs</code>"
            ]
          },
          "metadata": {}
        },
        {
          "output_type": "stream",
          "name": "stderr",
          "text": [
            "\u001b[34m\u001b[1mwandb\u001b[0m: Agent Starting Run: 0mwa5twi with config:\n",
            "\u001b[34m\u001b[1mwandb\u001b[0m: \tactivation: sigmoid\n",
            "\u001b[34m\u001b[1mwandb\u001b[0m: \tbatch_size: 32\n",
            "\u001b[34m\u001b[1mwandb\u001b[0m: \tepochs: 10\n",
            "\u001b[34m\u001b[1mwandb\u001b[0m: \thidden_layer: 3\n",
            "\u001b[34m\u001b[1mwandb\u001b[0m: \thidden_size: 128\n",
            "\u001b[34m\u001b[1mwandb\u001b[0m: \tlearning_rate: 0.0001\n",
            "\u001b[34m\u001b[1mwandb\u001b[0m: \toptimizer: adam\n",
            "\u001b[34m\u001b[1mwandb\u001b[0m: \tweight: xavier\n",
            "\u001b[34m\u001b[1mwandb\u001b[0m: \tweight_decay: 0\n"
          ]
        },
        {
          "output_type": "display_data",
          "data": {
            "text/plain": [
              "<IPython.core.display.HTML object>"
            ],
            "text/html": [
              "Tracking run with wandb version 0.16.4"
            ]
          },
          "metadata": {}
        },
        {
          "output_type": "display_data",
          "data": {
            "text/plain": [
              "<IPython.core.display.HTML object>"
            ],
            "text/html": [
              "Run data is saved locally in <code>/content/wandb/run-20240317_145512-0mwa5twi</code>"
            ]
          },
          "metadata": {}
        },
        {
          "output_type": "display_data",
          "data": {
            "text/plain": [
              "<IPython.core.display.HTML object>"
            ],
            "text/html": [
              "Syncing run <strong><a href='https://wandb.ai/abanisingha1997/dl_assignment_1/runs/0mwa5twi' target=\"_blank\">peach-sweep-4</a></strong> to <a href='https://wandb.ai/abanisingha1997/dl_assignment_1' target=\"_blank\">Weights & Biases</a> (<a href='https://wandb.me/run' target=\"_blank\">docs</a>)<br/>Sweep page: <a href='https://wandb.ai/abanisingha1997/dl_assignment_1/sweeps/z1scljwl' target=\"_blank\">https://wandb.ai/abanisingha1997/dl_assignment_1/sweeps/z1scljwl</a>"
            ]
          },
          "metadata": {}
        },
        {
          "output_type": "display_data",
          "data": {
            "text/plain": [
              "<IPython.core.display.HTML object>"
            ],
            "text/html": [
              " View project at <a href='https://wandb.ai/abanisingha1997/dl_assignment_1' target=\"_blank\">https://wandb.ai/abanisingha1997/dl_assignment_1</a>"
            ]
          },
          "metadata": {}
        },
        {
          "output_type": "display_data",
          "data": {
            "text/plain": [
              "<IPython.core.display.HTML object>"
            ],
            "text/html": [
              " View sweep at <a href='https://wandb.ai/abanisingha1997/dl_assignment_1/sweeps/z1scljwl' target=\"_blank\">https://wandb.ai/abanisingha1997/dl_assignment_1/sweeps/z1scljwl</a>"
            ]
          },
          "metadata": {}
        },
        {
          "output_type": "display_data",
          "data": {
            "text/plain": [
              "<IPython.core.display.HTML object>"
            ],
            "text/html": [
              " View run at <a href='https://wandb.ai/abanisingha1997/dl_assignment_1/runs/0mwa5twi' target=\"_blank\">https://wandb.ai/abanisingha1997/dl_assignment_1/runs/0mwa5twi</a>"
            ]
          },
          "metadata": {}
        },
        {
          "output_type": "stream",
          "name": "stdout",
          "text": [
            "Epoch 1, Loss: 0.7399356567347805 , Accuracy: 71.95625\n",
            "Epoch 2, Loss: 0.6897463098813204 , Accuracy: 73.94375\n",
            "Epoch 3, Loss: 0.5123592203551872 , Accuracy: 81.86250000000001\n",
            "Epoch 4, Loss: 0.5049016483235006 , Accuracy: 81.76458333333333\n",
            "Epoch 5, Loss: 0.4532028453808936 , Accuracy: 83.7\n",
            "Epoch 6, Loss: 0.42394357541286337 , Accuracy: 84.57916666666667\n",
            "Epoch 7, Loss: 0.4084402196589455 , Accuracy: 84.95416666666667\n",
            "Epoch 8, Loss: 0.4219607558867531 , Accuracy: 84.14791666666666\n",
            "Epoch 9, Loss: 0.37140000112355886 , Accuracy: 86.42708333333333\n",
            "Epoch 10, Loss: 0.3656636114238392 , Accuracy: 86.5375\n"
          ]
        },
        {
          "output_type": "display_data",
          "data": {
            "text/plain": [
              "<Figure size 640x480 with 1 Axes>"
            ],
            "image/png": "[encoded data removed]"
          },
          "metadata": {}
        },
        {
          "output_type": "display_data",
          "data": {
            "text/plain": [
              "VBox(children=(Label(value='0.011 MB of 0.011 MB uploaded\\r'), FloatProgress(value=1.0, max=1.0)))"
            ],
            "application/vnd.jupyter.widget-view+json": {
              "version_major": 2,
              "version_minor": 0,
              "model_id": "265720ceb4c44d5fbc837b8b9e317704"
            }
          },
          "metadata": {}
        },
        {
          "output_type": "display_data",
          "data": {
            "text/plain": [
              "<IPython.core.display.HTML object>"
            ],
            "text/html": [
              "<style>\n",
              "    table.wandb td:nth-child(1) { padding: 0 10px; text-align: left ; width: auto;} td:nth-child(2) {text-align: left ; width: 100%}\n",
              "    .wandb-row { display: flex; flex-direction: row; flex-wrap: wrap; justify-content: flex-start; width: 100% }\n",
              "    .wandb-col { display: flex; flex-direction: column; flex-basis: 100%; flex: 1; padding: 10px; }\n",
              "    </style>\n",
              "<div class=\"wandb-row\"><div class=\"wandb-col\"><h3>Run history:</h3><br/><table class=\"wandb\"><tr><td>Val_accuracy</td><td>▁▂▆▆▇▇▇▇██</td></tr><tr><td>epoch</td><td>▁▂▃▃▄▅▆▆▇█</td></tr><tr><td>train_accuracy</td><td>▁▂▆▆▇▇▇▇██</td></tr><tr><td>train_loss</td><td>█▇▄▄▃▂▂▂▁▁</td></tr></table><br/></div><div class=\"wandb-col\"><h3>Run summary:</h3><br/><table class=\"wandb\"><tr><td>Val_accuracy</td><td>85.10833</td></tr><tr><td>epoch</td><td>9</td></tr><tr><td>train_accuracy</td><td>86.5375</td></tr><tr><td>train_loss</td><td>0.36566</td></tr></table><br/></div></div>"
            ]
          },
          "metadata": {}
        },
        {
          "output_type": "display_data",
          "data": {
            "text/plain": [
              "<IPython.core.display.HTML object>"
            ],
            "text/html": [
              " View run <strong style=\"color:#cdcd00\">peach-sweep-4</strong> at: <a href='https://wandb.ai/abanisingha1997/dl_assignment_1/runs/0mwa5twi' target=\"_blank\">https://wandb.ai/abanisingha1997/dl_assignment_1/runs/0mwa5twi</a><br/>Synced 5 W&B file(s), 0 media file(s), 0 artifact file(s) and 0 other file(s)"
            ]
          },
          "metadata": {}
        },
        {
          "output_type": "display_data",
          "data": {
            "text/plain": [
              "<IPython.core.display.HTML object>"
            ],
            "text/html": [
              "Find logs at: <code>./wandb/run-20240317_145512-0mwa5twi/logs</code>"
            ]
          },
          "metadata": {}
        },
        {
          "output_type": "stream",
          "name": "stderr",
          "text": [
            "\u001b[34m\u001b[1mwandb\u001b[0m: Agent Starting Run: vah2j9jg with config:\n",
            "\u001b[34m\u001b[1mwandb\u001b[0m: \tactivation: sigmoid\n",
            "\u001b[34m\u001b[1mwandb\u001b[0m: \tbatch_size: 32\n",
            "\u001b[34m\u001b[1mwandb\u001b[0m: \tepochs: 10\n",
            "\u001b[34m\u001b[1mwandb\u001b[0m: \thidden_layer: 3\n",
            "\u001b[34m\u001b[1mwandb\u001b[0m: \thidden_size: 64\n",
            "\u001b[34m\u001b[1mwandb\u001b[0m: \tlearning_rate: 0.0001\n",
            "\u001b[34m\u001b[1mwandb\u001b[0m: \toptimizer: adam\n",
            "\u001b[34m\u001b[1mwandb\u001b[0m: \tweight: xavier\n",
            "\u001b[34m\u001b[1mwandb\u001b[0m: \tweight_decay: 0\n"
          ]
        },
        {
          "output_type": "display_data",
          "data": {
            "text/plain": [
              "<IPython.core.display.HTML object>"
            ],
            "text/html": [
              "Tracking run with wandb version 0.16.4"
            ]
          },
          "metadata": {}
        },
        {
          "output_type": "display_data",
          "data": {
            "text/plain": [
              "<IPython.core.display.HTML object>"
            ],
            "text/html": [
              "Run data is saved locally in <code>/content/wandb/run-20240317_150709-vah2j9jg</code>"
            ]
          },
          "metadata": {}
        },
        {
          "output_type": "display_data",
          "data": {
            "text/plain": [
              "<IPython.core.display.HTML object>"
            ],
            "text/html": [
              "Syncing run <strong><a href='https://wandb.ai/abanisingha1997/dl_assignment_1/runs/vah2j9jg' target=\"_blank\">fiery-sweep-5</a></strong> to <a href='https://wandb.ai/abanisingha1997/dl_assignment_1' target=\"_blank\">Weights & Biases</a> (<a href='https://wandb.me/run' target=\"_blank\">docs</a>)<br/>Sweep page: <a href='https://wandb.ai/abanisingha1997/dl_assignment_1/sweeps/z1scljwl' target=\"_blank\">https://wandb.ai/abanisingha1997/dl_assignment_1/sweeps/z1scljwl</a>"
            ]
          },
          "metadata": {}
        },
        {
          "output_type": "display_data",
          "data": {
            "text/plain": [
              "<IPython.core.display.HTML object>"
            ],
            "text/html": [
              " View project at <a href='https://wandb.ai/abanisingha1997/dl_assignment_1' target=\"_blank\">https://wandb.ai/abanisingha1997/dl_assignment_1</a>"
            ]
          },
          "metadata": {}
        },
        {
          "output_type": "display_data",
          "data": {
            "text/plain": [
              "<IPython.core.display.HTML object>"
            ],
            "text/html": [
              " View sweep at <a href='https://wandb.ai/abanisingha1997/dl_assignment_1/sweeps/z1scljwl' target=\"_blank\">https://wandb.ai/abanisingha1997/dl_assignment_1/sweeps/z1scljwl</a>"
            ]
          },
          "metadata": {}
        },
        {
          "output_type": "display_data",
          "data": {
            "text/plain": [
              "<IPython.core.display.HTML object>"
            ],
            "text/html": [
              " View run at <a href='https://wandb.ai/abanisingha1997/dl_assignment_1/runs/vah2j9jg' target=\"_blank\">https://wandb.ai/abanisingha1997/dl_assignment_1/runs/vah2j9jg</a>"
            ]
          },
          "metadata": {}
        },
        {
          "output_type": "stream",
          "name": "stdout",
          "text": [
            "Epoch 1, Loss: 1.0660032264420591 , Accuracy: 61.23125\n",
            "Epoch 2, Loss: 0.6445934377565998 , Accuracy: 75.73541666666667\n",
            "Epoch 3, Loss: 0.5859119710607874 , Accuracy: 78.8375\n",
            "Epoch 4, Loss: 0.5226075217209041 , Accuracy: 80.69375\n",
            "Epoch 5, Loss: 0.4893064996557267 , Accuracy: 82.44166666666666\n",
            "Epoch 6, Loss: 0.44228085876917045 , Accuracy: 83.92500000000001\n",
            "Epoch 7, Loss: 0.4438887501208666 , Accuracy: 83.75208333333333\n",
            "Epoch 8, Loss: 0.4008419888549487 , Accuracy: 85.2375\n",
            "Epoch 9, Loss: 0.37623841630214383 , Accuracy: 86.61458333333333\n",
            "Epoch 10, Loss: 0.3945449583818059 , Accuracy: 85.40416666666667\n"
          ]
        },
        {
          "output_type": "display_data",
          "data": {
            "text/plain": [
              "<Figure size 640x480 with 1 Axes>"
            ],
            "image/png": "[encoded data removed]"
          },
          "metadata": {}
        },
        {
          "output_type": "display_data",
          "data": {
            "text/plain": [
              "VBox(children=(Label(value='0.001 MB of 0.011 MB uploaded\\r'), FloatProgress(value=0.09041962225450816, max=1.…"
            ],
            "application/vnd.jupyter.widget-view+json": {
              "version_major": 2,
              "version_minor": 0,
              "model_id": "21d60beed29841e5bcda9ddddef9cd50"
            }
          },
          "metadata": {}
        },
        {
          "output_type": "display_data",
          "data": {
            "text/plain": [
              "<IPython.core.display.HTML object>"
            ],
            "text/html": [
              "<style>\n",
              "    table.wandb td:nth-child(1) { padding: 0 10px; text-align: left ; width: auto;} td:nth-child(2) {text-align: left ; width: 100%}\n",
              "    .wandb-row { display: flex; flex-direction: row; flex-wrap: wrap; justify-content: flex-start; width: 100% }\n",
              "    .wandb-col { display: flex; flex-direction: column; flex-basis: 100%; flex: 1; padding: 10px; }\n",
              "    </style>\n",
              "<div class=\"wandb-row\"><div class=\"wandb-col\"><h3>Run history:</h3><br/><table class=\"wandb\"><tr><td>Val_accuracy</td><td>▁▅▆▇▇▇▇███</td></tr><tr><td>epoch</td><td>▁▂▃▃▄▅▆▆▇█</td></tr><tr><td>train_accuracy</td><td>▁▅▆▆▇▇▇███</td></tr><tr><td>train_loss</td><td>█▄▃▂▂▂▂▁▁▁</td></tr></table><br/></div><div class=\"wandb-col\"><h3>Run summary:</h3><br/><table class=\"wandb\"><tr><td>Val_accuracy</td><td>83.95</td></tr><tr><td>epoch</td><td>9</td></tr><tr><td>train_accuracy</td><td>85.40417</td></tr><tr><td>train_loss</td><td>0.39454</td></tr></table><br/></div></div>"
            ]
          },
          "metadata": {}
        },
        {
          "output_type": "display_data",
          "data": {
            "text/plain": [
              "<IPython.core.display.HTML object>"
            ],
            "text/html": [
              " View run <strong style=\"color:#cdcd00\">fiery-sweep-5</strong> at: <a href='https://wandb.ai/abanisingha1997/dl_assignment_1/runs/vah2j9jg' target=\"_blank\">https://wandb.ai/abanisingha1997/dl_assignment_1/runs/vah2j9jg</a><br/>Synced 5 W&B file(s), 0 media file(s), 0 artifact file(s) and 0 other file(s)"
            ]
          },
          "metadata": {}
        },
        {
          "output_type": "display_data",
          "data": {
            "text/plain": [
              "<IPython.core.display.HTML object>"
            ],
            "text/html": [
              "Find logs at: <code>./wandb/run-20240317_150709-vah2j9jg/logs</code>"
            ]
          },
          "metadata": {}
        },
        {
          "output_type": "stream",
          "name": "stderr",
          "text": [
            "\u001b[34m\u001b[1mwandb\u001b[0m: Agent Starting Run: vqdm861o with config:\n",
            "\u001b[34m\u001b[1mwandb\u001b[0m: \tactivation: sigmoid\n",
            "\u001b[34m\u001b[1mwandb\u001b[0m: \tbatch_size: 32\n",
            "\u001b[34m\u001b[1mwandb\u001b[0m: \tepochs: 10\n",
            "\u001b[34m\u001b[1mwandb\u001b[0m: \thidden_layer: 3\n",
            "\u001b[34m\u001b[1mwandb\u001b[0m: \thidden_size: 128\n",
            "\u001b[34m\u001b[1mwandb\u001b[0m: \tlearning_rate: 0.0001\n",
            "\u001b[34m\u001b[1mwandb\u001b[0m: \toptimizer: adam\n",
            "\u001b[34m\u001b[1mwandb\u001b[0m: \tweight: xavier\n",
            "\u001b[34m\u001b[1mwandb\u001b[0m: \tweight_decay: 0\n"
          ]
        },
        {
          "output_type": "display_data",
          "data": {
            "text/plain": [
              "<IPython.core.display.HTML object>"
            ],
            "text/html": [
              "Tracking run with wandb version 0.16.4"
            ]
          },
          "metadata": {}
        },
        {
          "output_type": "display_data",
          "data": {
            "text/plain": [
              "<IPython.core.display.HTML object>"
            ],
            "text/html": [
              "Run data is saved locally in <code>/content/wandb/run-20240317_151512-vqdm861o</code>"
            ]
          },
          "metadata": {}
        },
        {
          "output_type": "display_data",
          "data": {
            "text/plain": [
              "<IPython.core.display.HTML object>"
            ],
            "text/html": [
              "Syncing run <strong><a href='https://wandb.ai/abanisingha1997/dl_assignment_1/runs/vqdm861o' target=\"_blank\">easy-sweep-6</a></strong> to <a href='https://wandb.ai/abanisingha1997/dl_assignment_1' target=\"_blank\">Weights & Biases</a> (<a href='https://wandb.me/run' target=\"_blank\">docs</a>)<br/>Sweep page: <a href='https://wandb.ai/abanisingha1997/dl_assignment_1/sweeps/z1scljwl' target=\"_blank\">https://wandb.ai/abanisingha1997/dl_assignment_1/sweeps/z1scljwl</a>"
            ]
          },
          "metadata": {}
        },
        {
          "output_type": "display_data",
          "data": {
            "text/plain": [
              "<IPython.core.display.HTML object>"
            ],
            "text/html": [
              " View project at <a href='https://wandb.ai/abanisingha1997/dl_assignment_1' target=\"_blank\">https://wandb.ai/abanisingha1997/dl_assignment_1</a>"
            ]
          },
          "metadata": {}
        },
        {
          "output_type": "display_data",
          "data": {
            "text/plain": [
              "<IPython.core.display.HTML object>"
            ],
            "text/html": [
              " View sweep at <a href='https://wandb.ai/abanisingha1997/dl_assignment_1/sweeps/z1scljwl' target=\"_blank\">https://wandb.ai/abanisingha1997/dl_assignment_1/sweeps/z1scljwl</a>"
            ]
          },
          "metadata": {}
        },
        {
          "output_type": "display_data",
          "data": {
            "text/plain": [
              "<IPython.core.display.HTML object>"
            ],
            "text/html": [
              " View run at <a href='https://wandb.ai/abanisingha1997/dl_assignment_1/runs/vqdm861o' target=\"_blank\">https://wandb.ai/abanisingha1997/dl_assignment_1/runs/vqdm861o</a>"
            ]
          },
          "metadata": {}
        },
        {
          "output_type": "stream",
          "name": "stdout",
          "text": [
            "Epoch 1, Loss: 0.6597039587082093 , Accuracy: 73.50833333333333\n",
            "Epoch 2, Loss: 0.5506266008456971 , Accuracy: 80.16458333333333\n",
            "Epoch 3, Loss: 0.48805902426004816 , Accuracy: 82.45416666666667\n",
            "Epoch 4, Loss: 0.5087328726507825 , Accuracy: 81.08125000000001\n",
            "Epoch 5, Loss: 0.4452959446329941 , Accuracy: 83.82916666666667\n",
            "Epoch 6, Loss: 0.40209006714623136 , Accuracy: 85.69583333333334\n",
            "Epoch 7, Loss: 0.40897811731496087 , Accuracy: 85.375\n",
            "Epoch 8, Loss: 0.4035365200531494 , Accuracy: 85.53333333333333\n",
            "Epoch 9, Loss: 0.38041625205587176 , Accuracy: 86.41875\n",
            "Epoch 10, Loss: 0.38045632444711114 , Accuracy: 85.92708333333333\n"
          ]
        },
        {
          "output_type": "display_data",
          "data": {
            "text/plain": [
              "<Figure size 640x480 with 1 Axes>"
            ],
            "image/png": "[encoded data removed]"
          },
          "metadata": {}
        },
        {
          "output_type": "display_data",
          "data": {
            "text/plain": [
              "VBox(children=(Label(value='0.001 MB of 0.011 MB uploaded\\r'), FloatProgress(value=0.09021979894360198, max=1.…"
            ],
            "application/vnd.jupyter.widget-view+json": {
              "version_major": 2,
              "version_minor": 0,
              "model_id": "6d32950eb7114ddbbd031309dc965000"
            }
          },
          "metadata": {}
        },
        {
          "output_type": "display_data",
          "data": {
            "text/plain": [
              "<IPython.core.display.HTML object>"
            ],
            "text/html": [
              "<style>\n",
              "    table.wandb td:nth-child(1) { padding: 0 10px; text-align: left ; width: auto;} td:nth-child(2) {text-align: left ; width: 100%}\n",
              "    .wandb-row { display: flex; flex-direction: row; flex-wrap: wrap; justify-content: flex-start; width: 100% }\n",
              "    .wandb-col { display: flex; flex-direction: column; flex-basis: 100%; flex: 1; padding: 10px; }\n",
              "    </style>\n",
              "<div class=\"wandb-row\"><div class=\"wandb-col\"><h3>Run history:</h3><br/><table class=\"wandb\"><tr><td>Val_accuracy</td><td>▁▅▆▅▆██▇██</td></tr><tr><td>epoch</td><td>▁▂▃▃▄▅▆▆▇█</td></tr><tr><td>train_accuracy</td><td>▁▅▆▅▇█▇███</td></tr><tr><td>train_loss</td><td>█▅▄▄▃▂▂▂▁▁</td></tr></table><br/></div><div class=\"wandb-col\"><h3>Run summary:</h3><br/><table class=\"wandb\"><tr><td>Val_accuracy</td><td>85.05833</td></tr><tr><td>epoch</td><td>9</td></tr><tr><td>train_accuracy</td><td>85.92708</td></tr><tr><td>train_loss</td><td>0.38046</td></tr></table><br/></div></div>"
            ]
          },
          "metadata": {}
        },
        {
          "output_type": "display_data",
          "data": {
            "text/plain": [
              "<IPython.core.display.HTML object>"
            ],
            "text/html": [
              " View run <strong style=\"color:#cdcd00\">easy-sweep-6</strong> at: <a href='https://wandb.ai/abanisingha1997/dl_assignment_1/runs/vqdm861o' target=\"_blank\">https://wandb.ai/abanisingha1997/dl_assignment_1/runs/vqdm861o</a><br/>Synced 5 W&B file(s), 0 media file(s), 0 artifact file(s) and 0 other file(s)"
            ]
          },
          "metadata": {}
        },
        {
          "output_type": "display_data",
          "data": {
            "text/plain": [
              "<IPython.core.display.HTML object>"
            ],
            "text/html": [
              "Find logs at: <code>./wandb/run-20240317_151512-vqdm861o/logs</code>"
            ]
          },
          "metadata": {}
        },
        {
          "output_type": "stream",
          "name": "stderr",
          "text": [
            "\u001b[34m\u001b[1mwandb\u001b[0m: Agent Starting Run: zh7sf37w with config:\n",
            "\u001b[34m\u001b[1mwandb\u001b[0m: \tactivation: sigmoid\n",
            "\u001b[34m\u001b[1mwandb\u001b[0m: \tbatch_size: 32\n",
            "\u001b[34m\u001b[1mwandb\u001b[0m: \tepochs: 10\n",
            "\u001b[34m\u001b[1mwandb\u001b[0m: \thidden_layer: 3\n",
            "\u001b[34m\u001b[1mwandb\u001b[0m: \thidden_size: 128\n",
            "\u001b[34m\u001b[1mwandb\u001b[0m: \tlearning_rate: 0.0001\n",
            "\u001b[34m\u001b[1mwandb\u001b[0m: \toptimizer: adam\n",
            "\u001b[34m\u001b[1mwandb\u001b[0m: \tweight: xavier\n",
            "\u001b[34m\u001b[1mwandb\u001b[0m: \tweight_decay: 0\n"
          ]
        },
        {
          "output_type": "display_data",
          "data": {
            "text/plain": [
              "<IPython.core.display.HTML object>"
            ],
            "text/html": [
              "Tracking run with wandb version 0.16.4"
            ]
          },
          "metadata": {}
        },
        {
          "output_type": "display_data",
          "data": {
            "text/plain": [
              "<IPython.core.display.HTML object>"
            ],
            "text/html": [
              "Run data is saved locally in <code>/content/wandb/run-20240317_152718-zh7sf37w</code>"
            ]
          },
          "metadata": {}
        },
        {
          "output_type": "display_data",
          "data": {
            "text/plain": [
              "<IPython.core.display.HTML object>"
            ],
            "text/html": [
              "Syncing run <strong><a href='https://wandb.ai/abanisingha1997/dl_assignment_1/runs/zh7sf37w' target=\"_blank\">denim-sweep-7</a></strong> to <a href='https://wandb.ai/abanisingha1997/dl_assignment_1' target=\"_blank\">Weights & Biases</a> (<a href='https://wandb.me/run' target=\"_blank\">docs</a>)<br/>Sweep page: <a href='https://wandb.ai/abanisingha1997/dl_assignment_1/sweeps/z1scljwl' target=\"_blank\">https://wandb.ai/abanisingha1997/dl_assignment_1/sweeps/z1scljwl</a>"
            ]
          },
          "metadata": {}
        },
        {
          "output_type": "display_data",
          "data": {
            "text/plain": [
              "<IPython.core.display.HTML object>"
            ],
            "text/html": [
              " View project at <a href='https://wandb.ai/abanisingha1997/dl_assignment_1' target=\"_blank\">https://wandb.ai/abanisingha1997/dl_assignment_1</a>"
            ]
          },
          "metadata": {}
        },
        {
          "output_type": "display_data",
          "data": {
            "text/plain": [
              "<IPython.core.display.HTML object>"
            ],
            "text/html": [
              " View sweep at <a href='https://wandb.ai/abanisingha1997/dl_assignment_1/sweeps/z1scljwl' target=\"_blank\">https://wandb.ai/abanisingha1997/dl_assignment_1/sweeps/z1scljwl</a>"
            ]
          },
          "metadata": {}
        },
        {
          "output_type": "display_data",
          "data": {
            "text/plain": [
              "<IPython.core.display.HTML object>"
            ],
            "text/html": [
              " View run at <a href='https://wandb.ai/abanisingha1997/dl_assignment_1/runs/zh7sf37w' target=\"_blank\">https://wandb.ai/abanisingha1997/dl_assignment_1/runs/zh7sf37w</a>"
            ]
          },
          "metadata": {}
        },
        {
          "output_type": "stream",
          "name": "stdout",
          "text": [
            "Epoch 1, Loss: 0.7635327396566338 , Accuracy: 70.50416666666666\n",
            "Epoch 2, Loss: 0.6014457216774538 , Accuracy: 78.03750000000001\n",
            "Epoch 3, Loss: 0.5046304831581433 , Accuracy: 82.05833333333334\n",
            "Epoch 4, Loss: 0.46145841006703314 , Accuracy: 83.175\n",
            "Epoch 5, Loss: 0.4227285583747762 , Accuracy: 85.00416666666666\n",
            "Epoch 6, Loss: 0.4408553529093246 , Accuracy: 83.7\n",
            "Epoch 7, Loss: 0.41065356447604995 , Accuracy: 85.45416666666667\n",
            "Epoch 8, Loss: 0.3719841939147019 , Accuracy: 86.75208333333333\n",
            "Epoch 9, Loss: 0.3913574428590794 , Accuracy: 85.85625\n",
            "Epoch 10, Loss: 0.365522199759814 , Accuracy: 86.54583333333333\n"
          ]
        },
        {
          "output_type": "display_data",
          "data": {
            "text/plain": [
              "<Figure size 640x480 with 1 Axes>"
            ],
            "image/png": "[encoded data removed]"
          },
          "metadata": {}
        },
        {
          "output_type": "display_data",
          "data": {
            "text/plain": [
              "VBox(children=(Label(value='0.011 MB of 0.011 MB uploaded\\r'), FloatProgress(value=1.0, max=1.0)))"
            ],
            "application/vnd.jupyter.widget-view+json": {
              "version_major": 2,
              "version_minor": 0,
              "model_id": "1399907d10724c6cb71e77197f00a719"
            }
          },
          "metadata": {}
        },
        {
          "output_type": "display_data",
          "data": {
            "text/plain": [
              "<IPython.core.display.HTML object>"
            ],
            "text/html": [
              "<style>\n",
              "    table.wandb td:nth-child(1) { padding: 0 10px; text-align: left ; width: auto;} td:nth-child(2) {text-align: left ; width: 100%}\n",
              "    .wandb-row { display: flex; flex-direction: row; flex-wrap: wrap; justify-content: flex-start; width: 100% }\n",
              "    .wandb-col { display: flex; flex-direction: column; flex-basis: 100%; flex: 1; padding: 10px; }\n",
              "    </style>\n",
              "<div class=\"wandb-row\"><div class=\"wandb-col\"><h3>Run history:</h3><br/><table class=\"wandb\"><tr><td>Val_accuracy</td><td>▁▄▆▇▇▇▇███</td></tr><tr><td>epoch</td><td>▁▂▃▃▄▅▆▆▇█</td></tr><tr><td>train_accuracy</td><td>▁▄▆▆▇▇▇███</td></tr><tr><td>train_loss</td><td>█▅▃▃▂▂▂▁▁▁</td></tr></table><br/></div><div class=\"wandb-col\"><h3>Run summary:</h3><br/><table class=\"wandb\"><tr><td>Val_accuracy</td><td>85.13333</td></tr><tr><td>epoch</td><td>9</td></tr><tr><td>train_accuracy</td><td>86.54583</td></tr><tr><td>train_loss</td><td>0.36552</td></tr></table><br/></div></div>"
            ]
          },
          "metadata": {}
        },
        {
          "output_type": "display_data",
          "data": {
            "text/plain": [
              "<IPython.core.display.HTML object>"
            ],
            "text/html": [
              " View run <strong style=\"color:#cdcd00\">denim-sweep-7</strong> at: <a href='https://wandb.ai/abanisingha1997/dl_assignment_1/runs/zh7sf37w' target=\"_blank\">https://wandb.ai/abanisingha1997/dl_assignment_1/runs/zh7sf37w</a><br/>Synced 5 W&B file(s), 0 media file(s), 0 artifact file(s) and 0 other file(s)"
            ]
          },
          "metadata": {}
        },
        {
          "output_type": "display_data",
          "data": {
            "text/plain": [
              "<IPython.core.display.HTML object>"
            ],
            "text/html": [
              "Find logs at: <code>./wandb/run-20240317_152718-zh7sf37w/logs</code>"
            ]
          },
          "metadata": {}
        }
      ]
    },
    {
      "cell_type": "code",
      "source": [],
      "metadata": {
        "id": "tnWwQ0nL8cC5"
      },
      "execution_count": 19,
      "outputs": []
    },
    {
      "cell_type": "markdown",
      "source": [
        "Optimozers for finding confusion matrix and predicting test accuracy on MNIST data set"
      ],
      "metadata": {
        "id": "ZZhMnu2Zv4zX"
      }
    },
    {
      "cell_type": "code",
      "source": [
        "def opt_RMSprop(lr, theta, x_train, y_train,X_valid, Y_valid,activ_fun, epochs, num_hidden_layer, input_size,batch_size, eps=0.01, beta=0.9):\n",
        "    losses = []\n",
        "    length = x_train.shape[0]\n",
        "    v = {key: np.zeros_like(value) for key, value in theta.items()}\n",
        "    prev_v = {key: np.zeros_like(value) for key, value in theta.items()}\n",
        "    for epoch in range(epochs):\n",
        "        no_of_pts = 0\n",
        "        loss = 0\n",
        "        grad_new = {key: np.zeros_like(value) for key, value in theta.items()}\n",
        "        for j in range(length):\n",
        "            no_of_pts += 1\n",
        "            x = x_train[j, :].reshape(-1, 1)\n",
        "            y_actual = y_train[j, :].reshape(-1, 1)\n",
        "            grad = back_prop(x, y_actual,activ_fun, num_hidden_layer, theta, input_size)\n",
        "            for i in range(num_hidden_layer+1, 0, -1):\n",
        "                grad_new['W'+str(i)] += grad['W'+str(i)]\n",
        "                grad_new['b'+str(i)] += grad['b'+str(i)]\n",
        "\n",
        "            if no_of_pts % batch_size == 0:\n",
        "\n",
        "              for i in range(1, num_hidden_layer + 2):\n",
        "                  # Update velocity\n",
        "                  v['W' + str(i)] = beta * prev_v['W' + str(i)] + (1-beta)* ((grad_new['W'+str(i)])**2)\n",
        "                  v['b' + str(i)] = beta * prev_v['b' + str(i)] + (1-beta)* ((grad_new['b'+str(i)])**2)\n",
        "\n",
        "              for i in range(1, num_hidden_layer + 2):\n",
        "                  # Update parameters\n",
        "                  theta['W' + str(i)] -= (lr/ (np.sqrt(v['W' + str(i)] + eps)) )*grad_new['W'+str(i)]\n",
        "                  theta['b' + str(i)] -= (lr/ (np.sqrt(v['b' + str(i)] + eps)) )*grad_new['b'+str(i)]\n",
        "\n",
        "              for i in range(1, num_hidden_layer + 2):\n",
        "                  prev_v['W' + str(i)] = v['W' + str(i)]\n",
        "                  prev_v['b' + str(i)] = v['b' + str(i)]\n",
        "\n",
        "\n",
        "        acc = calculate_accuracy(x_train,y_train,theta,activ_fun, num_hidden_layer,input_size)\n",
        "        a, _, y_pred = forword_prop(x_train.T,theta,activ_fun, num_hidden_layer,input_size)\n",
        "        loss = cross_entropy(y_train.T, y_pred)\n",
        "        losses.append(loss)\n",
        "        validation_accuracy = calculate_accuracy(X_valid,Y_valid,theta,activ_fun, num_hidden_layer,input_size)\n",
        "        print(f\"Epoch {epoch+1}, Train_Loss: {loss} , Train_Accuracy: {acc*100},Test accutacy: {validation_accuracy*100}\")\n",
        "\n",
        "    # Plot the loss function over epochs\n",
        "    plt.plot(losses)\n",
        "    plt.xlabel('Epoch')\n",
        "    plt.ylabel('Loss')\n",
        "    plt.title('Training Loss over Epochs')\n",
        "    plt.show()\n",
        "\n",
        "    return theta\n",
        "\n",
        "def opt_Adam(lr, theta, x_train, y_train, X_valid, Y_valid, activ_fun, epochs, num_hidden_layer, input_size,batch_size,eps, beta1=0.9,beta2= 0.99):\n",
        "    losses = []\n",
        "    length = x_train.shape[0]\n",
        "    v = {key: np.zeros_like(value) for key, value in theta.items()}\n",
        "    prev_v = {key: np.zeros_like(value) for key, value in theta.items()}\n",
        "    v_cap = {key: np.zeros_like(value) for key, value in theta.items()}\n",
        "\n",
        "    m = {key: np.zeros_like(value) for key, value in theta.items()}\n",
        "    prev_m = {key: np.zeros_like(value) for key, value in theta.items()}\n",
        "    m_cap = {key: np.zeros_like(value) for key, value in theta.items()}\n",
        "\n",
        "    for epoch in range(epochs):\n",
        "        t = 0\n",
        "        no_of_pts = 0\n",
        "        loss = 0\n",
        "        grad_new = {key: np.zeros_like(value) for key, value in theta.items()}\n",
        "        for j in range(length):\n",
        "            x = x_train[j, :].reshape(-1, 1)\n",
        "            y_actual = y_train[j, :].reshape(-1, 1)\n",
        "            grad = back_prop(x, y_actual,activ_fun, num_hidden_layer, theta, input_size)\n",
        "            for i in range(num_hidden_layer+1, 0, -1):\n",
        "                grad_new['W'+str(i)] += grad['W'+str(i)]\n",
        "                grad_new['b'+str(i)] += grad['b'+str(i)]\n",
        "\n",
        "            no_of_pts = no_of_pts + 1\n",
        "            if no_of_pts % batch_size == 0:\n",
        "              t = t + 1\n",
        "\n",
        "              for i in range(1, num_hidden_layer + 2):\n",
        "                  m['W' + str(i)] = beta1 * prev_m['W' + str(i)] + (1-beta1)* grad_new['W'+str(i)]\n",
        "                  m['b' + str(i)] = beta1 * prev_m['b' + str(i)] + (1-beta1)* grad_new['b'+str(i)]\n",
        "\n",
        "              for i in range(1, num_hidden_layer + 2):\n",
        "                  m_cap['W' + str(i)] = (1/(1-np.power(beta1,t))) * m['W' + str(i)]\n",
        "                  m_cap['b' + str(i)] = (1/(1-np.power(beta1,t))) * m['b' + str(i)]\n",
        "                  prev_m['W' + str(i)] = m['W' + str(i)]\n",
        "                  prev_m['b' + str(i)] = m['b' + str(i)]\n",
        "\n",
        "              for i in range(1, num_hidden_layer + 2):\n",
        "                  v['W' + str(i)] = beta2 * prev_v['W' + str(i)] + (1-beta2)* ((grad_new['W'+str(i)])**2)\n",
        "                  v['b' + str(i)] = beta2 * prev_v['b' + str(i)] + (1-beta2)* ((grad_new['b'+str(i)])**2)\n",
        "\n",
        "              for i in range(1, num_hidden_layer + 2):\n",
        "                  v_cap['W' + str(i)] = (1/(1-np.power(beta2,t))) * v['W' + str(i)]\n",
        "                  v_cap['b' + str(i)] = (1/(1-np.power(beta2,t))) * v['b' + str(i)]\n",
        "                  prev_v['W' + str(i)] = v['W' + str(i)]\n",
        "                  prev_v['b' + str(i)] = v['b' + str(i)]\n",
        "\n",
        "\n",
        "              for i in range(1, num_hidden_layer + 2):\n",
        "                  # Update parameters\n",
        "                  theta['W' + str(i)] -= (lr/ (np.sqrt(v_cap['W' + str(i)] + eps)) )*(m_cap['W'+str(i)])\n",
        "                  theta['b' + str(i)] -= (lr/ (np.sqrt(v_cap['b' + str(i)] + eps)) )*(m_cap['b'+str(i)])\n",
        "\n",
        "\n",
        "        acc = calculate_accuracy(x_train,y_train,theta,activ_fun, num_hidden_layer,input_size)\n",
        "        a, _, y_pred = forword_prop(x_train.T,theta,activ_fun, num_hidden_layer,input_size)\n",
        "        loss = cross_entropy(y_train.T, y_pred)\n",
        "        losses.append(loss)\n",
        "        validation_accuracy = calculate_accuracy(X_valid,Y_valid,theta,activ_fun, num_hidden_layer,input_size)\n",
        "        print(f\"Epoch {epoch+1}, Train_Loss: {loss} , Train_Accuracy: {acc*100},Test accutacy: {validation_accuracy*100}\")\n",
        "    # Plot the loss function over epochs\n",
        "    plt.plot(losses)\n",
        "    plt.xlabel('Epoch')\n",
        "    plt.ylabel('Loss')\n",
        "    plt.title('Training Loss over Epochs')\n",
        "    plt.show()\n",
        "\n",
        "    return theta\n",
        "\n",
        "def opt_Nadam(lr, theta, x_train, y_train,X_valid, Y_valid,activ_fun, epochs, num_hidden_layer, input_size, batch_size,eps, beta1=0.9,beta2=0.99):\n",
        "    losses = []\n",
        "    length = x_train.shape[0]\n",
        "    v = {key: np.zeros_like(value) for key, value in theta.items()}\n",
        "    prev_v = {key: np.zeros_like(value) for key, value in theta.items()}\n",
        "    v_cap = {key: np.zeros_like(value) for key, value in theta.items()}\n",
        "\n",
        "    m = {key: np.zeros_like(value) for key, value in theta.items()}\n",
        "    prev_m = {key: np.zeros_like(value) for key, value in theta.items()}\n",
        "    m_cap = {key: np.zeros_like(value) for key, value in theta.items()}\n",
        "\n",
        "    for epoch in range(epochs):\n",
        "        t = 0\n",
        "        no_of_pts = 0\n",
        "        loss = 0\n",
        "        grad_new = {key: np.zeros_like(value) for key, value in theta.items()}\n",
        "        for j in range(length):\n",
        "            x = x_train[j, :].reshape(-1, 1)\n",
        "            y_actual = y_train[j, :].reshape(-1, 1)\n",
        "            grad = back_prop(x, y_actual,activ_fun, num_hidden_layer, theta, input_size)\n",
        "            for i in range(num_hidden_layer+1, 0, -1):\n",
        "                grad_new['W'+str(i)] += grad['W'+str(i)]\n",
        "                grad_new['b'+str(i)] += grad['b'+str(i)]\n",
        "\n",
        "            no_of_pts += 1\n",
        "            if no_of_pts % batch_size == 0:\n",
        "              t = t + 1\n",
        "\n",
        "              for i in range(1, num_hidden_layer + 2):\n",
        "                  m['W' + str(i)] = beta1 * prev_m['W' + str(i)] + (1-beta1)* grad_new['W'+str(i)]\n",
        "                  m['b' + str(i)] = beta1 * prev_m['b' + str(i)] + (1-beta1)* grad_new['b'+str(i)]\n",
        "\n",
        "              for i in range(1, num_hidden_layer + 2):\n",
        "                  m_cap['W' + str(i)] = (1/(1-np.power(beta1,t))) * m['W' + str(i)]\n",
        "                  m_cap['b' + str(i)] = (1/(1-np.power(beta1,t))) * m['b' + str(i)]\n",
        "                  prev_m['W' + str(i)] = m['W' + str(i)]\n",
        "                  prev_m['b' + str(i)] = m['b' + str(i)]\n",
        "\n",
        "              for i in range(1, num_hidden_layer + 2):\n",
        "                  v['W' + str(i)] = beta2 * prev_v['W' + str(i)] + (1-beta2)* ((grad_new['W'+str(i)])**2)\n",
        "                  v['b' + str(i)] = beta2 * prev_v['b' + str(i)] + (1-beta2)* ((grad_new['b'+str(i)])**2)\n",
        "\n",
        "              for i in range(1, num_hidden_layer + 2):\n",
        "                  v_cap['W' + str(i)] = (1/(1-np.power(beta2,t))) * v['W' + str(i)]\n",
        "                  v_cap['b' + str(i)] = (1/(1-np.power(beta2,t))) * v['b' + str(i)]\n",
        "                  prev_v['W' + str(i)] = v['W' + str(i)]\n",
        "                  prev_v['b' + str(i)] = v['b' + str(i)]\n",
        "\n",
        "\n",
        "              for i in range(1, num_hidden_layer + 2):\n",
        "                  # Update parameters\n",
        "                  theta['W' + str(i)] -= (lr/ (np.sqrt(v_cap['W' + str(i)] + eps)) )*(beta1*(m_cap['W'+str(i)])+((1-beta1)*(grad_new['W'+str(i)]))/(1-np.power(beta1,t)))\n",
        "                  theta['b' + str(i)] -= (lr/ (np.sqrt(v_cap['b' + str(i)] + eps)) )*(beta1*(m_cap['b'+str(i)])+((1-beta1)*(grad_new['b'+str(i)]))/(1-np.power(beta1,t)))\n",
        "\n",
        "        acc = calculate_accuracy(x_train,y_train,theta,activ_fun, num_hidden_layer,input_size)\n",
        "        a, _, y_pred = forword_prop(x_train.T,theta,activ_fun, num_hidden_layer,input_size)\n",
        "        loss = cross_entropy(y_train.T, y_pred)\n",
        "        losses.append(loss)\n",
        "        test_accuracy = calculate_accuracy(X_valid,Y_valid,theta,activ_fun, num_hidden_layer,input_size)\n",
        "\n",
        "        print(f\"Epoch {epoch+1}, Train_Loss: {loss} , Train_Accuracy: {acc*100},Test accutacy: {test_accuracy*100}\")\n",
        "\n",
        "    plt.plot(losses)\n",
        "    plt.xlabel('Epoch')\n",
        "    plt.ylabel('Loss')\n",
        "    plt.title('Training Loss over Epochs')\n",
        "    plt.show()\n",
        "\n",
        "    return theta\n"
      ],
      "metadata": {
        "id": "WfsH4sSvwPQT"
      },
      "execution_count": 23,
      "outputs": []
    },
    {
      "cell_type": "markdown",
      "source": [
        "Question-7"
      ],
      "metadata": {
        "id": "i0T-dPk05NDY"
      }
    },
    {
      "cell_type": "markdown",
      "source": [
        "Ideal hyperparameters for Neural Network model"
      ],
      "metadata": {
        "id": "M31V2VULluYo"
      }
    },
    {
      "cell_type": "code",
      "source": [
        "ideal_epochs = 10\n",
        "ideal_weight = 'xavier'\n",
        "ideal_activ_func = 'relu'\n",
        "ideal_hidden_size = 128\n",
        "ideal_batch_size = 64\n",
        "ideal_optimizer = 'RMSprop'\n",
        "ideal_hidden_layer = 5\n",
        "ideal_weight_decay = 0\n",
        "ideal_learning_rate = 0.0001\n",
        "\n",
        "\n"
      ],
      "metadata": {
        "id": "MRL7AWnZNoEB"
      },
      "execution_count": 28,
      "outputs": []
    },
    {
      "cell_type": "code",
      "source": [],
      "metadata": {
        "id": "xSYyatUsgO8l"
      },
      "execution_count": 21,
      "outputs": []
    },
    {
      "cell_type": "code",
      "source": [
        "W_b1 = init_network( num_hidden_layer=5, num_nodes_hidden_layers=128, weight='xavier',input_size=784 , output_size=10 )\n",
        "W_b_rms= opt_RMSprop(0.0001, W_b1, X_train, Y_train, X_test, Y_test,activ_fun='relu', epochs=10, num_hidden_layer=5, input_size=784 ,batch_size=64, eps=0.01, beta=0.9)\n"
      ],
      "metadata": {
        "id": "khCAnohSOF-e",
        "colab": {
          "base_uri": "https://localhost:8080/",
          "height": 646
        },
        "outputId": "3529ba5f-424f-46f2-ba11-0d2e10bdec5f"
      },
      "execution_count": 29,
      "outputs": [
        {
          "output_type": "stream",
          "name": "stdout",
          "text": [
            "Epoch 1, Train_Loss: 0.4354403465642966 , Train_Accuracy: 84.75833333333334,Test accutacy: 83.41\n",
            "Epoch 2, Train_Loss: 0.3673515155849908 , Train_Accuracy: 86.49791666666667,Test accutacy: 84.92\n",
            "Epoch 3, Train_Loss: 0.35373460653841654 , Train_Accuracy: 86.94166666666666,Test accutacy: 85.27\n",
            "Epoch 4, Train_Loss: 0.3218450315680517 , Train_Accuracy: 88.225,Test accutacy: 85.5\n",
            "Epoch 5, Train_Loss: 0.3121024772922906 , Train_Accuracy: 88.55208333333333,Test accutacy: 85.92\n",
            "Epoch 6, Train_Loss: 0.31300525882792696 , Train_Accuracy: 88.61458333333333,Test accutacy: 85.97\n",
            "Epoch 7, Train_Loss: 0.3190981849010609 , Train_Accuracy: 88.2375,Test accutacy: 85.72999999999999\n",
            "Epoch 8, Train_Loss: 0.3065201956746658 , Train_Accuracy: 88.9875,Test accutacy: 86.09\n",
            "Epoch 9, Train_Loss: 0.3019537351290705 , Train_Accuracy: 89.21666666666667,Test accutacy: 86.63\n",
            "Epoch 10, Train_Loss: 0.29943219588903086 , Train_Accuracy: 89.0,Test accutacy: 86.39\n"
          ]
        },
        {
          "output_type": "display_data",
          "data": {
            "text/plain": [
              "<Figure size 640x480 with 1 Axes>"
            ],
            "image/png": "[encoded data removed]"
          },
          "metadata": {}
        }
      ]
    },
    {
      "cell_type": "code",
      "source": [],
      "metadata": {
        "id": "xgzqLQjx2jqD"
      },
      "execution_count": null,
      "outputs": []
    },
    {
      "cell_type": "code",
      "source": [
        "y_test_label = []\n",
        "y_test_pred_label = []\n",
        "l = X_test.shape[0]\n",
        "for i in range(l):\n",
        "  X_tes = X_test[i,:].reshape(-1, 1)\n",
        "  a,h,y_test_pred = forword_prop(X_tes,W_b_rms, activ_fun='relu', num_hidden_layer=5,input_size=784)\n",
        "  y1 = np.argmax(Y_test[i,:].reshape(-1, 1), axis = 0)\n",
        "  y_test_label.append(y1)\n",
        "  y2 = np.argmax(y_test_pred, axis = 0)\n",
        "  y_test_pred_label.append(y2)\n",
        "\n",
        "from sklearn.metrics import confusion_matrix, ConfusionMatrixDisplay\n",
        "\n",
        "cm = confusion_matrix(y_test_label[:10000], y_test_pred_label[:10000])\n",
        "\n",
        "class_labels = [\"T-shirt/top\", \"Trouser\", \"Pullover\", \"Dress\",\"Coat\",\"Sandal\",\"Shirt\", \"Sneaker\", \"Bag\",\"Ankle boot\"]\n",
        "\n",
        "cm_display = ConfusionMatrixDisplay(confusion_matrix=cm, display_labels=class_labels)\n",
        "\n",
        "# Plot the confusion matrix\n",
        "fig, ax = plt.subplots(figsize=(10, 8))\n",
        "cm_display.plot(ax=ax, cmap=plt.cm.Reds)\n",
        "plt.title('Confusion Matrix')\n",
        "plt.xlabel('Predicted Label')\n",
        "plt.ylabel('True Label')\n",
        "plt.show()\n"
      ],
      "metadata": {
        "colab": {
          "base_uri": "https://localhost:8080/",
          "height": 718
        },
        "id": "aZP70346hw3Y",
        "outputId": "2982a8a5-bd2a-4407-a472-f2b0ca1a5317"
      },
      "execution_count": 35,
      "outputs": [
        {
          "output_type": "display_data",
          "data": {
            "text/plain": [
              "<Figure size 1000x800 with 2 Axes>"
            ],
            "image/png": "[encoded data removed]"
          },
          "metadata": {}
        }
      ]
    },
    {
      "cell_type": "code",
      "source": [],
      "metadata": {
        "id": "DkQjeDT2s9TW"
      },
      "execution_count": null,
      "outputs": []
    },
    {
      "cell_type": "code",
      "source": [],
      "metadata": {
        "id": "RA5Ws1Eqi2wc"
      },
      "execution_count": null,
      "outputs": []
    },
    {
      "cell_type": "markdown",
      "source": [
        "Question-10"
      ],
      "metadata": {
        "id": "-f2OmXF95VeT"
      }
    },
    {
      "cell_type": "code",
      "source": [],
      "metadata": {
        "id": "52tjA8Cslbrc"
      },
      "execution_count": null,
      "outputs": []
    },
    {
      "cell_type": "code",
      "source": [],
      "metadata": {
        "id": "JQuBGPbgojBS"
      },
      "execution_count": null,
      "outputs": []
    },
    {
      "cell_type": "code",
      "execution_count": 36,
      "metadata": {
        "colab": {
          "base_uri": "https://localhost:8080/"
        },
        "id": "Y0gk9etK9KVz",
        "outputId": "489479ab-58d3-488d-bb56-b7c4f892773c"
      },
      "outputs": [
        {
          "output_type": "stream",
          "name": "stdout",
          "text": [
            "Downloading data from https://storage.googleapis.com/tensorflow/tf-keras-datasets/mnist.npz\n",
            "11490434/11490434 [==============================] - 0s 0us/step\n",
            "(60000, 28, 28) (60000,) (10000, 28, 28) (10000,)\n"
          ]
        }
      ],
      "source": [
        "from keras.datasets import mnist\n",
        "(Xtrain, ytrain), (Xtest, ytest) = mnist.load_data()\n",
        "print(Xtrain.shape, ytrain.shape, Xtest.shape, ytest.shape)"
      ]
    },
    {
      "cell_type": "code",
      "source": [
        "import numpy as np\n",
        "import matplotlib.pyplot as plt\n",
        "\n",
        "# Flatten the image data\n",
        "X_train = Xtrain.reshape(Xtrain.shape[0], -1)\n",
        "X_test = Xtest.reshape(Xtest.shape[0], -1)\n",
        "\n",
        "# Normalize the image data\n",
        "MX_train = X_train / 255.0\n",
        "MX_test = X_test / 255.0\n",
        "\n",
        "def one_hot_encod(arr):\n",
        "  mat = np.zeros((len(arr),10))\n",
        "  for i in range(len(arr)):\n",
        "    mat[i,arr[i]] = 1\n",
        "  return mat\n",
        "# Convert labels to one-hot encoding\n",
        "MY_train =  one_hot_encod(ytrain)\n",
        "MY_test =  one_hot_encod(ytest)\n",
        "print(\"Training images shape:\", MX_train.shape)\n",
        "print(\"Training labels shape:\", MY_train.shape)\n",
        "print(\"Testing images shape:\", MX_test.shape)\n",
        "print(\"Testing labels shape:\", MY_test.shape)\n"
      ],
      "metadata": {
        "colab": {
          "base_uri": "https://localhost:8080/"
        },
        "id": "8Smrg2N99asV",
        "outputId": "9e76e093-0309-4ee9-cc6e-fcc9675ac885"
      },
      "execution_count": 37,
      "outputs": [
        {
          "output_type": "stream",
          "name": "stdout",
          "text": [
            "Training images shape: (60000, 784)\n",
            "Training labels shape: (60000, 10)\n",
            "Testing images shape: (10000, 784)\n",
            "Testing labels shape: (10000, 10)\n"
          ]
        }
      ]
    },
    {
      "cell_type": "code",
      "source": [
        "#---------------------------------------------------\n",
        "#lr = 0.0001 , num_hidden_layer = 5 , num_nodes_hidden_layers= 128, weight = xavior, activ_fun = 'relu' , epoch = 10 , batch_size = 64\n",
        "#----------------------------------------------------\n",
        "W_b1 = init_network( num_hidden_layer=5, num_nodes_hidden_layers=128, weight='xavier',input_size=784 , output_size=10 )\n",
        "Wb1 =opt_RMSprop(0.0001, W_b1, MX_train, MY_train,MX_test, MY_test,activ_fun='relu', epochs=10, num_hidden_layer=5, input_size=784 ,batch_size=64, eps=0.01, beta=0.9)\n",
        "\n",
        "#---------------------------------------------------\n",
        "# lr = 0.0001 , num_hidden_layer = 3 , num_nodes_hidden_layers= 128, weight = xavior, activ_fun = 'sigmoid' , epoch = 10 , batch_size = 32\n",
        "#----------------------------------------------------\n",
        "W_b2 = init_network( num_hidden_layer=3, num_nodes_hidden_layers=128, weight='xavier',input_size=784 , output_size=10 )\n",
        "Wb2 = opt_Adam(0.0001,  W_b2, MX_train, MY_train,MX_test, MY_test, activ_fun='sigmoid', epochs=10, num_hidden_layer=3, input_size=784,batch_size=32 ,eps=0.01, beta1=0.9,beta2= 0.99)\n",
        "\n",
        "\n",
        "#---------------------------------------------------\n",
        "# lr = 0.0001 , num_hidden_layer = 3 , num_nodes_hidden_layers= 64, weight = xavior, activ_fun = 'relu' , epoch = 10 , batch_size = 32\n",
        "#----------------------------------------------------\n",
        "W_b3 = init_network(num_hidden_layer=3, num_nodes_hidden_layers=64, weight='xavier',input_size=784 , output_size=10)\n",
        "Wb3 = opt_Nadam(0.0001, W_b3, MX_train, MY_train,MX_test, MY_test,activ_fun='relu', epochs=10, num_hidden_layer=3, input_size=784,batch_size=32,eps=0.01, beta1=0.9,beta2=0.99)\n"
      ],
      "metadata": {
        "id": "cVTb8eU49v22",
        "colab": {
          "base_uri": "https://localhost:8080/",
          "height": 1000
        },
        "outputId": "59daf9d5-cee4-4867-fba3-cd0a44ec64e8"
      },
      "execution_count": 38,
      "outputs": [
        {
          "output_type": "stream",
          "name": "stdout",
          "text": [
            "Epoch 1, Train_Loss: 0.19126528975616267 , Train_Accuracy: 94.36833333333333,Test accutacy: 93.94\n",
            "Epoch 2, Train_Loss: 0.13320472120806115 , Train_Accuracy: 95.95666666666666,Test accutacy: 95.42\n",
            "Epoch 3, Train_Loss: 0.1181956397053852 , Train_Accuracy: 96.485,Test accutacy: 95.61\n",
            "Epoch 4, Train_Loss: 0.10071412550091505 , Train_Accuracy: 96.99833333333333,Test accutacy: 96.26\n",
            "Epoch 5, Train_Loss: 0.10695126035182483 , Train_Accuracy: 96.82166666666666,Test accutacy: 96.04\n",
            "Epoch 6, Train_Loss: 0.08601618548002404 , Train_Accuracy: 97.52333333333333,Test accutacy: 96.72\n",
            "Epoch 7, Train_Loss: 0.08932753549225876 , Train_Accuracy: 97.39166666666667,Test accutacy: 96.14\n",
            "Epoch 8, Train_Loss: 0.08572184231219941 , Train_Accuracy: 97.585,Test accutacy: 96.39\n",
            "Epoch 9, Train_Loss: 0.08522840034022541 , Train_Accuracy: 97.56,Test accutacy: 96.52\n",
            "Epoch 10, Train_Loss: 0.0921404587970093 , Train_Accuracy: 97.69833333333334,Test accutacy: 96.17\n"
          ]
        },
        {
          "output_type": "display_data",
          "data": {
            "text/plain": [
              "<Figure size 640x480 with 1 Axes>"
            ],
            "image/png": "[encoded data removed]"
          },
          "metadata": {}
        },
        {
          "output_type": "stream",
          "name": "stdout",
          "text": [
            "Epoch 1, Train_Loss: 0.42734141605790105 , Train_Accuracy: 87.54333333333332,Test accutacy: 87.46000000000001\n",
            "Epoch 2, Train_Loss: 0.21527260127855388 , Train_Accuracy: 93.66666666666667,Test accutacy: 93.56\n",
            "Epoch 3, Train_Loss: 0.1576633449975645 , Train_Accuracy: 95.33333333333334,Test accutacy: 94.82000000000001\n",
            "Epoch 4, Train_Loss: 0.14056215497814115 , Train_Accuracy: 95.92166666666667,Test accutacy: 95.3\n",
            "Epoch 5, Train_Loss: 0.11816230470067837 , Train_Accuracy: 96.61166666666666,Test accutacy: 95.64\n",
            "Epoch 6, Train_Loss: 0.10104782218882714 , Train_Accuracy: 97.03333333333333,Test accutacy: 95.96000000000001\n",
            "Epoch 7, Train_Loss: 0.09332385818603273 , Train_Accuracy: 97.13000000000001,Test accutacy: 96.14\n",
            "Epoch 8, Train_Loss: 0.08269469398402911 , Train_Accuracy: 97.36666666666667,Test accutacy: 96.27\n",
            "Epoch 9, Train_Loss: 0.06650275027466399 , Train_Accuracy: 97.91833333333332,Test accutacy: 96.52\n",
            "Epoch 10, Train_Loss: 0.06059511366151509 , Train_Accuracy: 98.20333333333333,Test accutacy: 96.84\n"
          ]
        },
        {
          "output_type": "display_data",
          "data": {
            "text/plain": [
              "<Figure size 640x480 with 1 Axes>"
            ],
            "image/png": "[encoded data removed]"
          },
          "metadata": {}
        },
        {
          "output_type": "stream",
          "name": "stdout",
          "text": [
            "Epoch 1, Train_Loss: 0.2792105460269758 , Train_Accuracy: 92.04,Test accutacy: 91.99000000000001\n",
            "Epoch 2, Train_Loss: 0.18398731323043854 , Train_Accuracy: 94.61,Test accutacy: 93.88\n",
            "Epoch 3, Train_Loss: 0.15576184236775306 , Train_Accuracy: 95.35166666666667,Test accutacy: 94.71000000000001\n",
            "Epoch 4, Train_Loss: 0.12625121381744908 , Train_Accuracy: 96.19333333333333,Test accutacy: 95.42\n",
            "Epoch 5, Train_Loss: 0.12031648782173814 , Train_Accuracy: 96.355,Test accutacy: 95.52000000000001\n",
            "Epoch 6, Train_Loss: 0.11773124299317385 , Train_Accuracy: 96.525,Test accutacy: 95.6\n",
            "Epoch 7, Train_Loss: 0.11107677125164958 , Train_Accuracy: 96.62333333333333,Test accutacy: 95.41\n",
            "Epoch 8, Train_Loss: 0.11212992305748376 , Train_Accuracy: 96.71166666666666,Test accutacy: 95.56\n",
            "Epoch 9, Train_Loss: 0.10062104461788521 , Train_Accuracy: 97.015,Test accutacy: 95.64\n",
            "Epoch 10, Train_Loss: 0.09379531568787171 , Train_Accuracy: 97.23166666666667,Test accutacy: 95.89999999999999\n"
          ]
        },
        {
          "output_type": "display_data",
          "data": {
            "text/plain": [
              "<Figure size 640x480 with 1 Axes>"
            ],
            "image/png": "[encoded data removed]"
          },
          "metadata": {}
        }
      ]
    },
    {
      "cell_type": "code",
      "source": [],
      "metadata": {
        "id": "l29hp8wbmHh6"
      },
      "execution_count": null,
      "outputs": []
    },
    {
      "cell_type": "code",
      "source": [],
      "metadata": {
        "id": "NgwKepewmIVK"
      },
      "execution_count": null,
      "outputs": []
    }
  ]
}